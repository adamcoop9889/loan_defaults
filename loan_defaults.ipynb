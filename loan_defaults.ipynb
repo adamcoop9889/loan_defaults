{
 "cells": [
  {
   "cell_type": "markdown",
   "metadata": {
    "_cell_guid": "2f7a0904-0c00-44ab-94d2-5e384a712179",
    "_uuid": "459c4e0f50d6d1e05e1d6e56fcd608b5ef97fcfa"
   },
   "source": [
    "# Predicting customers who will \"charge-off\""
   ]
  },
  {
   "cell_type": "markdown",
   "metadata": {
    "_cell_guid": "1035f4c9-a6a2-4134-8790-ea463d04141e",
    "_uuid": "6f691b352c268a6d8327ba8af16d192d9f2f63d7"
   },
   "source": [
    "#Define charge-off\n",
    "Steps:\n",
    "1. Data Cleaning\n",
    "2. Feature selection and transformation\n",
    "3. Build the models\n",
    "4. Test the models"
   ]
  },
  {
   "cell_type": "markdown",
   "metadata": {},
   "source": [
    "Before starting: Install the imblearn python package on your computer! \n",
    "    \n",
    "    Run the following in terminal: pip install -U imbalanced-learn"
   ]
  },
  {
   "cell_type": "markdown",
   "metadata": {
    "_cell_guid": "f301410c-84bb-43cc-b933-612fc4737a6d",
    "_uuid": "c5f69760a462376cb9161f7ba7f8de121a0df996"
   },
   "source": [
    "Let's load the libraries, connect to the database, parse dates and load all data in-memory. Make sure the three files database.sqlite, LCDataDictionary.xlsx, and loan.csv are all in the same folder as this notebook."
   ]
  },
  {
   "cell_type": "code",
   "execution_count": 1,
   "metadata": {
    "_cell_guid": "a5dcdb06-f087-4af2-b669-102ce442834f",
    "_uuid": "a1a8dd2e4f8b7271434c1832738d1339485e8fa5"
   },
   "outputs": [],
   "source": [
    "import sqlite3 #this library manages sql databases\n",
    "import pandas as pd  #this library enables data manipulation and analysis methods to be used in Python\n",
    "import numpy as np #this library focuses on scientific computing and using arrays and matrices\n",
    "%matplotlib inline \n",
    "\n",
    "import matplotlib.pyplot as plt #this imports the matplotlib library, along with the interactive plotting pylab modul\n",
    "from datetime import datetime"
   ]
  },
  {
   "cell_type": "code",
   "execution_count": 3,
   "metadata": {},
   "outputs": [],
   "source": [
    "test_data = pd.read_csv(\"test_data_cleaned.gz\", compression='gzip', header=0, sep=',', quotechar='\"')"
   ]
  },
  {
   "cell_type": "code",
   "execution_count": 4,
   "metadata": {},
   "outputs": [],
   "source": [
    "loan_data = pd.read_csv('loan_data_cleaned.gz', compression='gzip', header=0, sep=',', quotechar='\"')"
   ]
  },
  {
   "cell_type": "markdown",
   "metadata": {},
   "source": [
    "This illusrates my concation process, DO NOT RUN AS PART OF CODE"
   ]
  },
  {
   "cell_type": "code",
   "execution_count": 3,
   "metadata": {},
   "outputs": [
    {
     "name": "stderr",
     "output_type": "stream",
     "text": [
      "/anaconda3/lib/python3.6/site-packages/IPython/core/interactiveshell.py:2785: DtypeWarning: Columns (0,19) have mixed types. Specify dtype option on import or set low_memory=False.\n",
      "  interactivity=interactivity, compiler=compiler, result=result)\n"
     ]
    }
   ],
   "source": [
    "df_2014 = pd.read_csv('LoanStats3c.csv', header = 1)"
   ]
  },
  {
   "cell_type": "code",
   "execution_count": 4,
   "metadata": {},
   "outputs": [
    {
     "data": {
      "text/plain": [
       "(235631, 145)"
      ]
     },
     "execution_count": 4,
     "metadata": {},
     "output_type": "execute_result"
    }
   ],
   "source": [
    "df_2014.shape "
   ]
  },
  {
   "cell_type": "code",
   "execution_count": 5,
   "metadata": {},
   "outputs": [
    {
     "data": {
      "text/html": [
       "<div>\n",
       "<style scoped>\n",
       "    .dataframe tbody tr th:only-of-type {\n",
       "        vertical-align: middle;\n",
       "    }\n",
       "\n",
       "    .dataframe tbody tr th {\n",
       "        vertical-align: top;\n",
       "    }\n",
       "\n",
       "    .dataframe thead th {\n",
       "        text-align: right;\n",
       "    }\n",
       "</style>\n",
       "<table border=\"1\" class=\"dataframe\">\n",
       "  <thead>\n",
       "    <tr style=\"text-align: right;\">\n",
       "      <th></th>\n",
       "      <th>id</th>\n",
       "      <th>member_id</th>\n",
       "      <th>loan_amnt</th>\n",
       "      <th>funded_amnt</th>\n",
       "      <th>funded_amnt_inv</th>\n",
       "      <th>term</th>\n",
       "      <th>int_rate</th>\n",
       "      <th>installment</th>\n",
       "      <th>grade</th>\n",
       "      <th>sub_grade</th>\n",
       "      <th>...</th>\n",
       "      <th>hardship_payoff_balance_amount</th>\n",
       "      <th>hardship_last_payment_amount</th>\n",
       "      <th>disbursement_method</th>\n",
       "      <th>debt_settlement_flag</th>\n",
       "      <th>debt_settlement_flag_date</th>\n",
       "      <th>settlement_status</th>\n",
       "      <th>settlement_date</th>\n",
       "      <th>settlement_amount</th>\n",
       "      <th>settlement_percentage</th>\n",
       "      <th>settlement_term</th>\n",
       "    </tr>\n",
       "  </thead>\n",
       "  <tbody>\n",
       "    <tr>\n",
       "      <th>0</th>\n",
       "      <td>NaN</td>\n",
       "      <td>NaN</td>\n",
       "      <td>10400.0</td>\n",
       "      <td>10400.0</td>\n",
       "      <td>10400.0</td>\n",
       "      <td>36 months</td>\n",
       "      <td>6.99%</td>\n",
       "      <td>321.08</td>\n",
       "      <td>A</td>\n",
       "      <td>A3</td>\n",
       "      <td>...</td>\n",
       "      <td>NaN</td>\n",
       "      <td>NaN</td>\n",
       "      <td>Cash</td>\n",
       "      <td>N</td>\n",
       "      <td>NaN</td>\n",
       "      <td>NaN</td>\n",
       "      <td>NaN</td>\n",
       "      <td>NaN</td>\n",
       "      <td>NaN</td>\n",
       "      <td>NaN</td>\n",
       "    </tr>\n",
       "    <tr>\n",
       "      <th>1</th>\n",
       "      <td>NaN</td>\n",
       "      <td>NaN</td>\n",
       "      <td>15000.0</td>\n",
       "      <td>15000.0</td>\n",
       "      <td>15000.0</td>\n",
       "      <td>60 months</td>\n",
       "      <td>12.39%</td>\n",
       "      <td>336.64</td>\n",
       "      <td>C</td>\n",
       "      <td>C1</td>\n",
       "      <td>...</td>\n",
       "      <td>NaN</td>\n",
       "      <td>NaN</td>\n",
       "      <td>Cash</td>\n",
       "      <td>N</td>\n",
       "      <td>NaN</td>\n",
       "      <td>NaN</td>\n",
       "      <td>NaN</td>\n",
       "      <td>NaN</td>\n",
       "      <td>NaN</td>\n",
       "      <td>NaN</td>\n",
       "    </tr>\n",
       "    <tr>\n",
       "      <th>2</th>\n",
       "      <td>NaN</td>\n",
       "      <td>NaN</td>\n",
       "      <td>21425.0</td>\n",
       "      <td>21425.0</td>\n",
       "      <td>21425.0</td>\n",
       "      <td>60 months</td>\n",
       "      <td>15.59%</td>\n",
       "      <td>516.36</td>\n",
       "      <td>D</td>\n",
       "      <td>D1</td>\n",
       "      <td>...</td>\n",
       "      <td>NaN</td>\n",
       "      <td>NaN</td>\n",
       "      <td>Cash</td>\n",
       "      <td>N</td>\n",
       "      <td>NaN</td>\n",
       "      <td>NaN</td>\n",
       "      <td>NaN</td>\n",
       "      <td>NaN</td>\n",
       "      <td>NaN</td>\n",
       "      <td>NaN</td>\n",
       "    </tr>\n",
       "    <tr>\n",
       "      <th>3</th>\n",
       "      <td>NaN</td>\n",
       "      <td>NaN</td>\n",
       "      <td>12800.0</td>\n",
       "      <td>12800.0</td>\n",
       "      <td>12800.0</td>\n",
       "      <td>60 months</td>\n",
       "      <td>17.14%</td>\n",
       "      <td>319.08</td>\n",
       "      <td>D</td>\n",
       "      <td>D4</td>\n",
       "      <td>...</td>\n",
       "      <td>NaN</td>\n",
       "      <td>NaN</td>\n",
       "      <td>Cash</td>\n",
       "      <td>N</td>\n",
       "      <td>NaN</td>\n",
       "      <td>NaN</td>\n",
       "      <td>NaN</td>\n",
       "      <td>NaN</td>\n",
       "      <td>NaN</td>\n",
       "      <td>NaN</td>\n",
       "    </tr>\n",
       "    <tr>\n",
       "      <th>4</th>\n",
       "      <td>NaN</td>\n",
       "      <td>NaN</td>\n",
       "      <td>9600.0</td>\n",
       "      <td>9600.0</td>\n",
       "      <td>9600.0</td>\n",
       "      <td>36 months</td>\n",
       "      <td>13.66%</td>\n",
       "      <td>326.53</td>\n",
       "      <td>C</td>\n",
       "      <td>C3</td>\n",
       "      <td>...</td>\n",
       "      <td>NaN</td>\n",
       "      <td>NaN</td>\n",
       "      <td>Cash</td>\n",
       "      <td>N</td>\n",
       "      <td>NaN</td>\n",
       "      <td>NaN</td>\n",
       "      <td>NaN</td>\n",
       "      <td>NaN</td>\n",
       "      <td>NaN</td>\n",
       "      <td>NaN</td>\n",
       "    </tr>\n",
       "  </tbody>\n",
       "</table>\n",
       "<p>5 rows × 145 columns</p>\n",
       "</div>"
      ],
      "text/plain": [
       "    id  member_id  loan_amnt  funded_amnt  funded_amnt_inv        term  \\\n",
       "0  NaN        NaN    10400.0      10400.0          10400.0   36 months   \n",
       "1  NaN        NaN    15000.0      15000.0          15000.0   60 months   \n",
       "2  NaN        NaN    21425.0      21425.0          21425.0   60 months   \n",
       "3  NaN        NaN    12800.0      12800.0          12800.0   60 months   \n",
       "4  NaN        NaN     9600.0       9600.0           9600.0   36 months   \n",
       "\n",
       "  int_rate  installment grade sub_grade       ...        \\\n",
       "0    6.99%       321.08     A        A3       ...         \n",
       "1   12.39%       336.64     C        C1       ...         \n",
       "2   15.59%       516.36     D        D1       ...         \n",
       "3   17.14%       319.08     D        D4       ...         \n",
       "4   13.66%       326.53     C        C3       ...         \n",
       "\n",
       "  hardship_payoff_balance_amount hardship_last_payment_amount  \\\n",
       "0                            NaN                          NaN   \n",
       "1                            NaN                          NaN   \n",
       "2                            NaN                          NaN   \n",
       "3                            NaN                          NaN   \n",
       "4                            NaN                          NaN   \n",
       "\n",
       "  disbursement_method  debt_settlement_flag debt_settlement_flag_date  \\\n",
       "0                Cash                     N                       NaN   \n",
       "1                Cash                     N                       NaN   \n",
       "2                Cash                     N                       NaN   \n",
       "3                Cash                     N                       NaN   \n",
       "4                Cash                     N                       NaN   \n",
       "\n",
       "  settlement_status settlement_date settlement_amount  settlement_percentage  \\\n",
       "0               NaN             NaN               NaN                    NaN   \n",
       "1               NaN             NaN               NaN                    NaN   \n",
       "2               NaN             NaN               NaN                    NaN   \n",
       "3               NaN             NaN               NaN                    NaN   \n",
       "4               NaN             NaN               NaN                    NaN   \n",
       "\n",
       "  settlement_term  \n",
       "0             NaN  \n",
       "1             NaN  \n",
       "2             NaN  \n",
       "3             NaN  \n",
       "4             NaN  \n",
       "\n",
       "[5 rows x 145 columns]"
      ]
     },
     "execution_count": 5,
     "metadata": {},
     "output_type": "execute_result"
    }
   ],
   "source": [
    "df_2014.head()"
   ]
  },
  {
   "cell_type": "code",
   "execution_count": 6,
   "metadata": {},
   "outputs": [
    {
     "name": "stderr",
     "output_type": "stream",
     "text": [
      "/anaconda3/lib/python3.6/site-packages/IPython/core/interactiveshell.py:2785: DtypeWarning: Columns (0,19) have mixed types. Specify dtype option on import or set low_memory=False.\n",
      "  interactivity=interactivity, compiler=compiler, result=result)\n"
     ]
    }
   ],
   "source": [
    "df_2014 = pd.read_csv('LoanStats3c.csv', header = 1)\n",
    "d = [2014,12]\n",
    "df_2014 = df_2014.assign(data_year = d[0])\n",
    "df_2014 = df_2014.assign(data_month = d[1])"
   ]
  },
  {
   "cell_type": "code",
   "execution_count": 7,
   "metadata": {},
   "outputs": [
    {
     "data": {
      "text/html": [
       "<div>\n",
       "<style scoped>\n",
       "    .dataframe tbody tr th:only-of-type {\n",
       "        vertical-align: middle;\n",
       "    }\n",
       "\n",
       "    .dataframe tbody tr th {\n",
       "        vertical-align: top;\n",
       "    }\n",
       "\n",
       "    .dataframe thead th {\n",
       "        text-align: right;\n",
       "    }\n",
       "</style>\n",
       "<table border=\"1\" class=\"dataframe\">\n",
       "  <thead>\n",
       "    <tr style=\"text-align: right;\">\n",
       "      <th></th>\n",
       "      <th>id</th>\n",
       "      <th>member_id</th>\n",
       "      <th>loan_amnt</th>\n",
       "      <th>funded_amnt</th>\n",
       "      <th>funded_amnt_inv</th>\n",
       "      <th>term</th>\n",
       "      <th>int_rate</th>\n",
       "      <th>installment</th>\n",
       "      <th>grade</th>\n",
       "      <th>sub_grade</th>\n",
       "      <th>...</th>\n",
       "      <th>disbursement_method</th>\n",
       "      <th>debt_settlement_flag</th>\n",
       "      <th>debt_settlement_flag_date</th>\n",
       "      <th>settlement_status</th>\n",
       "      <th>settlement_date</th>\n",
       "      <th>settlement_amount</th>\n",
       "      <th>settlement_percentage</th>\n",
       "      <th>settlement_term</th>\n",
       "      <th>data_year</th>\n",
       "      <th>data_month</th>\n",
       "    </tr>\n",
       "  </thead>\n",
       "  <tbody>\n",
       "    <tr>\n",
       "      <th>0</th>\n",
       "      <td>NaN</td>\n",
       "      <td>NaN</td>\n",
       "      <td>10400.0</td>\n",
       "      <td>10400.0</td>\n",
       "      <td>10400.0</td>\n",
       "      <td>36 months</td>\n",
       "      <td>6.99%</td>\n",
       "      <td>321.08</td>\n",
       "      <td>A</td>\n",
       "      <td>A3</td>\n",
       "      <td>...</td>\n",
       "      <td>Cash</td>\n",
       "      <td>N</td>\n",
       "      <td>NaN</td>\n",
       "      <td>NaN</td>\n",
       "      <td>NaN</td>\n",
       "      <td>NaN</td>\n",
       "      <td>NaN</td>\n",
       "      <td>NaN</td>\n",
       "      <td>2014</td>\n",
       "      <td>12</td>\n",
       "    </tr>\n",
       "    <tr>\n",
       "      <th>1</th>\n",
       "      <td>NaN</td>\n",
       "      <td>NaN</td>\n",
       "      <td>15000.0</td>\n",
       "      <td>15000.0</td>\n",
       "      <td>15000.0</td>\n",
       "      <td>60 months</td>\n",
       "      <td>12.39%</td>\n",
       "      <td>336.64</td>\n",
       "      <td>C</td>\n",
       "      <td>C1</td>\n",
       "      <td>...</td>\n",
       "      <td>Cash</td>\n",
       "      <td>N</td>\n",
       "      <td>NaN</td>\n",
       "      <td>NaN</td>\n",
       "      <td>NaN</td>\n",
       "      <td>NaN</td>\n",
       "      <td>NaN</td>\n",
       "      <td>NaN</td>\n",
       "      <td>2014</td>\n",
       "      <td>12</td>\n",
       "    </tr>\n",
       "    <tr>\n",
       "      <th>2</th>\n",
       "      <td>NaN</td>\n",
       "      <td>NaN</td>\n",
       "      <td>21425.0</td>\n",
       "      <td>21425.0</td>\n",
       "      <td>21425.0</td>\n",
       "      <td>60 months</td>\n",
       "      <td>15.59%</td>\n",
       "      <td>516.36</td>\n",
       "      <td>D</td>\n",
       "      <td>D1</td>\n",
       "      <td>...</td>\n",
       "      <td>Cash</td>\n",
       "      <td>N</td>\n",
       "      <td>NaN</td>\n",
       "      <td>NaN</td>\n",
       "      <td>NaN</td>\n",
       "      <td>NaN</td>\n",
       "      <td>NaN</td>\n",
       "      <td>NaN</td>\n",
       "      <td>2014</td>\n",
       "      <td>12</td>\n",
       "    </tr>\n",
       "    <tr>\n",
       "      <th>3</th>\n",
       "      <td>NaN</td>\n",
       "      <td>NaN</td>\n",
       "      <td>12800.0</td>\n",
       "      <td>12800.0</td>\n",
       "      <td>12800.0</td>\n",
       "      <td>60 months</td>\n",
       "      <td>17.14%</td>\n",
       "      <td>319.08</td>\n",
       "      <td>D</td>\n",
       "      <td>D4</td>\n",
       "      <td>...</td>\n",
       "      <td>Cash</td>\n",
       "      <td>N</td>\n",
       "      <td>NaN</td>\n",
       "      <td>NaN</td>\n",
       "      <td>NaN</td>\n",
       "      <td>NaN</td>\n",
       "      <td>NaN</td>\n",
       "      <td>NaN</td>\n",
       "      <td>2014</td>\n",
       "      <td>12</td>\n",
       "    </tr>\n",
       "    <tr>\n",
       "      <th>4</th>\n",
       "      <td>NaN</td>\n",
       "      <td>NaN</td>\n",
       "      <td>9600.0</td>\n",
       "      <td>9600.0</td>\n",
       "      <td>9600.0</td>\n",
       "      <td>36 months</td>\n",
       "      <td>13.66%</td>\n",
       "      <td>326.53</td>\n",
       "      <td>C</td>\n",
       "      <td>C3</td>\n",
       "      <td>...</td>\n",
       "      <td>Cash</td>\n",
       "      <td>N</td>\n",
       "      <td>NaN</td>\n",
       "      <td>NaN</td>\n",
       "      <td>NaN</td>\n",
       "      <td>NaN</td>\n",
       "      <td>NaN</td>\n",
       "      <td>NaN</td>\n",
       "      <td>2014</td>\n",
       "      <td>12</td>\n",
       "    </tr>\n",
       "  </tbody>\n",
       "</table>\n",
       "<p>5 rows × 147 columns</p>\n",
       "</div>"
      ],
      "text/plain": [
       "    id  member_id  loan_amnt  funded_amnt  funded_amnt_inv        term  \\\n",
       "0  NaN        NaN    10400.0      10400.0          10400.0   36 months   \n",
       "1  NaN        NaN    15000.0      15000.0          15000.0   60 months   \n",
       "2  NaN        NaN    21425.0      21425.0          21425.0   60 months   \n",
       "3  NaN        NaN    12800.0      12800.0          12800.0   60 months   \n",
       "4  NaN        NaN     9600.0       9600.0           9600.0   36 months   \n",
       "\n",
       "  int_rate  installment grade sub_grade    ...     disbursement_method  \\\n",
       "0    6.99%       321.08     A        A3    ...                    Cash   \n",
       "1   12.39%       336.64     C        C1    ...                    Cash   \n",
       "2   15.59%       516.36     D        D1    ...                    Cash   \n",
       "3   17.14%       319.08     D        D4    ...                    Cash   \n",
       "4   13.66%       326.53     C        C3    ...                    Cash   \n",
       "\n",
       "  debt_settlement_flag debt_settlement_flag_date  settlement_status  \\\n",
       "0                    N                       NaN                NaN   \n",
       "1                    N                       NaN                NaN   \n",
       "2                    N                       NaN                NaN   \n",
       "3                    N                       NaN                NaN   \n",
       "4                    N                       NaN                NaN   \n",
       "\n",
       "  settlement_date settlement_amount settlement_percentage settlement_term  \\\n",
       "0             NaN               NaN                   NaN             NaN   \n",
       "1             NaN               NaN                   NaN             NaN   \n",
       "2             NaN               NaN                   NaN             NaN   \n",
       "3             NaN               NaN                   NaN             NaN   \n",
       "4             NaN               NaN                   NaN             NaN   \n",
       "\n",
       "   data_year data_month  \n",
       "0       2014         12  \n",
       "1       2014         12  \n",
       "2       2014         12  \n",
       "3       2014         12  \n",
       "4       2014         12  \n",
       "\n",
       "[5 rows x 147 columns]"
      ]
     },
     "execution_count": 7,
     "metadata": {},
     "output_type": "execute_result"
    }
   ],
   "source": [
    "df_2014.head()"
   ]
  },
  {
   "cell_type": "markdown",
   "metadata": {},
   "source": [
    "First I will concate the accepted and rejected loans data into one csv and save 2018 data for tests"
   ]
  },
  {
   "cell_type": "code",
   "execution_count": 3,
   "metadata": {},
   "outputs": [
    {
     "name": "stderr",
     "output_type": "stream",
     "text": [
      "/anaconda3/lib/python3.6/site-packages/IPython/core/interactiveshell.py:2785: DtypeWarning: Columns (0,47) have mixed types. Specify dtype option on import or set low_memory=False.\n",
      "  interactivity=interactivity, compiler=compiler, result=result)\n",
      "/anaconda3/lib/python3.6/site-packages/IPython/core/interactiveshell.py:2785: DtypeWarning: Columns (0,47,123,124,125,128,129,130,133) have mixed types. Specify dtype option on import or set low_memory=False.\n",
      "  interactivity=interactivity, compiler=compiler, result=result)\n",
      "/anaconda3/lib/python3.6/site-packages/IPython/core/interactiveshell.py:2785: DtypeWarning: Columns (0,19) have mixed types. Specify dtype option on import or set low_memory=False.\n",
      "  interactivity=interactivity, compiler=compiler, result=result)\n",
      "/anaconda3/lib/python3.6/site-packages/IPython/core/interactiveshell.py:2785: DtypeWarning: Columns (0,19,55) have mixed types. Specify dtype option on import or set low_memory=False.\n",
      "  interactivity=interactivity, compiler=compiler, result=result)\n",
      "/anaconda3/lib/python3.6/site-packages/IPython/core/interactiveshell.py:2785: DtypeWarning: Columns (0,112) have mixed types. Specify dtype option on import or set low_memory=False.\n",
      "  interactivity=interactivity, compiler=compiler, result=result)\n",
      "/anaconda3/lib/python3.6/site-packages/IPython/core/interactiveshell.py:2785: DtypeWarning: Columns (0) have mixed types. Specify dtype option on import or set low_memory=False.\n",
      "  interactivity=interactivity, compiler=compiler, result=result)\n",
      "/anaconda3/lib/python3.6/site-packages/IPython/core/interactiveshell.py:2785: DtypeWarning: Columns (0,123,124,125,128,129,130,133,139,140,141) have mixed types. Specify dtype option on import or set low_memory=False.\n",
      "  interactivity=interactivity, compiler=compiler, result=result)\n",
      "/anaconda3/lib/python3.6/site-packages/ipykernel_launcher.py:46: FutureWarning: Sorting because non-concatenation axis is not aligned. A future version\n",
      "of pandas will change to not sort by default.\n",
      "\n",
      "To accept the future behavior, pass 'sort=False'.\n",
      "\n",
      "To retain the current behavior and silence the warning, pass 'sort=True'.\n",
      "\n"
     ]
    }
   ],
   "source": [
    "df_2007_2011 = pd.read_csv('LoanStats3a.csv' , header = 1) # importing lending club loan data\n",
    "df_2012_2013 = pd.read_csv('LoanStats3b.csv' , header = 1)\n",
    "df_2014 = pd.read_csv('LoanStats3c.csv', header = 1)\n",
    "d = [2014 , 12]\n",
    "df_2014 = df_2014.assign(data_year = d[0]) \n",
    "df_2014 = df_2014.assign(data_month = d[1])\n",
    "# adding data_date (yr and month) to create loan age and avg. ammortization per month factor\n",
    "df_2015 = pd.read_csv('LoanStats3d.csv', header = 1)\n",
    "d = [2015 , 12]\n",
    "df_2015 = df_2015.assign(data_year = d[0]) \n",
    "df_2015 = df_2015.assign(data_month = d[1])\n",
    "df_2016a = pd.read_csv('LoanStats_2016Q1.csv', header = 1)\n",
    "d = [2016 , 3]\n",
    "df_2016a = df_2016a.assign(data_year = d[0]) \n",
    "df_2016a = df_2016a.assign(data_month = d[1])\n",
    "df_2016b = pd.read_csv('LoanStats_2016Q2.csv', header = 1)\n",
    "d = [2016 , 6]\n",
    "df_2016b = df_2016b.assign(data_year = d[0]) \n",
    "df_2016b = df_2016b.assign(data_month = d[1])\n",
    "df_2016c = pd.read_csv('LoanStats_2016Q3.csv', header = 1)\n",
    "d = [2016 , 9]\n",
    "df_2016c = df_2016c.assign(data_year = d[0]) \n",
    "df_2016c = df_2016c.assign(data_month = d[1])\n",
    "df_2016d = pd.read_csv('LoanStats_2016Q4.csv', header = 1)\n",
    "d = [2016 , 12]\n",
    "df_2016d = df_2016d.assign(data_year = d[0]) \n",
    "df_2016d = df_2016d.assign(data_month = d[1])\n",
    "df_2017a = pd.read_csv('LoanStats_2017Q1.csv', header = 1)\n",
    "d = [2017 , 3]\n",
    "df_2017a = df_2017a.assign(data_year = d[0]) \n",
    "df_2017a = df_2017a.assign(data_month = d[1])\n",
    "df_2017b = pd.read_csv('LoanStats_2017Q2.csv', header = 1)\n",
    "d = [2017 , 6]\n",
    "df_2017b = df_2017b.assign(data_year = d[0]) \n",
    "df_2017b = df_2017b.assign(data_month = d[1])\n",
    "df_2017c = pd.read_csv('LoanStats_2017Q3.csv', header = 1)\n",
    "d = [2017 , 9]\n",
    "df_2017c = df_2017c.assign(data_year = d[0]) \n",
    "df_2017c = df_2017c.assign(data_month = d[1])\n",
    "df_2017d = pd.read_csv('LoanStats_2017Q4.csv', header = 1)\n",
    "d = [2017 , 12]\n",
    "df_2017d = df_2017d.assign(data_year = d[0]) \n",
    "df_2017d = df_2017d.assign(data_month = d[1])\n",
    "\n",
    "frames = [df_2007_2011,df_2012_2013,df_2014,df_2015,df_2016a,df_2016b,df_2016c,df_2016d,df_2017a,df_2017b,df_2017c,df_2017d]\n",
    "accept = pd.concat(frames)\n",
    "accept = accept.assign(accepted = True)\n"
   ]
  },
  {
   "cell_type": "code",
   "execution_count": 4,
   "metadata": {},
   "outputs": [
    {
     "data": {
      "text/html": [
       "<div>\n",
       "<style scoped>\n",
       "    .dataframe tbody tr th:only-of-type {\n",
       "        vertical-align: middle;\n",
       "    }\n",
       "\n",
       "    .dataframe tbody tr th {\n",
       "        vertical-align: top;\n",
       "    }\n",
       "\n",
       "    .dataframe thead th {\n",
       "        text-align: right;\n",
       "    }\n",
       "</style>\n",
       "<table border=\"1\" class=\"dataframe\">\n",
       "  <thead>\n",
       "    <tr style=\"text-align: right;\">\n",
       "      <th></th>\n",
       "      <th>acc_now_delinq</th>\n",
       "      <th>acc_open_past_24mths</th>\n",
       "      <th>addr_state</th>\n",
       "      <th>all_util</th>\n",
       "      <th>annual_inc</th>\n",
       "      <th>annual_inc_joint</th>\n",
       "      <th>application_type</th>\n",
       "      <th>avg_cur_bal</th>\n",
       "      <th>bc_open_to_buy</th>\n",
       "      <th>bc_util</th>\n",
       "      <th>...</th>\n",
       "      <th>total_pymnt_inv</th>\n",
       "      <th>total_rec_int</th>\n",
       "      <th>total_rec_late_fee</th>\n",
       "      <th>total_rec_prncp</th>\n",
       "      <th>total_rev_hi_lim</th>\n",
       "      <th>url</th>\n",
       "      <th>verification_status</th>\n",
       "      <th>verification_status_joint</th>\n",
       "      <th>zip_code</th>\n",
       "      <th>accepted</th>\n",
       "    </tr>\n",
       "  </thead>\n",
       "  <tbody>\n",
       "    <tr>\n",
       "      <th>0</th>\n",
       "      <td>0.0</td>\n",
       "      <td>NaN</td>\n",
       "      <td>AZ</td>\n",
       "      <td>NaN</td>\n",
       "      <td>24000.0</td>\n",
       "      <td>NaN</td>\n",
       "      <td>Individual</td>\n",
       "      <td>NaN</td>\n",
       "      <td>NaN</td>\n",
       "      <td>NaN</td>\n",
       "      <td>...</td>\n",
       "      <td>5833.84</td>\n",
       "      <td>863.16</td>\n",
       "      <td>0.00</td>\n",
       "      <td>5000.00</td>\n",
       "      <td>NaN</td>\n",
       "      <td>NaN</td>\n",
       "      <td>Verified</td>\n",
       "      <td>NaN</td>\n",
       "      <td>860xx</td>\n",
       "      <td>True</td>\n",
       "    </tr>\n",
       "    <tr>\n",
       "      <th>1</th>\n",
       "      <td>0.0</td>\n",
       "      <td>NaN</td>\n",
       "      <td>GA</td>\n",
       "      <td>NaN</td>\n",
       "      <td>30000.0</td>\n",
       "      <td>NaN</td>\n",
       "      <td>Individual</td>\n",
       "      <td>NaN</td>\n",
       "      <td>NaN</td>\n",
       "      <td>NaN</td>\n",
       "      <td>...</td>\n",
       "      <td>1014.53</td>\n",
       "      <td>435.17</td>\n",
       "      <td>0.00</td>\n",
       "      <td>456.46</td>\n",
       "      <td>NaN</td>\n",
       "      <td>NaN</td>\n",
       "      <td>Source Verified</td>\n",
       "      <td>NaN</td>\n",
       "      <td>309xx</td>\n",
       "      <td>True</td>\n",
       "    </tr>\n",
       "    <tr>\n",
       "      <th>2</th>\n",
       "      <td>0.0</td>\n",
       "      <td>NaN</td>\n",
       "      <td>IL</td>\n",
       "      <td>NaN</td>\n",
       "      <td>12252.0</td>\n",
       "      <td>NaN</td>\n",
       "      <td>Individual</td>\n",
       "      <td>NaN</td>\n",
       "      <td>NaN</td>\n",
       "      <td>NaN</td>\n",
       "      <td>...</td>\n",
       "      <td>3005.67</td>\n",
       "      <td>605.67</td>\n",
       "      <td>0.00</td>\n",
       "      <td>2400.00</td>\n",
       "      <td>NaN</td>\n",
       "      <td>NaN</td>\n",
       "      <td>Not Verified</td>\n",
       "      <td>NaN</td>\n",
       "      <td>606xx</td>\n",
       "      <td>True</td>\n",
       "    </tr>\n",
       "    <tr>\n",
       "      <th>3</th>\n",
       "      <td>0.0</td>\n",
       "      <td>NaN</td>\n",
       "      <td>CA</td>\n",
       "      <td>NaN</td>\n",
       "      <td>49200.0</td>\n",
       "      <td>NaN</td>\n",
       "      <td>Individual</td>\n",
       "      <td>NaN</td>\n",
       "      <td>NaN</td>\n",
       "      <td>NaN</td>\n",
       "      <td>...</td>\n",
       "      <td>12231.89</td>\n",
       "      <td>2214.92</td>\n",
       "      <td>16.97</td>\n",
       "      <td>10000.00</td>\n",
       "      <td>NaN</td>\n",
       "      <td>NaN</td>\n",
       "      <td>Source Verified</td>\n",
       "      <td>NaN</td>\n",
       "      <td>917xx</td>\n",
       "      <td>True</td>\n",
       "    </tr>\n",
       "    <tr>\n",
       "      <th>4</th>\n",
       "      <td>0.0</td>\n",
       "      <td>NaN</td>\n",
       "      <td>OR</td>\n",
       "      <td>NaN</td>\n",
       "      <td>80000.0</td>\n",
       "      <td>NaN</td>\n",
       "      <td>Individual</td>\n",
       "      <td>NaN</td>\n",
       "      <td>NaN</td>\n",
       "      <td>NaN</td>\n",
       "      <td>...</td>\n",
       "      <td>4066.91</td>\n",
       "      <td>1066.91</td>\n",
       "      <td>0.00</td>\n",
       "      <td>3000.00</td>\n",
       "      <td>NaN</td>\n",
       "      <td>NaN</td>\n",
       "      <td>Source Verified</td>\n",
       "      <td>NaN</td>\n",
       "      <td>972xx</td>\n",
       "      <td>True</td>\n",
       "    </tr>\n",
       "  </tbody>\n",
       "</table>\n",
       "<p>5 rows × 148 columns</p>\n",
       "</div>"
      ],
      "text/plain": [
       "   acc_now_delinq  acc_open_past_24mths addr_state  all_util  annual_inc  \\\n",
       "0             0.0                   NaN         AZ       NaN     24000.0   \n",
       "1             0.0                   NaN         GA       NaN     30000.0   \n",
       "2             0.0                   NaN         IL       NaN     12252.0   \n",
       "3             0.0                   NaN         CA       NaN     49200.0   \n",
       "4             0.0                   NaN         OR       NaN     80000.0   \n",
       "\n",
       "   annual_inc_joint application_type  avg_cur_bal  bc_open_to_buy  bc_util  \\\n",
       "0               NaN       Individual          NaN             NaN      NaN   \n",
       "1               NaN       Individual          NaN             NaN      NaN   \n",
       "2               NaN       Individual          NaN             NaN      NaN   \n",
       "3               NaN       Individual          NaN             NaN      NaN   \n",
       "4               NaN       Individual          NaN             NaN      NaN   \n",
       "\n",
       "     ...     total_pymnt_inv  total_rec_int  total_rec_late_fee  \\\n",
       "0    ...             5833.84         863.16                0.00   \n",
       "1    ...             1014.53         435.17                0.00   \n",
       "2    ...             3005.67         605.67                0.00   \n",
       "3    ...            12231.89        2214.92               16.97   \n",
       "4    ...             4066.91        1066.91                0.00   \n",
       "\n",
       "   total_rec_prncp  total_rev_hi_lim url verification_status  \\\n",
       "0          5000.00               NaN NaN            Verified   \n",
       "1           456.46               NaN NaN     Source Verified   \n",
       "2          2400.00               NaN NaN        Not Verified   \n",
       "3         10000.00               NaN NaN     Source Verified   \n",
       "4          3000.00               NaN NaN     Source Verified   \n",
       "\n",
       "   verification_status_joint  zip_code  accepted  \n",
       "0                        NaN     860xx      True  \n",
       "1                        NaN     309xx      True  \n",
       "2                        NaN     606xx      True  \n",
       "3                        NaN     917xx      True  \n",
       "4                        NaN     972xx      True  \n",
       "\n",
       "[5 rows x 148 columns]"
      ]
     },
     "execution_count": 4,
     "metadata": {},
     "output_type": "execute_result"
    }
   ],
   "source": [
    "accept.head()"
   ]
  },
  {
   "cell_type": "code",
   "execution_count": 5,
   "metadata": {},
   "outputs": [
    {
     "data": {
      "text/html": [
       "<div>\n",
       "<style scoped>\n",
       "    .dataframe tbody tr th:only-of-type {\n",
       "        vertical-align: middle;\n",
       "    }\n",
       "\n",
       "    .dataframe tbody tr th {\n",
       "        vertical-align: top;\n",
       "    }\n",
       "\n",
       "    .dataframe thead th {\n",
       "        text-align: right;\n",
       "    }\n",
       "</style>\n",
       "<table border=\"1\" class=\"dataframe\">\n",
       "  <thead>\n",
       "    <tr style=\"text-align: right;\">\n",
       "      <th></th>\n",
       "      <th>acc_now_delinq</th>\n",
       "      <th>acc_open_past_24mths</th>\n",
       "      <th>addr_state</th>\n",
       "      <th>all_util</th>\n",
       "      <th>annual_inc</th>\n",
       "      <th>annual_inc_joint</th>\n",
       "      <th>application_type</th>\n",
       "      <th>avg_cur_bal</th>\n",
       "      <th>bc_open_to_buy</th>\n",
       "      <th>bc_util</th>\n",
       "      <th>...</th>\n",
       "      <th>total_pymnt_inv</th>\n",
       "      <th>total_rec_int</th>\n",
       "      <th>total_rec_late_fee</th>\n",
       "      <th>total_rec_prncp</th>\n",
       "      <th>total_rev_hi_lim</th>\n",
       "      <th>url</th>\n",
       "      <th>verification_status</th>\n",
       "      <th>verification_status_joint</th>\n",
       "      <th>zip_code</th>\n",
       "      <th>accepted</th>\n",
       "    </tr>\n",
       "  </thead>\n",
       "  <tbody>\n",
       "    <tr>\n",
       "      <th>118645</th>\n",
       "      <td>0.0</td>\n",
       "      <td>3.0</td>\n",
       "      <td>IL</td>\n",
       "      <td>93.0</td>\n",
       "      <td>64000.0</td>\n",
       "      <td>NaN</td>\n",
       "      <td>Individual</td>\n",
       "      <td>31623.0</td>\n",
       "      <td>136.0</td>\n",
       "      <td>93.2</td>\n",
       "      <td>...</td>\n",
       "      <td>3314.34</td>\n",
       "      <td>885.28</td>\n",
       "      <td>0.0</td>\n",
       "      <td>2429.06</td>\n",
       "      <td>10000.0</td>\n",
       "      <td>NaN</td>\n",
       "      <td>Source Verified</td>\n",
       "      <td>NaN</td>\n",
       "      <td>603xx</td>\n",
       "      <td>True</td>\n",
       "    </tr>\n",
       "    <tr>\n",
       "      <th>118646</th>\n",
       "      <td>0.0</td>\n",
       "      <td>8.0</td>\n",
       "      <td>NY</td>\n",
       "      <td>51.0</td>\n",
       "      <td>60000.0</td>\n",
       "      <td>NaN</td>\n",
       "      <td>Individual</td>\n",
       "      <td>1982.0</td>\n",
       "      <td>9816.0</td>\n",
       "      <td>49.7</td>\n",
       "      <td>...</td>\n",
       "      <td>4499.68</td>\n",
       "      <td>2806.85</td>\n",
       "      <td>0.0</td>\n",
       "      <td>1692.83</td>\n",
       "      <td>50700.0</td>\n",
       "      <td>NaN</td>\n",
       "      <td>Not Verified</td>\n",
       "      <td>NaN</td>\n",
       "      <td>112xx</td>\n",
       "      <td>True</td>\n",
       "    </tr>\n",
       "    <tr>\n",
       "      <th>118647</th>\n",
       "      <td>0.0</td>\n",
       "      <td>5.0</td>\n",
       "      <td>AK</td>\n",
       "      <td>55.0</td>\n",
       "      <td>60000.0</td>\n",
       "      <td>NaN</td>\n",
       "      <td>Individual</td>\n",
       "      <td>8155.0</td>\n",
       "      <td>18789.0</td>\n",
       "      <td>14.6</td>\n",
       "      <td>...</td>\n",
       "      <td>3241.15</td>\n",
       "      <td>2013.72</td>\n",
       "      <td>0.0</td>\n",
       "      <td>1227.43</td>\n",
       "      <td>37000.0</td>\n",
       "      <td>NaN</td>\n",
       "      <td>Not Verified</td>\n",
       "      <td>NaN</td>\n",
       "      <td>996xx</td>\n",
       "      <td>True</td>\n",
       "    </tr>\n",
       "    <tr>\n",
       "      <th>118648</th>\n",
       "      <td>NaN</td>\n",
       "      <td>NaN</td>\n",
       "      <td>NaN</td>\n",
       "      <td>NaN</td>\n",
       "      <td>NaN</td>\n",
       "      <td>NaN</td>\n",
       "      <td>NaN</td>\n",
       "      <td>NaN</td>\n",
       "      <td>NaN</td>\n",
       "      <td>NaN</td>\n",
       "      <td>...</td>\n",
       "      <td>NaN</td>\n",
       "      <td>NaN</td>\n",
       "      <td>NaN</td>\n",
       "      <td>NaN</td>\n",
       "      <td>NaN</td>\n",
       "      <td>NaN</td>\n",
       "      <td>NaN</td>\n",
       "      <td>NaN</td>\n",
       "      <td>NaN</td>\n",
       "      <td>True</td>\n",
       "    </tr>\n",
       "    <tr>\n",
       "      <th>118649</th>\n",
       "      <td>NaN</td>\n",
       "      <td>NaN</td>\n",
       "      <td>NaN</td>\n",
       "      <td>NaN</td>\n",
       "      <td>NaN</td>\n",
       "      <td>NaN</td>\n",
       "      <td>NaN</td>\n",
       "      <td>NaN</td>\n",
       "      <td>NaN</td>\n",
       "      <td>NaN</td>\n",
       "      <td>...</td>\n",
       "      <td>NaN</td>\n",
       "      <td>NaN</td>\n",
       "      <td>NaN</td>\n",
       "      <td>NaN</td>\n",
       "      <td>NaN</td>\n",
       "      <td>NaN</td>\n",
       "      <td>NaN</td>\n",
       "      <td>NaN</td>\n",
       "      <td>NaN</td>\n",
       "      <td>True</td>\n",
       "    </tr>\n",
       "  </tbody>\n",
       "</table>\n",
       "<p>5 rows × 148 columns</p>\n",
       "</div>"
      ],
      "text/plain": [
       "        acc_now_delinq  acc_open_past_24mths addr_state  all_util  annual_inc  \\\n",
       "118645             0.0                   3.0         IL      93.0     64000.0   \n",
       "118646             0.0                   8.0         NY      51.0     60000.0   \n",
       "118647             0.0                   5.0         AK      55.0     60000.0   \n",
       "118648             NaN                   NaN        NaN       NaN         NaN   \n",
       "118649             NaN                   NaN        NaN       NaN         NaN   \n",
       "\n",
       "        annual_inc_joint application_type  avg_cur_bal  bc_open_to_buy  \\\n",
       "118645               NaN       Individual      31623.0           136.0   \n",
       "118646               NaN       Individual       1982.0          9816.0   \n",
       "118647               NaN       Individual       8155.0         18789.0   \n",
       "118648               NaN              NaN          NaN             NaN   \n",
       "118649               NaN              NaN          NaN             NaN   \n",
       "\n",
       "        bc_util    ...     total_pymnt_inv  total_rec_int  total_rec_late_fee  \\\n",
       "118645     93.2    ...             3314.34         885.28                 0.0   \n",
       "118646     49.7    ...             4499.68        2806.85                 0.0   \n",
       "118647     14.6    ...             3241.15        2013.72                 0.0   \n",
       "118648      NaN    ...                 NaN            NaN                 NaN   \n",
       "118649      NaN    ...                 NaN            NaN                 NaN   \n",
       "\n",
       "        total_rec_prncp  total_rev_hi_lim url verification_status  \\\n",
       "118645          2429.06           10000.0 NaN     Source Verified   \n",
       "118646          1692.83           50700.0 NaN        Not Verified   \n",
       "118647          1227.43           37000.0 NaN        Not Verified   \n",
       "118648              NaN               NaN NaN                 NaN   \n",
       "118649              NaN               NaN NaN                 NaN   \n",
       "\n",
       "        verification_status_joint  zip_code  accepted  \n",
       "118645                        NaN     603xx      True  \n",
       "118646                        NaN     112xx      True  \n",
       "118647                        NaN     996xx      True  \n",
       "118648                        NaN       NaN      True  \n",
       "118649                        NaN       NaN      True  \n",
       "\n",
       "[5 rows x 148 columns]"
      ]
     },
     "execution_count": 5,
     "metadata": {},
     "output_type": "execute_result"
    }
   ],
   "source": [
    "accept.tail()"
   ]
  },
  {
   "cell_type": "code",
   "execution_count": 6,
   "metadata": {},
   "outputs": [],
   "source": [
    "accept.to_csv(\"Accepted.csv\") "
   ]
  },
  {
   "cell_type": "code",
   "execution_count": 9,
   "metadata": {},
   "outputs": [
    {
     "name": "stderr",
     "output_type": "stream",
     "text": [
      "/anaconda3/lib/python3.6/site-packages/IPython/core/interactiveshell.py:2785: DtypeWarning: Columns (0,123,124,125,128,129,130,133,139,140,141) have mixed types. Specify dtype option on import or set low_memory=False.\n",
      "  interactivity=interactivity, compiler=compiler, result=result)\n",
      "/anaconda3/lib/python3.6/site-packages/IPython/core/interactiveshell.py:2785: DtypeWarning: Columns (0,139,140,141) have mixed types. Specify dtype option on import or set low_memory=False.\n",
      "  interactivity=interactivity, compiler=compiler, result=result)\n"
     ]
    }
   ],
   "source": [
    "df_2018Q1 = pd.read_csv('LoanStats_2018Q1.csv', header = 1)\n",
    "d = [2018 , 3]\n",
    "df_2018Q1 = df_2018Q1.assign(data_year = d[0]) \n",
    "df_2018Q1 = df_2018Q1.assign(data_month = d[1])\n",
    "df_2018Q2 = pd.read_csv('LoanStats_2018Q2.csv', header = 1)\n",
    "d = [2018 , 6]\n",
    "df_2018Q2 = df_2018Q2.assign(data_year = d[0]) \n",
    "df_2018Q2 = df_2018Q2.assign(data_month = d[1])\n",
    "frames =[df_2018Q1,df_2018Q2] \n",
    "accept_test = pd.concat(frames)\n",
    "accept_test = accept_test.assign(accepted = True)\n",
    "accept.to_csv(\"Accepted_test.csv\")\n"
   ]
  },
  {
   "cell_type": "code",
   "execution_count": 10,
   "metadata": {},
   "outputs": [
    {
     "name": "stderr",
     "output_type": "stream",
     "text": [
      "/anaconda3/lib/python3.6/site-packages/ipykernel_launcher.py:41: FutureWarning: Sorting because non-concatenation axis is not aligned. A future version\n",
      "of pandas will change to not sort by default.\n",
      "\n",
      "To accept the future behavior, pass 'sort=False'.\n",
      "\n",
      "To retain the current behavior and silence the warning, pass 'sort=True'.\n",
      "\n"
     ]
    }
   ],
   "source": [
    "df_2007_2012 = pd.read_csv('RejectStatsA.csv', header = 1)\n",
    "df_2013_2014 = pd.read_csv('RejectStatsB.csv', header = 1)\n",
    "df_2015 = pd.read_csv('RejectStatsD.csv', header = 1)\n",
    "d = [2015 , 12]\n",
    "df_2015 = df_2015.assign(data_year = d[0]) \n",
    "df_2015 = df_2015.assign(data_month = d[1])\n",
    "df_2016a = pd.read_csv('RejectStats_2016Q1.csv', header = 1)\n",
    "d = [2016 , 3]\n",
    "df_2016a = df_2016a.assign(data_year = d[0]) \n",
    "df_2016a = df_2016a.assign(data_month = d[1])\n",
    "df_2016b = pd.read_csv('RejectStats_2016Q2.csv', header = 1)\n",
    "d = [2016 , 6]\n",
    "df_2016b = df_2016b.assign(data_year = d[0]) \n",
    "df_2016b = df_2016b.assign(data_month = d[1])\n",
    "df_2016c = pd.read_csv('RejectStats_2016Q3.csv', header = 1)\n",
    "d = [2016 , 9]\n",
    "df_2016c = df_2016c.assign(data_year = d[0]) \n",
    "df_2016c = df_2016c.assign(data_month = d[1])\n",
    "df_2016d = pd.read_csv('RejectStats_2016Q4.csv', header = 1)\n",
    "d = [2016 , 12]\n",
    "df_2016d = df_2016d.assign(data_year = d[0]) \n",
    "df_2016d = df_2016d.assign(data_month = d[1])\n",
    "df_2017a = pd.read_csv('RejectStats_2017Q1.csv', header = 1)\n",
    "d = [2017 , 3]\n",
    "df_2017a = df_2017a.assign(data_year = d[0]) \n",
    "df_2017a = df_2017a.assign(data_month = d[1])\n",
    "df_2017b = pd.read_csv('RejectStats_2017Q2.csv', header = 1)\n",
    "d = [2017 , 6]\n",
    "df_2017b = df_2017b.assign(data_year = d[0]) \n",
    "df_2017b = df_2017b.assign(data_month = d[1])\n",
    "dfR_2017c = pd.read_csv('RejectStats_2017Q3.csv', header = 1)\n",
    "d = [2017 , 9]\n",
    "df_2017c = df_2017c.assign(data_year = d[0]) \n",
    "df_2017c = df_2017c.assign(data_month = d[1])\n",
    "df_2017d = pd.read_csv('RejectStats_2017Q4.csv', header = 1)\n",
    "d = [2017 , 12]\n",
    "df_2017d = df_2017d.assign(data_year = d[0]) \n",
    "df_2017d = df_2017d.assign(data_month = d[1])\n",
    "\n",
    "frames = [df_2007_2012,df_2013_2014,df_2015,df_2016a,df_2016b,df_2016c,df_2016d,df_2017a,df_2017b,df_2017c,df_2017d]\n",
    "reject = pd.concat(frames)\n",
    "reject = reject.assign(accepted = False)\n",
    "reject.to_csv(\"Rejected.csv\") "
   ]
  },
  {
   "cell_type": "code",
   "execution_count": 11,
   "metadata": {},
   "outputs": [
    {
     "data": {
      "text/html": [
       "<div>\n",
       "<style scoped>\n",
       "    .dataframe tbody tr th:only-of-type {\n",
       "        vertical-align: middle;\n",
       "    }\n",
       "\n",
       "    .dataframe tbody tr th {\n",
       "        vertical-align: top;\n",
       "    }\n",
       "\n",
       "    .dataframe thead th {\n",
       "        text-align: right;\n",
       "    }\n",
       "</style>\n",
       "<table border=\"1\" class=\"dataframe\">\n",
       "  <thead>\n",
       "    <tr style=\"text-align: right;\">\n",
       "      <th></th>\n",
       "      <th>Amount Requested</th>\n",
       "      <th>Application Date</th>\n",
       "      <th>Debt-To-Income Ratio</th>\n",
       "      <th>Employment Length</th>\n",
       "      <th>Loan Title</th>\n",
       "      <th>Policy Code</th>\n",
       "      <th>Risk_Score</th>\n",
       "      <th>State</th>\n",
       "      <th>Zip Code</th>\n",
       "      <th>acc_now_delinq</th>\n",
       "      <th>...</th>\n",
       "      <th>total_pymnt_inv</th>\n",
       "      <th>total_rec_int</th>\n",
       "      <th>total_rec_late_fee</th>\n",
       "      <th>total_rec_prncp</th>\n",
       "      <th>total_rev_hi_lim</th>\n",
       "      <th>url</th>\n",
       "      <th>verification_status</th>\n",
       "      <th>verification_status_joint</th>\n",
       "      <th>zip_code</th>\n",
       "      <th>accepted</th>\n",
       "    </tr>\n",
       "  </thead>\n",
       "  <tbody>\n",
       "    <tr>\n",
       "      <th>0</th>\n",
       "      <td>1000.0</td>\n",
       "      <td>2007-05-26</td>\n",
       "      <td>10%</td>\n",
       "      <td>4 years</td>\n",
       "      <td>Wedding Covered but No Honeymoon</td>\n",
       "      <td>0.0</td>\n",
       "      <td>693.0</td>\n",
       "      <td>NM</td>\n",
       "      <td>481xx</td>\n",
       "      <td>NaN</td>\n",
       "      <td>...</td>\n",
       "      <td>NaN</td>\n",
       "      <td>NaN</td>\n",
       "      <td>NaN</td>\n",
       "      <td>NaN</td>\n",
       "      <td>NaN</td>\n",
       "      <td>NaN</td>\n",
       "      <td>NaN</td>\n",
       "      <td>NaN</td>\n",
       "      <td>NaN</td>\n",
       "      <td>False</td>\n",
       "    </tr>\n",
       "    <tr>\n",
       "      <th>1</th>\n",
       "      <td>1000.0</td>\n",
       "      <td>2007-05-26</td>\n",
       "      <td>10%</td>\n",
       "      <td>&lt; 1 year</td>\n",
       "      <td>Consolidating Debt</td>\n",
       "      <td>0.0</td>\n",
       "      <td>703.0</td>\n",
       "      <td>MA</td>\n",
       "      <td>010xx</td>\n",
       "      <td>NaN</td>\n",
       "      <td>...</td>\n",
       "      <td>NaN</td>\n",
       "      <td>NaN</td>\n",
       "      <td>NaN</td>\n",
       "      <td>NaN</td>\n",
       "      <td>NaN</td>\n",
       "      <td>NaN</td>\n",
       "      <td>NaN</td>\n",
       "      <td>NaN</td>\n",
       "      <td>NaN</td>\n",
       "      <td>False</td>\n",
       "    </tr>\n",
       "    <tr>\n",
       "      <th>2</th>\n",
       "      <td>11000.0</td>\n",
       "      <td>2007-05-27</td>\n",
       "      <td>10%</td>\n",
       "      <td>1 year</td>\n",
       "      <td>Want to consolidate my debt</td>\n",
       "      <td>0.0</td>\n",
       "      <td>715.0</td>\n",
       "      <td>MD</td>\n",
       "      <td>212xx</td>\n",
       "      <td>NaN</td>\n",
       "      <td>...</td>\n",
       "      <td>NaN</td>\n",
       "      <td>NaN</td>\n",
       "      <td>NaN</td>\n",
       "      <td>NaN</td>\n",
       "      <td>NaN</td>\n",
       "      <td>NaN</td>\n",
       "      <td>NaN</td>\n",
       "      <td>NaN</td>\n",
       "      <td>NaN</td>\n",
       "      <td>False</td>\n",
       "    </tr>\n",
       "    <tr>\n",
       "      <th>3</th>\n",
       "      <td>6000.0</td>\n",
       "      <td>2007-05-27</td>\n",
       "      <td>38.64%</td>\n",
       "      <td>&lt; 1 year</td>\n",
       "      <td>waksman</td>\n",
       "      <td>0.0</td>\n",
       "      <td>698.0</td>\n",
       "      <td>MA</td>\n",
       "      <td>017xx</td>\n",
       "      <td>NaN</td>\n",
       "      <td>...</td>\n",
       "      <td>NaN</td>\n",
       "      <td>NaN</td>\n",
       "      <td>NaN</td>\n",
       "      <td>NaN</td>\n",
       "      <td>NaN</td>\n",
       "      <td>NaN</td>\n",
       "      <td>NaN</td>\n",
       "      <td>NaN</td>\n",
       "      <td>NaN</td>\n",
       "      <td>False</td>\n",
       "    </tr>\n",
       "    <tr>\n",
       "      <th>4</th>\n",
       "      <td>1500.0</td>\n",
       "      <td>2007-05-27</td>\n",
       "      <td>9.43%</td>\n",
       "      <td>&lt; 1 year</td>\n",
       "      <td>mdrigo</td>\n",
       "      <td>0.0</td>\n",
       "      <td>509.0</td>\n",
       "      <td>MD</td>\n",
       "      <td>209xx</td>\n",
       "      <td>NaN</td>\n",
       "      <td>...</td>\n",
       "      <td>NaN</td>\n",
       "      <td>NaN</td>\n",
       "      <td>NaN</td>\n",
       "      <td>NaN</td>\n",
       "      <td>NaN</td>\n",
       "      <td>NaN</td>\n",
       "      <td>NaN</td>\n",
       "      <td>NaN</td>\n",
       "      <td>NaN</td>\n",
       "      <td>False</td>\n",
       "    </tr>\n",
       "  </tbody>\n",
       "</table>\n",
       "<p>5 rows × 157 columns</p>\n",
       "</div>"
      ],
      "text/plain": [
       "   Amount Requested Application Date Debt-To-Income Ratio Employment Length  \\\n",
       "0            1000.0       2007-05-26                  10%           4 years   \n",
       "1            1000.0       2007-05-26                  10%          < 1 year   \n",
       "2           11000.0       2007-05-27                  10%            1 year   \n",
       "3            6000.0       2007-05-27               38.64%          < 1 year   \n",
       "4            1500.0       2007-05-27                9.43%          < 1 year   \n",
       "\n",
       "                         Loan Title  Policy Code  Risk_Score State Zip Code  \\\n",
       "0  Wedding Covered but No Honeymoon          0.0       693.0    NM    481xx   \n",
       "1                Consolidating Debt          0.0       703.0    MA    010xx   \n",
       "2       Want to consolidate my debt          0.0       715.0    MD    212xx   \n",
       "3                           waksman          0.0       698.0    MA    017xx   \n",
       "4                            mdrigo          0.0       509.0    MD    209xx   \n",
       "\n",
       "   acc_now_delinq    ...     total_pymnt_inv total_rec_int  \\\n",
       "0             NaN    ...                 NaN           NaN   \n",
       "1             NaN    ...                 NaN           NaN   \n",
       "2             NaN    ...                 NaN           NaN   \n",
       "3             NaN    ...                 NaN           NaN   \n",
       "4             NaN    ...                 NaN           NaN   \n",
       "\n",
       "   total_rec_late_fee  total_rec_prncp  total_rev_hi_lim url  \\\n",
       "0                 NaN              NaN               NaN NaN   \n",
       "1                 NaN              NaN               NaN NaN   \n",
       "2                 NaN              NaN               NaN NaN   \n",
       "3                 NaN              NaN               NaN NaN   \n",
       "4                 NaN              NaN               NaN NaN   \n",
       "\n",
       "   verification_status  verification_status_joint  zip_code  accepted  \n",
       "0                  NaN                        NaN       NaN     False  \n",
       "1                  NaN                        NaN       NaN     False  \n",
       "2                  NaN                        NaN       NaN     False  \n",
       "3                  NaN                        NaN       NaN     False  \n",
       "4                  NaN                        NaN       NaN     False  \n",
       "\n",
       "[5 rows x 157 columns]"
      ]
     },
     "execution_count": 11,
     "metadata": {},
     "output_type": "execute_result"
    }
   ],
   "source": [
    "reject.head()"
   ]
  },
  {
   "cell_type": "code",
   "execution_count": 12,
   "metadata": {},
   "outputs": [
    {
     "data": {
      "text/plain": [
       "(16267641, 157)"
      ]
     },
     "execution_count": 12,
     "metadata": {},
     "output_type": "execute_result"
    }
   ],
   "source": [
    "reject.shape"
   ]
  },
  {
   "cell_type": "code",
   "execution_count": 20,
   "metadata": {},
   "outputs": [],
   "source": [
    "df_2018Q1 = pd.read_csv('RejectStats_2018Q1.csv', header = 1)\n",
    "d = [2018 , 3]\n",
    "df_2018Q1 = df_2018Q1.assign(data_year = d[0]) \n",
    "df_2018Q1 = df_2018Q1.assign(data_month = d[1])\n",
    "df_2018Q2 = pd.read_csv('RejectStats_2018Q2.csv', header = 1)\n",
    "d = [2018 , 6]\n",
    "df_201Q2 = df_2018Q2.assign(data_year = d[0]) \n",
    "df_2018Q2 = df_201Q2.assign(data_month = d[1])\n",
    "frames =[df_2018Q1,df_2018Q2] \n",
    "reject_test = pd.concat(frames)\n",
    "result = reject_test.assign(accepted = False)\n",
    "result.to_csv(\"Rejected_test.csv\")\n"
   ]
  },
  {
   "cell_type": "code",
   "execution_count": 32,
   "metadata": {},
   "outputs": [
    {
     "name": "stderr",
     "output_type": "stream",
     "text": [
      "/anaconda3/lib/python3.6/site-packages/IPython/core/interactiveshell.py:2785: DtypeWarning: Columns (14,16,20,32,36,38,39,40,41,43,72,97,111,120,122,145) have mixed types. Specify dtype option on import or set low_memory=False.\n",
      "  interactivity=interactivity, compiler=compiler, result=result)\n"
     ]
    }
   ],
   "source": [
    "accept = pd.read_csv('Accepted.csv') # make sure created csv works properly"
   ]
  },
  {
   "cell_type": "code",
   "execution_count": 33,
   "metadata": {},
   "outputs": [
    {
     "data": {
      "text/html": [
       "<div>\n",
       "<style scoped>\n",
       "    .dataframe tbody tr th:only-of-type {\n",
       "        vertical-align: middle;\n",
       "    }\n",
       "\n",
       "    .dataframe tbody tr th {\n",
       "        vertical-align: top;\n",
       "    }\n",
       "\n",
       "    .dataframe thead th {\n",
       "        text-align: right;\n",
       "    }\n",
       "</style>\n",
       "<table border=\"1\" class=\"dataframe\">\n",
       "  <thead>\n",
       "    <tr style=\"text-align: right;\">\n",
       "      <th></th>\n",
       "      <th>Unnamed: 0</th>\n",
       "      <th>acc_now_delinq</th>\n",
       "      <th>acc_open_past_24mths</th>\n",
       "      <th>addr_state</th>\n",
       "      <th>all_util</th>\n",
       "      <th>annual_inc</th>\n",
       "      <th>annual_inc_joint</th>\n",
       "      <th>application_type</th>\n",
       "      <th>avg_cur_bal</th>\n",
       "      <th>bc_open_to_buy</th>\n",
       "      <th>...</th>\n",
       "      <th>total_pymnt_inv</th>\n",
       "      <th>total_rec_int</th>\n",
       "      <th>total_rec_late_fee</th>\n",
       "      <th>total_rec_prncp</th>\n",
       "      <th>total_rev_hi_lim</th>\n",
       "      <th>url</th>\n",
       "      <th>verification_status</th>\n",
       "      <th>verification_status_joint</th>\n",
       "      <th>zip_code</th>\n",
       "      <th>accepted</th>\n",
       "    </tr>\n",
       "  </thead>\n",
       "  <tbody>\n",
       "    <tr>\n",
       "      <th>0</th>\n",
       "      <td>0</td>\n",
       "      <td>0.0</td>\n",
       "      <td>NaN</td>\n",
       "      <td>AZ</td>\n",
       "      <td>NaN</td>\n",
       "      <td>24000.0</td>\n",
       "      <td>NaN</td>\n",
       "      <td>Individual</td>\n",
       "      <td>NaN</td>\n",
       "      <td>NaN</td>\n",
       "      <td>...</td>\n",
       "      <td>5833.84</td>\n",
       "      <td>863.16</td>\n",
       "      <td>0.00</td>\n",
       "      <td>5000.00</td>\n",
       "      <td>NaN</td>\n",
       "      <td>NaN</td>\n",
       "      <td>Verified</td>\n",
       "      <td>NaN</td>\n",
       "      <td>860xx</td>\n",
       "      <td>1</td>\n",
       "    </tr>\n",
       "    <tr>\n",
       "      <th>1</th>\n",
       "      <td>1</td>\n",
       "      <td>0.0</td>\n",
       "      <td>NaN</td>\n",
       "      <td>GA</td>\n",
       "      <td>NaN</td>\n",
       "      <td>30000.0</td>\n",
       "      <td>NaN</td>\n",
       "      <td>Individual</td>\n",
       "      <td>NaN</td>\n",
       "      <td>NaN</td>\n",
       "      <td>...</td>\n",
       "      <td>1014.53</td>\n",
       "      <td>435.17</td>\n",
       "      <td>0.00</td>\n",
       "      <td>456.46</td>\n",
       "      <td>NaN</td>\n",
       "      <td>NaN</td>\n",
       "      <td>Source Verified</td>\n",
       "      <td>NaN</td>\n",
       "      <td>309xx</td>\n",
       "      <td>1</td>\n",
       "    </tr>\n",
       "    <tr>\n",
       "      <th>2</th>\n",
       "      <td>2</td>\n",
       "      <td>0.0</td>\n",
       "      <td>NaN</td>\n",
       "      <td>IL</td>\n",
       "      <td>NaN</td>\n",
       "      <td>12252.0</td>\n",
       "      <td>NaN</td>\n",
       "      <td>Individual</td>\n",
       "      <td>NaN</td>\n",
       "      <td>NaN</td>\n",
       "      <td>...</td>\n",
       "      <td>3005.67</td>\n",
       "      <td>605.67</td>\n",
       "      <td>0.00</td>\n",
       "      <td>2400.00</td>\n",
       "      <td>NaN</td>\n",
       "      <td>NaN</td>\n",
       "      <td>Not Verified</td>\n",
       "      <td>NaN</td>\n",
       "      <td>606xx</td>\n",
       "      <td>1</td>\n",
       "    </tr>\n",
       "    <tr>\n",
       "      <th>3</th>\n",
       "      <td>3</td>\n",
       "      <td>0.0</td>\n",
       "      <td>NaN</td>\n",
       "      <td>CA</td>\n",
       "      <td>NaN</td>\n",
       "      <td>49200.0</td>\n",
       "      <td>NaN</td>\n",
       "      <td>Individual</td>\n",
       "      <td>NaN</td>\n",
       "      <td>NaN</td>\n",
       "      <td>...</td>\n",
       "      <td>12231.89</td>\n",
       "      <td>2214.92</td>\n",
       "      <td>16.97</td>\n",
       "      <td>10000.00</td>\n",
       "      <td>NaN</td>\n",
       "      <td>NaN</td>\n",
       "      <td>Source Verified</td>\n",
       "      <td>NaN</td>\n",
       "      <td>917xx</td>\n",
       "      <td>1</td>\n",
       "    </tr>\n",
       "    <tr>\n",
       "      <th>4</th>\n",
       "      <td>4</td>\n",
       "      <td>0.0</td>\n",
       "      <td>NaN</td>\n",
       "      <td>OR</td>\n",
       "      <td>NaN</td>\n",
       "      <td>80000.0</td>\n",
       "      <td>NaN</td>\n",
       "      <td>Individual</td>\n",
       "      <td>NaN</td>\n",
       "      <td>NaN</td>\n",
       "      <td>...</td>\n",
       "      <td>4066.91</td>\n",
       "      <td>1066.91</td>\n",
       "      <td>0.00</td>\n",
       "      <td>3000.00</td>\n",
       "      <td>NaN</td>\n",
       "      <td>NaN</td>\n",
       "      <td>Source Verified</td>\n",
       "      <td>NaN</td>\n",
       "      <td>972xx</td>\n",
       "      <td>1</td>\n",
       "    </tr>\n",
       "  </tbody>\n",
       "</table>\n",
       "<p>5 rows × 148 columns</p>\n",
       "</div>"
      ],
      "text/plain": [
       "   Unnamed: 0  acc_now_delinq  acc_open_past_24mths addr_state  all_util  \\\n",
       "0           0             0.0                   NaN         AZ       NaN   \n",
       "1           1             0.0                   NaN         GA       NaN   \n",
       "2           2             0.0                   NaN         IL       NaN   \n",
       "3           3             0.0                   NaN         CA       NaN   \n",
       "4           4             0.0                   NaN         OR       NaN   \n",
       "\n",
       "   annual_inc  annual_inc_joint application_type  avg_cur_bal  bc_open_to_buy  \\\n",
       "0     24000.0               NaN       Individual          NaN             NaN   \n",
       "1     30000.0               NaN       Individual          NaN             NaN   \n",
       "2     12252.0               NaN       Individual          NaN             NaN   \n",
       "3     49200.0               NaN       Individual          NaN             NaN   \n",
       "4     80000.0               NaN       Individual          NaN             NaN   \n",
       "\n",
       "     ...     total_pymnt_inv  total_rec_int  total_rec_late_fee  \\\n",
       "0    ...             5833.84         863.16                0.00   \n",
       "1    ...             1014.53         435.17                0.00   \n",
       "2    ...             3005.67         605.67                0.00   \n",
       "3    ...            12231.89        2214.92               16.97   \n",
       "4    ...             4066.91        1066.91                0.00   \n",
       "\n",
       "   total_rec_prncp total_rev_hi_lim url verification_status  \\\n",
       "0          5000.00              NaN NaN            Verified   \n",
       "1           456.46              NaN NaN     Source Verified   \n",
       "2          2400.00              NaN NaN        Not Verified   \n",
       "3         10000.00              NaN NaN     Source Verified   \n",
       "4          3000.00              NaN NaN     Source Verified   \n",
       "\n",
       "   verification_status_joint  zip_code  accepted  \n",
       "0                        NaN     860xx         1  \n",
       "1                        NaN     309xx         1  \n",
       "2                        NaN     606xx         1  \n",
       "3                        NaN     917xx         1  \n",
       "4                        NaN     972xx         1  \n",
       "\n",
       "[5 rows x 148 columns]"
      ]
     },
     "execution_count": 33,
     "metadata": {},
     "output_type": "execute_result"
    }
   ],
   "source": [
    "accept.head()"
   ]
  },
  {
   "cell_type": "code",
   "execution_count": 34,
   "metadata": {},
   "outputs": [
    {
     "name": "stderr",
     "output_type": "stream",
     "text": [
      "/anaconda3/lib/python3.6/site-packages/IPython/core/interactiveshell.py:2785: DtypeWarning: Columns (10) have mixed types. Specify dtype option on import or set low_memory=False.\n",
      "  interactivity=interactivity, compiler=compiler, result=result)\n"
     ]
    }
   ],
   "source": [
    "reject = pd.read_csv('Rejected.csv')"
   ]
  },
  {
   "cell_type": "code",
   "execution_count": 35,
   "metadata": {},
   "outputs": [
    {
     "data": {
      "text/html": [
       "<div>\n",
       "<style scoped>\n",
       "    .dataframe tbody tr th:only-of-type {\n",
       "        vertical-align: middle;\n",
       "    }\n",
       "\n",
       "    .dataframe tbody tr th {\n",
       "        vertical-align: top;\n",
       "    }\n",
       "\n",
       "    .dataframe thead th {\n",
       "        text-align: right;\n",
       "    }\n",
       "</style>\n",
       "<table border=\"1\" class=\"dataframe\">\n",
       "  <thead>\n",
       "    <tr style=\"text-align: right;\">\n",
       "      <th></th>\n",
       "      <th>Unnamed: 0</th>\n",
       "      <th>Amount Requested</th>\n",
       "      <th>Application Date</th>\n",
       "      <th>Debt-To-Income Ratio</th>\n",
       "      <th>Employment Length</th>\n",
       "      <th>Loan Title</th>\n",
       "      <th>Policy Code</th>\n",
       "      <th>Risk_Score</th>\n",
       "      <th>State</th>\n",
       "      <th>Zip Code</th>\n",
       "      <th>data_date</th>\n",
       "      <th>accepted</th>\n",
       "    </tr>\n",
       "  </thead>\n",
       "  <tbody>\n",
       "    <tr>\n",
       "      <th>0</th>\n",
       "      <td>0</td>\n",
       "      <td>1000.0</td>\n",
       "      <td>2007-05-26</td>\n",
       "      <td>10%</td>\n",
       "      <td>4 years</td>\n",
       "      <td>Wedding Covered but No Honeymoon</td>\n",
       "      <td>0.0</td>\n",
       "      <td>693.0</td>\n",
       "      <td>NM</td>\n",
       "      <td>481xx</td>\n",
       "      <td>NaN</td>\n",
       "      <td>0</td>\n",
       "    </tr>\n",
       "    <tr>\n",
       "      <th>1</th>\n",
       "      <td>1</td>\n",
       "      <td>1000.0</td>\n",
       "      <td>2007-05-26</td>\n",
       "      <td>10%</td>\n",
       "      <td>&lt; 1 year</td>\n",
       "      <td>Consolidating Debt</td>\n",
       "      <td>0.0</td>\n",
       "      <td>703.0</td>\n",
       "      <td>MA</td>\n",
       "      <td>010xx</td>\n",
       "      <td>NaN</td>\n",
       "      <td>0</td>\n",
       "    </tr>\n",
       "    <tr>\n",
       "      <th>2</th>\n",
       "      <td>2</td>\n",
       "      <td>11000.0</td>\n",
       "      <td>2007-05-27</td>\n",
       "      <td>10%</td>\n",
       "      <td>1 year</td>\n",
       "      <td>Want to consolidate my debt</td>\n",
       "      <td>0.0</td>\n",
       "      <td>715.0</td>\n",
       "      <td>MD</td>\n",
       "      <td>212xx</td>\n",
       "      <td>NaN</td>\n",
       "      <td>0</td>\n",
       "    </tr>\n",
       "    <tr>\n",
       "      <th>3</th>\n",
       "      <td>3</td>\n",
       "      <td>6000.0</td>\n",
       "      <td>2007-05-27</td>\n",
       "      <td>38.64%</td>\n",
       "      <td>&lt; 1 year</td>\n",
       "      <td>waksman</td>\n",
       "      <td>0.0</td>\n",
       "      <td>698.0</td>\n",
       "      <td>MA</td>\n",
       "      <td>017xx</td>\n",
       "      <td>NaN</td>\n",
       "      <td>0</td>\n",
       "    </tr>\n",
       "    <tr>\n",
       "      <th>4</th>\n",
       "      <td>4</td>\n",
       "      <td>1500.0</td>\n",
       "      <td>2007-05-27</td>\n",
       "      <td>9.43%</td>\n",
       "      <td>&lt; 1 year</td>\n",
       "      <td>mdrigo</td>\n",
       "      <td>0.0</td>\n",
       "      <td>509.0</td>\n",
       "      <td>MD</td>\n",
       "      <td>209xx</td>\n",
       "      <td>NaN</td>\n",
       "      <td>0</td>\n",
       "    </tr>\n",
       "  </tbody>\n",
       "</table>\n",
       "</div>"
      ],
      "text/plain": [
       "   Unnamed: 0  Amount Requested Application Date Debt-To-Income Ratio  \\\n",
       "0           0            1000.0       2007-05-26                  10%   \n",
       "1           1            1000.0       2007-05-26                  10%   \n",
       "2           2           11000.0       2007-05-27                  10%   \n",
       "3           3            6000.0       2007-05-27               38.64%   \n",
       "4           4            1500.0       2007-05-27                9.43%   \n",
       "\n",
       "  Employment Length                        Loan Title  Policy Code  \\\n",
       "0           4 years  Wedding Covered but No Honeymoon          0.0   \n",
       "1          < 1 year                Consolidating Debt          0.0   \n",
       "2            1 year       Want to consolidate my debt          0.0   \n",
       "3          < 1 year                           waksman          0.0   \n",
       "4          < 1 year                            mdrigo          0.0   \n",
       "\n",
       "   Risk_Score State Zip Code data_date  accepted  \n",
       "0       693.0    NM    481xx       NaN         0  \n",
       "1       703.0    MA    010xx       NaN         0  \n",
       "2       715.0    MD    212xx       NaN         0  \n",
       "3       698.0    MA    017xx       NaN         0  \n",
       "4       509.0    MD    209xx       NaN         0  "
      ]
     },
     "execution_count": 35,
     "metadata": {},
     "output_type": "execute_result"
    }
   ],
   "source": [
    "reject.head()"
   ]
  },
  {
   "cell_type": "code",
   "execution_count": 14,
   "metadata": {},
   "outputs": [
    {
     "name": "stderr",
     "output_type": "stream",
     "text": [
      "/anaconda3/lib/python3.6/site-packages/ipykernel_launcher.py:2: FutureWarning: Sorting because non-concatenation axis is not aligned. A future version\n",
      "of pandas will change to not sort by default.\n",
      "\n",
      "To accept the future behavior, pass 'sort=False'.\n",
      "\n",
      "To retain the current behavior and silence the warning, pass 'sort=True'.\n",
      "\n",
      "  \n"
     ]
    }
   ],
   "source": [
    "frames = [accept,reject] \n",
    "loan_data = pd.concat(frames)\n",
    "loan_data.to_csv(\"2008-2017 Loan Data.csv\")"
   ]
  },
  {
   "cell_type": "code",
   "execution_count": 37,
   "metadata": {},
   "outputs": [
    {
     "name": "stderr",
     "output_type": "stream",
     "text": [
      "/anaconda3/lib/python3.6/site-packages/IPython/core/interactiveshell.py:2785: DtypeWarning: Columns (14,16,20,32,36,38,39,40,41,43,72,97,111,120,122,145) have mixed types. Specify dtype option on import or set low_memory=False.\n",
      "  interactivity=interactivity, compiler=compiler, result=result)\n",
      "/anaconda3/lib/python3.6/site-packages/IPython/core/interactiveshell.py:2785: DtypeWarning: Columns (10) have mixed types. Specify dtype option on import or set low_memory=False.\n",
      "  interactivity=interactivity, compiler=compiler, result=result)\n"
     ]
    }
   ],
   "source": [
    "accept_test = pd.read_csv('Accepted_test.csv')\n",
    "reject_test = pd.read_csv('Rejected_test.csv')"
   ]
  },
  {
   "cell_type": "code",
   "execution_count": 21,
   "metadata": {},
   "outputs": [
    {
     "name": "stderr",
     "output_type": "stream",
     "text": [
      "/anaconda3/lib/python3.6/site-packages/ipykernel_launcher.py:2: FutureWarning: Sorting because non-concatenation axis is not aligned. A future version\n",
      "of pandas will change to not sort by default.\n",
      "\n",
      "To accept the future behavior, pass 'sort=False'.\n",
      "\n",
      "To retain the current behavior and silence the warning, pass 'sort=True'.\n",
      "\n",
      "  \n"
     ]
    }
   ],
   "source": [
    "frames =[accept_test,reject_test] \n",
    "test_data = pd.concat(frames)\n",
    "test_data.to_csv(\"Test Data.csv\")"
   ]
  },
  {
   "cell_type": "markdown",
   "metadata": {},
   "source": [
    "# I can now use my new data set which includes the new \"accepted\" variable"
   ]
  },
  {
   "cell_type": "code",
   "execution_count": 16,
   "metadata": {},
   "outputs": [
    {
     "data": {
      "text/plain": [
       "(18033092, 157)"
      ]
     },
     "execution_count": 16,
     "metadata": {},
     "output_type": "execute_result"
    }
   ],
   "source": [
    "loan_data.shape"
   ]
  },
  {
   "cell_type": "code",
   "execution_count": 17,
   "metadata": {},
   "outputs": [
    {
     "data": {
      "text/html": [
       "<div>\n",
       "<style scoped>\n",
       "    .dataframe tbody tr th:only-of-type {\n",
       "        vertical-align: middle;\n",
       "    }\n",
       "\n",
       "    .dataframe tbody tr th {\n",
       "        vertical-align: top;\n",
       "    }\n",
       "\n",
       "    .dataframe thead th {\n",
       "        text-align: right;\n",
       "    }\n",
       "</style>\n",
       "<table border=\"1\" class=\"dataframe\">\n",
       "  <thead>\n",
       "    <tr style=\"text-align: right;\">\n",
       "      <th></th>\n",
       "      <th>Amount Requested</th>\n",
       "      <th>Application Date</th>\n",
       "      <th>Debt-To-Income Ratio</th>\n",
       "      <th>Employment Length</th>\n",
       "      <th>Loan Title</th>\n",
       "      <th>Policy Code</th>\n",
       "      <th>Risk_Score</th>\n",
       "      <th>State</th>\n",
       "      <th>Zip Code</th>\n",
       "      <th>acc_now_delinq</th>\n",
       "      <th>...</th>\n",
       "      <th>total_pymnt</th>\n",
       "      <th>total_pymnt_inv</th>\n",
       "      <th>total_rec_int</th>\n",
       "      <th>total_rec_late_fee</th>\n",
       "      <th>total_rec_prncp</th>\n",
       "      <th>total_rev_hi_lim</th>\n",
       "      <th>url</th>\n",
       "      <th>verification_status</th>\n",
       "      <th>verification_status_joint</th>\n",
       "      <th>zip_code</th>\n",
       "    </tr>\n",
       "  </thead>\n",
       "  <tbody>\n",
       "    <tr>\n",
       "      <th>0</th>\n",
       "      <td>NaN</td>\n",
       "      <td>NaN</td>\n",
       "      <td>NaN</td>\n",
       "      <td>NaN</td>\n",
       "      <td>NaN</td>\n",
       "      <td>NaN</td>\n",
       "      <td>NaN</td>\n",
       "      <td>NaN</td>\n",
       "      <td>NaN</td>\n",
       "      <td>0.0</td>\n",
       "      <td>...</td>\n",
       "      <td>5863.155187</td>\n",
       "      <td>5833.84</td>\n",
       "      <td>863.16</td>\n",
       "      <td>0.00</td>\n",
       "      <td>5000.00</td>\n",
       "      <td>NaN</td>\n",
       "      <td>NaN</td>\n",
       "      <td>Verified</td>\n",
       "      <td>NaN</td>\n",
       "      <td>860xx</td>\n",
       "    </tr>\n",
       "    <tr>\n",
       "      <th>1</th>\n",
       "      <td>NaN</td>\n",
       "      <td>NaN</td>\n",
       "      <td>NaN</td>\n",
       "      <td>NaN</td>\n",
       "      <td>NaN</td>\n",
       "      <td>NaN</td>\n",
       "      <td>NaN</td>\n",
       "      <td>NaN</td>\n",
       "      <td>NaN</td>\n",
       "      <td>0.0</td>\n",
       "      <td>...</td>\n",
       "      <td>1014.530000</td>\n",
       "      <td>1014.53</td>\n",
       "      <td>435.17</td>\n",
       "      <td>0.00</td>\n",
       "      <td>456.46</td>\n",
       "      <td>NaN</td>\n",
       "      <td>NaN</td>\n",
       "      <td>Source Verified</td>\n",
       "      <td>NaN</td>\n",
       "      <td>309xx</td>\n",
       "    </tr>\n",
       "    <tr>\n",
       "      <th>2</th>\n",
       "      <td>NaN</td>\n",
       "      <td>NaN</td>\n",
       "      <td>NaN</td>\n",
       "      <td>NaN</td>\n",
       "      <td>NaN</td>\n",
       "      <td>NaN</td>\n",
       "      <td>NaN</td>\n",
       "      <td>NaN</td>\n",
       "      <td>NaN</td>\n",
       "      <td>0.0</td>\n",
       "      <td>...</td>\n",
       "      <td>3005.666844</td>\n",
       "      <td>3005.67</td>\n",
       "      <td>605.67</td>\n",
       "      <td>0.00</td>\n",
       "      <td>2400.00</td>\n",
       "      <td>NaN</td>\n",
       "      <td>NaN</td>\n",
       "      <td>Not Verified</td>\n",
       "      <td>NaN</td>\n",
       "      <td>606xx</td>\n",
       "    </tr>\n",
       "    <tr>\n",
       "      <th>3</th>\n",
       "      <td>NaN</td>\n",
       "      <td>NaN</td>\n",
       "      <td>NaN</td>\n",
       "      <td>NaN</td>\n",
       "      <td>NaN</td>\n",
       "      <td>NaN</td>\n",
       "      <td>NaN</td>\n",
       "      <td>NaN</td>\n",
       "      <td>NaN</td>\n",
       "      <td>0.0</td>\n",
       "      <td>...</td>\n",
       "      <td>12231.890000</td>\n",
       "      <td>12231.89</td>\n",
       "      <td>2214.92</td>\n",
       "      <td>16.97</td>\n",
       "      <td>10000.00</td>\n",
       "      <td>NaN</td>\n",
       "      <td>NaN</td>\n",
       "      <td>Source Verified</td>\n",
       "      <td>NaN</td>\n",
       "      <td>917xx</td>\n",
       "    </tr>\n",
       "    <tr>\n",
       "      <th>4</th>\n",
       "      <td>NaN</td>\n",
       "      <td>NaN</td>\n",
       "      <td>NaN</td>\n",
       "      <td>NaN</td>\n",
       "      <td>NaN</td>\n",
       "      <td>NaN</td>\n",
       "      <td>NaN</td>\n",
       "      <td>NaN</td>\n",
       "      <td>NaN</td>\n",
       "      <td>0.0</td>\n",
       "      <td>...</td>\n",
       "      <td>4066.908161</td>\n",
       "      <td>4066.91</td>\n",
       "      <td>1066.91</td>\n",
       "      <td>0.00</td>\n",
       "      <td>3000.00</td>\n",
       "      <td>NaN</td>\n",
       "      <td>NaN</td>\n",
       "      <td>Source Verified</td>\n",
       "      <td>NaN</td>\n",
       "      <td>972xx</td>\n",
       "    </tr>\n",
       "  </tbody>\n",
       "</table>\n",
       "<p>5 rows × 157 columns</p>\n",
       "</div>"
      ],
      "text/plain": [
       "   Amount Requested Application Date Debt-To-Income Ratio Employment Length  \\\n",
       "0               NaN              NaN                  NaN               NaN   \n",
       "1               NaN              NaN                  NaN               NaN   \n",
       "2               NaN              NaN                  NaN               NaN   \n",
       "3               NaN              NaN                  NaN               NaN   \n",
       "4               NaN              NaN                  NaN               NaN   \n",
       "\n",
       "  Loan Title  Policy Code  Risk_Score State Zip Code  acc_now_delinq  \\\n",
       "0        NaN          NaN         NaN   NaN      NaN             0.0   \n",
       "1        NaN          NaN         NaN   NaN      NaN             0.0   \n",
       "2        NaN          NaN         NaN   NaN      NaN             0.0   \n",
       "3        NaN          NaN         NaN   NaN      NaN             0.0   \n",
       "4        NaN          NaN         NaN   NaN      NaN             0.0   \n",
       "\n",
       "     ...      total_pymnt  total_pymnt_inv total_rec_int  total_rec_late_fee  \\\n",
       "0    ...      5863.155187          5833.84        863.16                0.00   \n",
       "1    ...      1014.530000          1014.53        435.17                0.00   \n",
       "2    ...      3005.666844          3005.67        605.67                0.00   \n",
       "3    ...     12231.890000         12231.89       2214.92               16.97   \n",
       "4    ...      4066.908161          4066.91       1066.91                0.00   \n",
       "\n",
       "   total_rec_prncp  total_rev_hi_lim url  verification_status  \\\n",
       "0          5000.00               NaN NaN             Verified   \n",
       "1           456.46               NaN NaN      Source Verified   \n",
       "2          2400.00               NaN NaN         Not Verified   \n",
       "3         10000.00               NaN NaN      Source Verified   \n",
       "4          3000.00               NaN NaN      Source Verified   \n",
       "\n",
       "   verification_status_joint  zip_code  \n",
       "0                        NaN     860xx  \n",
       "1                        NaN     309xx  \n",
       "2                        NaN     606xx  \n",
       "3                        NaN     917xx  \n",
       "4                        NaN     972xx  \n",
       "\n",
       "[5 rows x 157 columns]"
      ]
     },
     "execution_count": 17,
     "metadata": {},
     "output_type": "execute_result"
    }
   ],
   "source": [
    "loan_data.head()"
   ]
  },
  {
   "cell_type": "code",
   "execution_count": 22,
   "metadata": {},
   "outputs": [
    {
     "data": {
      "text/plain": [
       "['Amount Requested',\n",
       " 'Application Date',\n",
       " 'Debt-To-Income Ratio',\n",
       " 'Employment Length',\n",
       " 'Loan Title',\n",
       " 'Policy Code',\n",
       " 'Risk_Score',\n",
       " 'State',\n",
       " 'Zip Code',\n",
       " 'acc_now_delinq',\n",
       " 'acc_open_past_24mths',\n",
       " 'accepted',\n",
       " 'addr_state',\n",
       " 'all_util',\n",
       " 'annual_inc',\n",
       " 'annual_inc_joint',\n",
       " 'application_type',\n",
       " 'avg_cur_bal',\n",
       " 'bc_open_to_buy',\n",
       " 'bc_util',\n",
       " 'chargeoff_within_12_mths',\n",
       " 'collection_recovery_fee',\n",
       " 'collections_12_mths_ex_med',\n",
       " 'data_month',\n",
       " 'data_year',\n",
       " 'debt_settlement_flag',\n",
       " 'debt_settlement_flag_date',\n",
       " 'deferral_term',\n",
       " 'delinq_2yrs',\n",
       " 'delinq_amnt',\n",
       " 'desc',\n",
       " 'disbursement_method',\n",
       " 'dti',\n",
       " 'dti_joint',\n",
       " 'earliest_cr_line',\n",
       " 'emp_length',\n",
       " 'emp_title',\n",
       " 'funded_amnt',\n",
       " 'funded_amnt_inv',\n",
       " 'grade',\n",
       " 'hardship_amount',\n",
       " 'hardship_dpd',\n",
       " 'hardship_end_date',\n",
       " 'hardship_flag',\n",
       " 'hardship_last_payment_amount',\n",
       " 'hardship_length',\n",
       " 'hardship_loan_status',\n",
       " 'hardship_payoff_balance_amount',\n",
       " 'hardship_reason',\n",
       " 'hardship_start_date',\n",
       " 'hardship_status',\n",
       " 'hardship_type',\n",
       " 'home_ownership',\n",
       " 'id',\n",
       " 'il_util',\n",
       " 'initial_list_status',\n",
       " 'inq_fi',\n",
       " 'inq_last_12m',\n",
       " 'inq_last_6mths',\n",
       " 'installment',\n",
       " 'int_rate',\n",
       " 'issue_d',\n",
       " 'last_credit_pull_d',\n",
       " 'last_pymnt_amnt',\n",
       " 'last_pymnt_d',\n",
       " 'loan_amnt',\n",
       " 'loan_status',\n",
       " 'max_bal_bc',\n",
       " 'member_id',\n",
       " 'mo_sin_old_il_acct',\n",
       " 'mo_sin_old_rev_tl_op',\n",
       " 'mo_sin_rcnt_rev_tl_op',\n",
       " 'mo_sin_rcnt_tl',\n",
       " 'mort_acc',\n",
       " 'mths_since_last_delinq',\n",
       " 'mths_since_last_major_derog',\n",
       " 'mths_since_last_record',\n",
       " 'mths_since_rcnt_il',\n",
       " 'mths_since_recent_bc',\n",
       " 'mths_since_recent_bc_dlq',\n",
       " 'mths_since_recent_inq',\n",
       " 'mths_since_recent_revol_delinq',\n",
       " 'next_pymnt_d',\n",
       " 'num_accts_ever_120_pd',\n",
       " 'num_actv_bc_tl',\n",
       " 'num_actv_rev_tl',\n",
       " 'num_bc_sats',\n",
       " 'num_bc_tl',\n",
       " 'num_il_tl',\n",
       " 'num_op_rev_tl',\n",
       " 'num_rev_accts',\n",
       " 'num_rev_tl_bal_gt_0',\n",
       " 'num_sats',\n",
       " 'num_tl_120dpd_2m',\n",
       " 'num_tl_30dpd',\n",
       " 'num_tl_90g_dpd_24m',\n",
       " 'num_tl_op_past_12m',\n",
       " 'open_acc',\n",
       " 'open_acc_6m',\n",
       " 'open_act_il',\n",
       " 'open_il_12m',\n",
       " 'open_il_24m',\n",
       " 'open_rv_12m',\n",
       " 'open_rv_24m',\n",
       " 'orig_projected_additional_accrued_interest',\n",
       " 'out_prncp',\n",
       " 'out_prncp_inv',\n",
       " 'payment_plan_start_date',\n",
       " 'pct_tl_nvr_dlq',\n",
       " 'percent_bc_gt_75',\n",
       " 'policy_code',\n",
       " 'pub_rec',\n",
       " 'pub_rec_bankruptcies',\n",
       " 'purpose',\n",
       " 'pymnt_plan',\n",
       " 'recoveries',\n",
       " 'revol_bal',\n",
       " 'revol_bal_joint',\n",
       " 'revol_util',\n",
       " 'sec_app_chargeoff_within_12_mths',\n",
       " 'sec_app_collections_12_mths_ex_med',\n",
       " 'sec_app_earliest_cr_line',\n",
       " 'sec_app_inq_last_6mths',\n",
       " 'sec_app_mort_acc',\n",
       " 'sec_app_mths_since_last_major_derog',\n",
       " 'sec_app_num_rev_accts',\n",
       " 'sec_app_open_acc',\n",
       " 'sec_app_open_act_il',\n",
       " 'sec_app_revol_util',\n",
       " 'settlement_amount',\n",
       " 'settlement_date',\n",
       " 'settlement_percentage',\n",
       " 'settlement_status',\n",
       " 'settlement_term',\n",
       " 'sub_grade',\n",
       " 'tax_liens',\n",
       " 'term',\n",
       " 'title',\n",
       " 'tot_coll_amt',\n",
       " 'tot_cur_bal',\n",
       " 'tot_hi_cred_lim',\n",
       " 'total_acc',\n",
       " 'total_bal_ex_mort',\n",
       " 'total_bal_il',\n",
       " 'total_bc_limit',\n",
       " 'total_cu_tl',\n",
       " 'total_il_high_credit_limit',\n",
       " 'total_pymnt',\n",
       " 'total_pymnt_inv',\n",
       " 'total_rec_int',\n",
       " 'total_rec_late_fee',\n",
       " 'total_rec_prncp',\n",
       " 'total_rev_hi_lim',\n",
       " 'url',\n",
       " 'verification_status',\n",
       " 'verification_status_joint',\n",
       " 'zip_code']"
      ]
     },
     "execution_count": 22,
     "metadata": {},
     "output_type": "execute_result"
    }
   ],
   "source": [
    "list(loan_data.columns.values)"
   ]
  },
  {
   "cell_type": "code",
   "execution_count": 43,
   "metadata": {},
   "outputs": [
    {
     "data": {
      "text/plain": [
       "(6082566, 158)"
      ]
     },
     "execution_count": 43,
     "metadata": {},
     "output_type": "execute_result"
    }
   ],
   "source": [
    "test_data.shape"
   ]
  },
  {
   "cell_type": "code",
   "execution_count": 44,
   "metadata": {},
   "outputs": [
    {
     "data": {
      "text/html": [
       "<div>\n",
       "<style scoped>\n",
       "    .dataframe tbody tr th:only-of-type {\n",
       "        vertical-align: middle;\n",
       "    }\n",
       "\n",
       "    .dataframe tbody tr th {\n",
       "        vertical-align: top;\n",
       "    }\n",
       "\n",
       "    .dataframe thead th {\n",
       "        text-align: right;\n",
       "    }\n",
       "</style>\n",
       "<table border=\"1\" class=\"dataframe\">\n",
       "  <thead>\n",
       "    <tr style=\"text-align: right;\">\n",
       "      <th></th>\n",
       "      <th>Unnamed: 0</th>\n",
       "      <th>Amount Requested</th>\n",
       "      <th>Application Date</th>\n",
       "      <th>Debt-To-Income Ratio</th>\n",
       "      <th>Employment Length</th>\n",
       "      <th>Loan Title</th>\n",
       "      <th>Policy Code</th>\n",
       "      <th>Risk_Score</th>\n",
       "      <th>State</th>\n",
       "      <th>Unnamed: 0.1</th>\n",
       "      <th>...</th>\n",
       "      <th>total_pymnt</th>\n",
       "      <th>total_pymnt_inv</th>\n",
       "      <th>total_rec_int</th>\n",
       "      <th>total_rec_late_fee</th>\n",
       "      <th>total_rec_prncp</th>\n",
       "      <th>total_rev_hi_lim</th>\n",
       "      <th>url</th>\n",
       "      <th>verification_status</th>\n",
       "      <th>verification_status_joint</th>\n",
       "      <th>zip_code</th>\n",
       "    </tr>\n",
       "  </thead>\n",
       "  <tbody>\n",
       "    <tr>\n",
       "      <th>0</th>\n",
       "      <td>0</td>\n",
       "      <td>NaN</td>\n",
       "      <td>NaN</td>\n",
       "      <td>NaN</td>\n",
       "      <td>NaN</td>\n",
       "      <td>NaN</td>\n",
       "      <td>NaN</td>\n",
       "      <td>NaN</td>\n",
       "      <td>NaN</td>\n",
       "      <td>0</td>\n",
       "      <td>...</td>\n",
       "      <td>5863.155187</td>\n",
       "      <td>5833.84</td>\n",
       "      <td>863.16</td>\n",
       "      <td>0.00</td>\n",
       "      <td>5000.00</td>\n",
       "      <td>NaN</td>\n",
       "      <td>NaN</td>\n",
       "      <td>Verified</td>\n",
       "      <td>NaN</td>\n",
       "      <td>860xx</td>\n",
       "    </tr>\n",
       "    <tr>\n",
       "      <th>1</th>\n",
       "      <td>1</td>\n",
       "      <td>NaN</td>\n",
       "      <td>NaN</td>\n",
       "      <td>NaN</td>\n",
       "      <td>NaN</td>\n",
       "      <td>NaN</td>\n",
       "      <td>NaN</td>\n",
       "      <td>NaN</td>\n",
       "      <td>NaN</td>\n",
       "      <td>1</td>\n",
       "      <td>...</td>\n",
       "      <td>1014.530000</td>\n",
       "      <td>1014.53</td>\n",
       "      <td>435.17</td>\n",
       "      <td>0.00</td>\n",
       "      <td>456.46</td>\n",
       "      <td>NaN</td>\n",
       "      <td>NaN</td>\n",
       "      <td>Source Verified</td>\n",
       "      <td>NaN</td>\n",
       "      <td>309xx</td>\n",
       "    </tr>\n",
       "    <tr>\n",
       "      <th>2</th>\n",
       "      <td>2</td>\n",
       "      <td>NaN</td>\n",
       "      <td>NaN</td>\n",
       "      <td>NaN</td>\n",
       "      <td>NaN</td>\n",
       "      <td>NaN</td>\n",
       "      <td>NaN</td>\n",
       "      <td>NaN</td>\n",
       "      <td>NaN</td>\n",
       "      <td>2</td>\n",
       "      <td>...</td>\n",
       "      <td>3005.666844</td>\n",
       "      <td>3005.67</td>\n",
       "      <td>605.67</td>\n",
       "      <td>0.00</td>\n",
       "      <td>2400.00</td>\n",
       "      <td>NaN</td>\n",
       "      <td>NaN</td>\n",
       "      <td>Not Verified</td>\n",
       "      <td>NaN</td>\n",
       "      <td>606xx</td>\n",
       "    </tr>\n",
       "    <tr>\n",
       "      <th>3</th>\n",
       "      <td>3</td>\n",
       "      <td>NaN</td>\n",
       "      <td>NaN</td>\n",
       "      <td>NaN</td>\n",
       "      <td>NaN</td>\n",
       "      <td>NaN</td>\n",
       "      <td>NaN</td>\n",
       "      <td>NaN</td>\n",
       "      <td>NaN</td>\n",
       "      <td>3</td>\n",
       "      <td>...</td>\n",
       "      <td>12231.890000</td>\n",
       "      <td>12231.89</td>\n",
       "      <td>2214.92</td>\n",
       "      <td>16.97</td>\n",
       "      <td>10000.00</td>\n",
       "      <td>NaN</td>\n",
       "      <td>NaN</td>\n",
       "      <td>Source Verified</td>\n",
       "      <td>NaN</td>\n",
       "      <td>917xx</td>\n",
       "    </tr>\n",
       "    <tr>\n",
       "      <th>4</th>\n",
       "      <td>4</td>\n",
       "      <td>NaN</td>\n",
       "      <td>NaN</td>\n",
       "      <td>NaN</td>\n",
       "      <td>NaN</td>\n",
       "      <td>NaN</td>\n",
       "      <td>NaN</td>\n",
       "      <td>NaN</td>\n",
       "      <td>NaN</td>\n",
       "      <td>4</td>\n",
       "      <td>...</td>\n",
       "      <td>4066.908161</td>\n",
       "      <td>4066.91</td>\n",
       "      <td>1066.91</td>\n",
       "      <td>0.00</td>\n",
       "      <td>3000.00</td>\n",
       "      <td>NaN</td>\n",
       "      <td>NaN</td>\n",
       "      <td>Source Verified</td>\n",
       "      <td>NaN</td>\n",
       "      <td>972xx</td>\n",
       "    </tr>\n",
       "  </tbody>\n",
       "</table>\n",
       "<p>5 rows × 158 columns</p>\n",
       "</div>"
      ],
      "text/plain": [
       "   Unnamed: 0  Amount Requested Application Date Debt-To-Income Ratio  \\\n",
       "0           0               NaN              NaN                  NaN   \n",
       "1           1               NaN              NaN                  NaN   \n",
       "2           2               NaN              NaN                  NaN   \n",
       "3           3               NaN              NaN                  NaN   \n",
       "4           4               NaN              NaN                  NaN   \n",
       "\n",
       "  Employment Length Loan Title  Policy Code  Risk_Score State  Unnamed: 0.1  \\\n",
       "0               NaN        NaN          NaN         NaN   NaN             0   \n",
       "1               NaN        NaN          NaN         NaN   NaN             1   \n",
       "2               NaN        NaN          NaN         NaN   NaN             2   \n",
       "3               NaN        NaN          NaN         NaN   NaN             3   \n",
       "4               NaN        NaN          NaN         NaN   NaN             4   \n",
       "\n",
       "     ...      total_pymnt  total_pymnt_inv  total_rec_int  total_rec_late_fee  \\\n",
       "0    ...      5863.155187          5833.84         863.16                0.00   \n",
       "1    ...      1014.530000          1014.53         435.17                0.00   \n",
       "2    ...      3005.666844          3005.67         605.67                0.00   \n",
       "3    ...     12231.890000         12231.89        2214.92               16.97   \n",
       "4    ...      4066.908161          4066.91        1066.91                0.00   \n",
       "\n",
       "  total_rec_prncp  total_rev_hi_lim  url  verification_status  \\\n",
       "0         5000.00               NaN  NaN             Verified   \n",
       "1          456.46               NaN  NaN      Source Verified   \n",
       "2         2400.00               NaN  NaN         Not Verified   \n",
       "3        10000.00               NaN  NaN      Source Verified   \n",
       "4         3000.00               NaN  NaN      Source Verified   \n",
       "\n",
       "  verification_status_joint  zip_code  \n",
       "0                       NaN     860xx  \n",
       "1                       NaN     309xx  \n",
       "2                       NaN     606xx  \n",
       "3                       NaN     917xx  \n",
       "4                       NaN     972xx  \n",
       "\n",
       "[5 rows x 158 columns]"
      ]
     },
     "execution_count": 44,
     "metadata": {},
     "output_type": "execute_result"
    }
   ],
   "source": [
    "test_data.head()"
   ]
  },
  {
   "cell_type": "markdown",
   "metadata": {
    "_cell_guid": "2117b059-a562-4617-8fb1-9efff1b01f11",
    "_uuid": "0d154d0229d61f015a4e469388a874b84ee468a7"
   },
   "source": [
    "## Data Cleaning"
   ]
  },
  {
   "cell_type": "markdown",
   "metadata": {
    "_cell_guid": "41275678-fff6-4479-83fa-239730a09cd6",
    "_uuid": "7529eb5687354a7e7b87ce8efcf52d02e2ad59d5"
   },
   "source": [
    "\n",
    "### Check which features have good coverage, e.g. more/less than N% missing values"
   ]
  },
  {
   "cell_type": "code",
   "execution_count": 15,
   "metadata": {},
   "outputs": [],
   "source": [
    "del loan_data['url']\n",
    "del loan_data['Policy Code']\n",
    "del test_data['url']\n",
    "del test_data['Policy Code']\n",
    "del test_data['Unnamed: 0']\n",
    "del loan_data['Unnamed: 0']"
   ]
  },
  {
   "cell_type": "code",
   "execution_count": 44,
   "metadata": {},
   "outputs": [
    {
     "data": {
      "text/plain": [
       "['Amount Requested',\n",
       " 'Application Date',\n",
       " 'Debt-To-Income Ratio',\n",
       " 'Employment Length',\n",
       " 'Loan Title',\n",
       " 'Risk_Score',\n",
       " 'State',\n",
       " 'Zip Code',\n",
       " 'acc_now_delinq',\n",
       " 'acc_open_past_24mths',\n",
       " 'accepted',\n",
       " 'addr_state',\n",
       " 'all_util',\n",
       " 'annual_inc',\n",
       " 'annual_inc_joint',\n",
       " 'application_type',\n",
       " 'avg_cur_bal',\n",
       " 'bc_open_to_buy',\n",
       " 'bc_util',\n",
       " 'chargeoff_within_12_mths',\n",
       " 'collection_recovery_fee',\n",
       " 'collections_12_mths_ex_med',\n",
       " 'data_month',\n",
       " 'data_year',\n",
       " 'debt_settlement_flag',\n",
       " 'debt_settlement_flag_date',\n",
       " 'deferral_term',\n",
       " 'delinq_2yrs',\n",
       " 'delinq_amnt',\n",
       " 'desc',\n",
       " 'disbursement_method',\n",
       " 'dti',\n",
       " 'dti_joint',\n",
       " 'earliest_cr_line',\n",
       " 'emp_length',\n",
       " 'emp_title',\n",
       " 'funded_amnt',\n",
       " 'funded_amnt_inv',\n",
       " 'grade',\n",
       " 'hardship_amount',\n",
       " 'hardship_dpd',\n",
       " 'hardship_end_date',\n",
       " 'hardship_flag',\n",
       " 'hardship_last_payment_amount',\n",
       " 'hardship_length',\n",
       " 'hardship_loan_status',\n",
       " 'hardship_payoff_balance_amount',\n",
       " 'hardship_reason',\n",
       " 'hardship_start_date',\n",
       " 'hardship_status',\n",
       " 'hardship_type',\n",
       " 'home_ownership',\n",
       " 'id',\n",
       " 'il_util',\n",
       " 'initial_list_status',\n",
       " 'inq_fi',\n",
       " 'inq_last_12m',\n",
       " 'inq_last_6mths',\n",
       " 'installment',\n",
       " 'int_rate',\n",
       " 'issue_d',\n",
       " 'last_credit_pull_d',\n",
       " 'last_pymnt_amnt',\n",
       " 'last_pymnt_d',\n",
       " 'loan_amnt',\n",
       " 'loan_status',\n",
       " 'max_bal_bc',\n",
       " 'member_id',\n",
       " 'mo_sin_old_il_acct',\n",
       " 'mo_sin_old_rev_tl_op',\n",
       " 'mo_sin_rcnt_rev_tl_op',\n",
       " 'mo_sin_rcnt_tl',\n",
       " 'mort_acc',\n",
       " 'mths_since_last_delinq',\n",
       " 'mths_since_last_major_derog',\n",
       " 'mths_since_last_record',\n",
       " 'mths_since_rcnt_il',\n",
       " 'mths_since_recent_bc',\n",
       " 'mths_since_recent_bc_dlq',\n",
       " 'mths_since_recent_inq',\n",
       " 'mths_since_recent_revol_delinq',\n",
       " 'next_pymnt_d',\n",
       " 'num_accts_ever_120_pd',\n",
       " 'num_actv_bc_tl',\n",
       " 'num_actv_rev_tl',\n",
       " 'num_bc_sats',\n",
       " 'num_bc_tl',\n",
       " 'num_il_tl',\n",
       " 'num_op_rev_tl',\n",
       " 'num_rev_accts',\n",
       " 'num_rev_tl_bal_gt_0',\n",
       " 'num_sats',\n",
       " 'num_tl_120dpd_2m',\n",
       " 'num_tl_30dpd',\n",
       " 'num_tl_90g_dpd_24m',\n",
       " 'num_tl_op_past_12m',\n",
       " 'open_acc',\n",
       " 'open_acc_6m',\n",
       " 'open_act_il',\n",
       " 'open_il_12m',\n",
       " 'open_il_24m',\n",
       " 'open_rv_12m',\n",
       " 'open_rv_24m',\n",
       " 'orig_projected_additional_accrued_interest',\n",
       " 'out_prncp',\n",
       " 'out_prncp_inv',\n",
       " 'payment_plan_start_date',\n",
       " 'pct_tl_nvr_dlq',\n",
       " 'percent_bc_gt_75',\n",
       " 'policy_code',\n",
       " 'pub_rec',\n",
       " 'pub_rec_bankruptcies',\n",
       " 'purpose',\n",
       " 'pymnt_plan',\n",
       " 'recoveries',\n",
       " 'revol_bal',\n",
       " 'revol_bal_joint',\n",
       " 'revol_util',\n",
       " 'sec_app_chargeoff_within_12_mths',\n",
       " 'sec_app_collections_12_mths_ex_med',\n",
       " 'sec_app_earliest_cr_line',\n",
       " 'sec_app_inq_last_6mths',\n",
       " 'sec_app_mort_acc',\n",
       " 'sec_app_mths_since_last_major_derog',\n",
       " 'sec_app_num_rev_accts',\n",
       " 'sec_app_open_acc',\n",
       " 'sec_app_open_act_il',\n",
       " 'sec_app_revol_util',\n",
       " 'settlement_amount',\n",
       " 'settlement_date',\n",
       " 'settlement_percentage',\n",
       " 'settlement_status',\n",
       " 'settlement_term',\n",
       " 'sub_grade',\n",
       " 'tax_liens',\n",
       " 'term',\n",
       " 'title',\n",
       " 'tot_coll_amt',\n",
       " 'tot_cur_bal',\n",
       " 'tot_hi_cred_lim',\n",
       " 'total_acc',\n",
       " 'total_bal_ex_mort',\n",
       " 'total_bal_il',\n",
       " 'total_bc_limit',\n",
       " 'total_cu_tl',\n",
       " 'total_il_high_credit_limit',\n",
       " 'total_pymnt',\n",
       " 'total_pymnt_inv',\n",
       " 'total_rec_int',\n",
       " 'total_rec_late_fee',\n",
       " 'total_rec_prncp',\n",
       " 'total_rev_hi_lim',\n",
       " 'verification_status',\n",
       " 'verification_status_joint',\n",
       " 'zip_code']"
      ]
     },
     "execution_count": 44,
     "metadata": {},
     "output_type": "execute_result"
    }
   ],
   "source": [
    "list(test_data.columns.values)"
   ]
  },
  {
   "cell_type": "code",
   "execution_count": 45,
   "metadata": {},
   "outputs": [
    {
     "data": {
      "text/plain": [
       "['Amount Requested',\n",
       " 'Application Date',\n",
       " 'Debt-To-Income Ratio',\n",
       " 'Employment Length',\n",
       " 'Loan Title',\n",
       " 'Risk_Score',\n",
       " 'State',\n",
       " 'Zip Code',\n",
       " 'acc_now_delinq',\n",
       " 'acc_open_past_24mths',\n",
       " 'accepted',\n",
       " 'addr_state',\n",
       " 'all_util',\n",
       " 'annual_inc',\n",
       " 'annual_inc_joint',\n",
       " 'application_type',\n",
       " 'avg_cur_bal',\n",
       " 'bc_open_to_buy',\n",
       " 'bc_util',\n",
       " 'chargeoff_within_12_mths',\n",
       " 'collection_recovery_fee',\n",
       " 'collections_12_mths_ex_med',\n",
       " 'data_month',\n",
       " 'data_year',\n",
       " 'debt_settlement_flag',\n",
       " 'debt_settlement_flag_date',\n",
       " 'deferral_term',\n",
       " 'delinq_2yrs',\n",
       " 'delinq_amnt',\n",
       " 'desc',\n",
       " 'disbursement_method',\n",
       " 'dti',\n",
       " 'dti_joint',\n",
       " 'earliest_cr_line',\n",
       " 'emp_length',\n",
       " 'emp_title',\n",
       " 'funded_amnt',\n",
       " 'funded_amnt_inv',\n",
       " 'grade',\n",
       " 'hardship_amount',\n",
       " 'hardship_dpd',\n",
       " 'hardship_end_date',\n",
       " 'hardship_flag',\n",
       " 'hardship_last_payment_amount',\n",
       " 'hardship_length',\n",
       " 'hardship_loan_status',\n",
       " 'hardship_payoff_balance_amount',\n",
       " 'hardship_reason',\n",
       " 'hardship_start_date',\n",
       " 'hardship_status',\n",
       " 'hardship_type',\n",
       " 'home_ownership',\n",
       " 'id',\n",
       " 'il_util',\n",
       " 'initial_list_status',\n",
       " 'inq_fi',\n",
       " 'inq_last_12m',\n",
       " 'inq_last_6mths',\n",
       " 'installment',\n",
       " 'int_rate',\n",
       " 'issue_d',\n",
       " 'last_credit_pull_d',\n",
       " 'last_pymnt_amnt',\n",
       " 'last_pymnt_d',\n",
       " 'loan_amnt',\n",
       " 'loan_status',\n",
       " 'max_bal_bc',\n",
       " 'member_id',\n",
       " 'mo_sin_old_il_acct',\n",
       " 'mo_sin_old_rev_tl_op',\n",
       " 'mo_sin_rcnt_rev_tl_op',\n",
       " 'mo_sin_rcnt_tl',\n",
       " 'mort_acc',\n",
       " 'mths_since_last_delinq',\n",
       " 'mths_since_last_major_derog',\n",
       " 'mths_since_last_record',\n",
       " 'mths_since_rcnt_il',\n",
       " 'mths_since_recent_bc',\n",
       " 'mths_since_recent_bc_dlq',\n",
       " 'mths_since_recent_inq',\n",
       " 'mths_since_recent_revol_delinq',\n",
       " 'next_pymnt_d',\n",
       " 'num_accts_ever_120_pd',\n",
       " 'num_actv_bc_tl',\n",
       " 'num_actv_rev_tl',\n",
       " 'num_bc_sats',\n",
       " 'num_bc_tl',\n",
       " 'num_il_tl',\n",
       " 'num_op_rev_tl',\n",
       " 'num_rev_accts',\n",
       " 'num_rev_tl_bal_gt_0',\n",
       " 'num_sats',\n",
       " 'num_tl_120dpd_2m',\n",
       " 'num_tl_30dpd',\n",
       " 'num_tl_90g_dpd_24m',\n",
       " 'num_tl_op_past_12m',\n",
       " 'open_acc',\n",
       " 'open_acc_6m',\n",
       " 'open_act_il',\n",
       " 'open_il_12m',\n",
       " 'open_il_24m',\n",
       " 'open_rv_12m',\n",
       " 'open_rv_24m',\n",
       " 'orig_projected_additional_accrued_interest',\n",
       " 'out_prncp',\n",
       " 'out_prncp_inv',\n",
       " 'payment_plan_start_date',\n",
       " 'pct_tl_nvr_dlq',\n",
       " 'percent_bc_gt_75',\n",
       " 'policy_code',\n",
       " 'pub_rec',\n",
       " 'pub_rec_bankruptcies',\n",
       " 'purpose',\n",
       " 'pymnt_plan',\n",
       " 'recoveries',\n",
       " 'revol_bal',\n",
       " 'revol_bal_joint',\n",
       " 'revol_util',\n",
       " 'sec_app_chargeoff_within_12_mths',\n",
       " 'sec_app_collections_12_mths_ex_med',\n",
       " 'sec_app_earliest_cr_line',\n",
       " 'sec_app_inq_last_6mths',\n",
       " 'sec_app_mort_acc',\n",
       " 'sec_app_mths_since_last_major_derog',\n",
       " 'sec_app_num_rev_accts',\n",
       " 'sec_app_open_acc',\n",
       " 'sec_app_open_act_il',\n",
       " 'sec_app_revol_util',\n",
       " 'settlement_amount',\n",
       " 'settlement_date',\n",
       " 'settlement_percentage',\n",
       " 'settlement_status',\n",
       " 'settlement_term',\n",
       " 'sub_grade',\n",
       " 'tax_liens',\n",
       " 'term',\n",
       " 'title',\n",
       " 'tot_coll_amt',\n",
       " 'tot_cur_bal',\n",
       " 'tot_hi_cred_lim',\n",
       " 'total_acc',\n",
       " 'total_bal_ex_mort',\n",
       " 'total_bal_il',\n",
       " 'total_bc_limit',\n",
       " 'total_cu_tl',\n",
       " 'total_il_high_credit_limit',\n",
       " 'total_pymnt',\n",
       " 'total_pymnt_inv',\n",
       " 'total_rec_int',\n",
       " 'total_rec_late_fee',\n",
       " 'total_rec_prncp',\n",
       " 'total_rev_hi_lim',\n",
       " 'verification_status',\n",
       " 'verification_status_joint',\n",
       " 'zip_code']"
      ]
     },
     "execution_count": 45,
     "metadata": {},
     "output_type": "execute_result"
    }
   ],
   "source": [
    "list(loan_data.columns.values)"
   ]
  },
  {
   "cell_type": "code",
   "execution_count": 16,
   "metadata": {},
   "outputs": [
    {
     "data": {
      "text/html": [
       "<div>\n",
       "<style scoped>\n",
       "    .dataframe tbody tr th:only-of-type {\n",
       "        vertical-align: middle;\n",
       "    }\n",
       "\n",
       "    .dataframe tbody tr th {\n",
       "        vertical-align: top;\n",
       "    }\n",
       "\n",
       "    .dataframe thead th {\n",
       "        text-align: right;\n",
       "    }\n",
       "</style>\n",
       "<table border=\"1\" class=\"dataframe\">\n",
       "  <thead>\n",
       "    <tr style=\"text-align: right;\">\n",
       "      <th></th>\n",
       "      <th>Amount Requested</th>\n",
       "      <th>Application Date</th>\n",
       "      <th>Debt-To-Income Ratio</th>\n",
       "      <th>Employment Length</th>\n",
       "      <th>Loan Title</th>\n",
       "      <th>Risk_Score</th>\n",
       "      <th>State</th>\n",
       "      <th>Zip Code</th>\n",
       "      <th>acc_now_delinq</th>\n",
       "      <th>acc_open_past_24mths</th>\n",
       "      <th>...</th>\n",
       "      <th>total_il_high_credit_limit</th>\n",
       "      <th>total_pymnt</th>\n",
       "      <th>total_pymnt_inv</th>\n",
       "      <th>total_rec_int</th>\n",
       "      <th>total_rec_late_fee</th>\n",
       "      <th>total_rec_prncp</th>\n",
       "      <th>total_rev_hi_lim</th>\n",
       "      <th>verification_status</th>\n",
       "      <th>verification_status_joint</th>\n",
       "      <th>zip_code</th>\n",
       "    </tr>\n",
       "  </thead>\n",
       "  <tbody>\n",
       "  </tbody>\n",
       "</table>\n",
       "<p>0 rows × 155 columns</p>\n",
       "</div>"
      ],
      "text/plain": [
       "Empty DataFrame\n",
       "Columns: [Amount Requested, Application Date, Debt-To-Income Ratio, Employment Length, Loan Title, Risk_Score, State, Zip Code, acc_now_delinq, acc_open_past_24mths, accepted, addr_state, all_util, annual_inc, annual_inc_joint, application_type, avg_cur_bal, bc_open_to_buy, bc_util, chargeoff_within_12_mths, collection_recovery_fee, collections_12_mths_ex_med, data_month, data_year, debt_settlement_flag, debt_settlement_flag_date, deferral_term, delinq_2yrs, delinq_amnt, desc, disbursement_method, dti, dti_joint, earliest_cr_line, emp_length, emp_title, funded_amnt, funded_amnt_inv, grade, hardship_amount, hardship_dpd, hardship_end_date, hardship_flag, hardship_last_payment_amount, hardship_length, hardship_loan_status, hardship_payoff_balance_amount, hardship_reason, hardship_start_date, hardship_status, hardship_type, home_ownership, id, il_util, initial_list_status, inq_fi, inq_last_12m, inq_last_6mths, installment, int_rate, issue_d, last_credit_pull_d, last_pymnt_amnt, last_pymnt_d, loan_amnt, loan_status, max_bal_bc, member_id, mo_sin_old_il_acct, mo_sin_old_rev_tl_op, mo_sin_rcnt_rev_tl_op, mo_sin_rcnt_tl, mort_acc, mths_since_last_delinq, mths_since_last_major_derog, mths_since_last_record, mths_since_rcnt_il, mths_since_recent_bc, mths_since_recent_bc_dlq, mths_since_recent_inq, mths_since_recent_revol_delinq, next_pymnt_d, num_accts_ever_120_pd, num_actv_bc_tl, num_actv_rev_tl, num_bc_sats, num_bc_tl, num_il_tl, num_op_rev_tl, num_rev_accts, num_rev_tl_bal_gt_0, num_sats, num_tl_120dpd_2m, num_tl_30dpd, num_tl_90g_dpd_24m, num_tl_op_past_12m, open_acc, open_acc_6m, open_act_il, open_il_12m, ...]\n",
       "Index: []\n",
       "\n",
       "[0 rows x 155 columns]"
      ]
     },
     "execution_count": 16,
     "metadata": {},
     "output_type": "execute_result"
    }
   ],
   "source": [
    "loan_data.dropna()\n",
    "test_data.dropna()\n",
    "# get rid of empty column"
   ]
  },
  {
   "cell_type": "markdown",
   "metadata": {},
   "source": [
    "# Determine signigicance of nearly empty columns"
   ]
  },
  {
   "cell_type": "code",
   "execution_count": null,
   "metadata": {
    "_cell_guid": "e7a82363-2bff-4e84-bb8a-6a252a203016",
    "_uuid": "73e0e88ed8760aaae223f9a4a277b046a5823a67",
    "scrolled": false
   },
   "outputs": [],
   "source": [
    "check_null = loan_data.isnull().sum(axis=0).sort_values(ascending=False)/float(len(loan_data))#.isnull() is a pandas feature that checks for missing values\n",
    "#.sum() is a feature that will sum the previous feature of how many null values, with axis = 0 representing a vertical concatenation, which checks down the column of each dataframe. If axis = 1, this would be a horizontal concatenation checking each row instead of columns\n",
    "#sort_values will then sort the results, with ascending = False meaning that results will be sorted is a descending order. This is all divided by the length of the dataframe, which has been converted to a float value\n",
    " #outputs the feature and fraction of missing values"
   ]
  },
  {
   "cell_type": "code",
   "execution_count": null,
   "metadata": {},
   "outputs": [],
   "source": [
    "d = dict(check_null[check_null > .7])\n",
    "null_data = list(d.keys())"
   ]
  },
  {
   "cell_type": "code",
   "execution_count": null,
   "metadata": {},
   "outputs": [],
   "source": [
    "print(null_data) #could be important in the future"
   ]
  },
  {
   "cell_type": "markdown",
   "metadata": {
    "_cell_guid": "c1496d6f-6bd2-4d6a-aaba-8a5b26b72f0a",
    "_uuid": "fb74047c78953d538e30078418bafaebca6a4389"
   },
   "source": [
    "### Checking Features With Little Variation or No Use"
   ]
  },
  {
   "cell_type": "markdown",
   "metadata": {},
   "source": [
    "A lot of these columns have NaN values, or have little variation. Neither of these will be super useful to us. Let us first look at the columns with little variation, NaN values, and then drop columns we do not need."
   ]
  },
  {
   "cell_type": "markdown",
   "metadata": {},
   "source": [
    "1) index\n",
    "2) policy_code\n",
    "3) pymnt_plan\n",
    "4) url\n",
    "5) id\n",
    "6) member_id\n",
    "8) acc_now_delinq\n",
    "9) emp_title\n",
    "10) zip_code\n",
    "11) title"
   ]
  },
  {
   "cell_type": "markdown",
   "metadata": {},
   "source": [
    "Index is already built into the dataframe, so let us drop it."
   ]
  },
  {
   "cell_type": "markdown",
   "metadata": {},
   "source": [
    "#### Exploring Columns with Little Variation"
   ]
  },
  {
   "cell_type": "markdown",
   "metadata": {},
   "source": [
    "We will now use .groupby to group the dataframe by the specified columns above and sort each column by its values to showcase how much variation these columns have."
   ]
  },
  {
   "cell_type": "code",
   "execution_count": 7,
   "metadata": {},
   "outputs": [
    {
     "data": {
      "text/plain": [
       "policy_code\n",
       "1.0    887382\n",
       "dtype: int64"
      ]
     },
     "execution_count": 7,
     "metadata": {},
     "output_type": "execute_result"
    }
   ],
   "source": [
    "#get grouped data\n",
    "loan_data.groupby('policy_code').size().sort_values()\n",
    "#.groupby is a pandas feature that will group the dataframe amongst groups designated by mappers or column names\n",
    "#in this case we want the policy_code data so we will group by inputting the column policy_code to get that data\n",
    "#.size() will compute the group size\n",
    "#.sort_values() will then sort the values\n",
    "#since all values are the same, we get the following: 1.0 value for POlicy_code amongst all 887382 rows"
   ]
  },
  {
   "cell_type": "code",
   "execution_count": 17,
   "metadata": {},
   "outputs": [],
   "source": [
    "del loan_data['policy_code']\n",
    "del test_data['policy_code']"
   ]
  },
  {
   "cell_type": "code",
   "execution_count": 8,
   "metadata": {},
   "outputs": [
    {
     "data": {
      "text/plain": [
       "policy_code    0.0\n",
       "dtype: float64"
      ]
     },
     "execution_count": 8,
     "metadata": {},
     "output_type": "execute_result"
    }
   ],
   "source": [
    "#check for variation\n",
    "np.var(df.filter(regex='policy_code'))\n",
    "#np is numpy\n",
    "#.var is a numpy feature that will return the variance for the specified elements\n",
    "#df.filter serves to filter the data we want the variance on\n",
    "#regex stands for regular expression, which we are inputting as policy_code to specify this is the data we want variance on\n",
    "#note that variance only works when checking numbers (int/float), not strings"
   ]
  },
  {
   "cell_type": "markdown",
   "metadata": {},
   "source": [
    "An output of 0 means there is no variance, which makes sense as policy_code is always = 1.0."
   ]
  },
  {
   "cell_type": "code",
   "execution_count": 9,
   "metadata": {
    "scrolled": true
   },
   "outputs": [
    {
     "data": {
      "text/plain": [
       "pymnt_plan\n",
       "y        10\n",
       "n    887372\n",
       "dtype: int64"
      ]
     },
     "execution_count": 9,
     "metadata": {},
     "output_type": "execute_result"
    }
   ],
   "source": [
    "loan_data.groupby('pymnt_plan').size().sort_values()"
   ]
  },
  {
   "cell_type": "code",
   "execution_count": 10,
   "metadata": {},
   "outputs": [
    {
     "name": "stdout",
     "output_type": "stream",
     "text": [
      "2\n"
     ]
    }
   ],
   "source": [
    "#Now we are going to try a loop to see if we can catch the number of unique values in this column\n",
    "#we do a loop instead of the above variance method as variance only works on numbers, and this column has string values of \"yes\" or \"no\"\n",
    "unique = [] #set an empty list\n",
    "for x in loan_data.groupby('pymnt_plan').size().sort_values(): #create a for loop, saying that for each value in the payment plan column\n",
    "    if x not in unique: #for each of those values, if they are not in the unique list\n",
    "        unique.append(x) #append/add the value to the list\n",
    "print(len(unique)) #after the loop ends, print out the length of the unique list, which effectively gives us the number of unique values"
   ]
  },
  {
   "cell_type": "code",
   "execution_count": 18,
   "metadata": {},
   "outputs": [],
   "source": [
    "del loan_data['pymnt_plan']\n",
    "del test_data['pymnt_plan']"
   ]
  },
  {
   "cell_type": "markdown",
   "metadata": {},
   "source": [
    "Only 2 different values. For pymnt_plan, only 10 rows take the value \"yes\", which means there is little useful variation. URL, ID doesn't seem to have any useful information."
   ]
  },
  {
   "cell_type": "code",
   "execution_count": 11,
   "metadata": {},
   "outputs": [
    {
     "data": {
      "text/plain": [
       "application_type\n",
       "JOINT            511\n",
       "INDIVIDUAL    886871\n",
       "dtype: int64"
      ]
     },
     "execution_count": 11,
     "metadata": {},
     "output_type": "execute_result"
    }
   ],
   "source": [
    "df.groupby('application_type').size().sort_values()"
   ]
  },
  {
   "cell_type": "code",
   "execution_count": 13,
   "metadata": {},
   "outputs": [
    {
     "data": {
      "text/plain": [
       "acc_now_delinq    0.006026\n",
       "dtype: float64"
      ]
     },
     "execution_count": 13,
     "metadata": {},
     "output_type": "execute_result"
    }
   ],
   "source": [
    "np.var(df.filter(regex='acc_now_delinq'))"
   ]
  },
  {
   "cell_type": "markdown",
   "metadata": {},
   "source": [
    "The variance is quite low, meaning that the values are close to each other. Also notice the majority of values are concentrated at 0.0"
   ]
  },
  {
   "cell_type": "code",
   "execution_count": 14,
   "metadata": {},
   "outputs": [
    {
     "data": {
      "text/plain": [
       "emp_title\n",
       " \\tAdv Mtr Proj Fld Rep                         1\n",
       "Risk Systems Analyst                            1\n",
       "Risk advisory supervisor                        1\n",
       "Risk analysis                                   1\n",
       "Risk and Control Analyst II                     1\n",
       "Risk and Safety Management                      1\n",
       "Risk consultant                                 1\n",
       "Risk control                                    1\n",
       "Risk coordinator                                1\n",
       "Risk director                                   1\n",
       "Risk enterprise management                      1\n",
       "Risk management advisor                         1\n",
       "Risk management assistant                       1\n",
       "Risk officer                                    1\n",
       "Risk System Analyst                             1\n",
       "Risk services manager                           1\n",
       "Risk/Control Officer                            1\n",
       "RiskMetrics Group                               1\n",
       "Risks and Controls Sr Analyst                   1\n",
       "Risnychok & Associates, Inc.                    1\n",
       "Rissman Barrett                                 1\n",
       "Rissman Barrett, P.A.                           1\n",
       "Rita M. Valenti, LLC                            1\n",
       "Ritatsu Manufacturing, Inc.                     1\n",
       "Ritchey's Dairy                                 1\n",
       "Ritchie Bros. Auctioneers                       1\n",
       "Ritchie Co. Schools                             1\n",
       "Ritchie and page distributing company ic        1\n",
       "Ritchie-Curbow Construction                     1\n",
       "Risk systems specialist                         1\n",
       "                                            ...  \n",
       "Analyst                                      1538\n",
       "Executive Assistant                          1603\n",
       "supervisor                                   1675\n",
       "Police Officer                               1720\n",
       "sales                                        1724\n",
       "Account Manager                              1725\n",
       "Sales Manager                                1846\n",
       "Administrative Assistant                     2019\n",
       "Accountant                                   2035\n",
       "Operations Manager                           2071\n",
       "Attorney                                     2136\n",
       "Vice President                               2352\n",
       "driver                                       2429\n",
       "President                                    2598\n",
       "Engineer                                     2671\n",
       "owner                                        2849\n",
       "teacher                                      2925\n",
       "manager                                      3138\n",
       "Director                                     3156\n",
       "General Manager                              3178\n",
       "Office Manager                               3510\n",
       "Driver                                       3569\n",
       "Project Manager                              3988\n",
       "Sales                                        4212\n",
       "Supervisor                                   4983\n",
       "RN                                           5355\n",
       "Owner                                        5376\n",
       "Registered Nurse                             5525\n",
       "Manager                                     11240\n",
       "Teacher                                     13469\n",
       "Length: 299272, dtype: int64"
      ]
     },
     "execution_count": 14,
     "metadata": {},
     "output_type": "execute_result"
    }
   ],
   "source": [
    "df.groupby('emp_title').size().sort_values() # for now, we don't use that variable, but perhaps we can use it in the future?"
   ]
  },
  {
   "cell_type": "code",
   "execution_count": null,
   "metadata": {},
   "outputs": [],
   "source": [
    "unique = []\n",
    "for x in df.groupby('emp_title').size().sort_values():\n",
    "    if x not in unique:\n",
    "        unique.append(x)\n",
    "print(len(unique))"
   ]
  },
  {
   "cell_type": "markdown",
   "metadata": {},
   "source": [
    "So there are a lot of different professions here. Perhaps we can use that later."
   ]
  },
  {
   "cell_type": "code",
   "execution_count": 16,
   "metadata": {},
   "outputs": [
    {
     "data": {
      "text/plain": [
       "zip_code\n",
       "649xx       1\n",
       "643xx       1\n",
       "862xx       1\n",
       "621xx       1\n",
       "817xx       1\n",
       "849xx       1\n",
       "819xx       1\n",
       "507xx       1\n",
       "509xx       1\n",
       "682xx       1\n",
       "511xx       1\n",
       "513xx       1\n",
       "514xx       1\n",
       "516xx       1\n",
       "520xx       1\n",
       "569xx       1\n",
       "568xx       1\n",
       "429xx       1\n",
       "524xx       1\n",
       "889xx       1\n",
       "694xx       1\n",
       "892xx       1\n",
       "399xx       1\n",
       "375xx       1\n",
       "901xx       1\n",
       "909xx       1\n",
       "742xx       1\n",
       "205xx       1\n",
       "938xx       1\n",
       "888xx       1\n",
       "         ... \n",
       "920xx    4303\n",
       "956xx    4329\n",
       "600xx    4518\n",
       "604xx    4527\n",
       "021xx    4532\n",
       "080xx    4539\n",
       "601xx    4603\n",
       "481xx    4645\n",
       "334xx    4744\n",
       "113xx    4813\n",
       "925xx    4907\n",
       "913xx    5161\n",
       "926xx    5415\n",
       "852xx    5442\n",
       "921xx    5661\n",
       "104xx    6008\n",
       "117xx    6129\n",
       "330xx    6283\n",
       "917xx    6357\n",
       "891xx    6441\n",
       "770xx    6938\n",
       "900xx    7287\n",
       "331xx    7416\n",
       "070xx    7431\n",
       "100xx    7609\n",
       "300xx    8126\n",
       "606xx    8641\n",
       "112xx    9272\n",
       "750xx    9417\n",
       "945xx    9770\n",
       "Length: 935, dtype: int64"
      ]
     },
     "execution_count": 16,
     "metadata": {},
     "output_type": "execute_result"
    }
   ],
   "source": [
    "df.groupby('zip_code').size().sort_values() # for now, we don't use that variable, but perhaps we can use it in the future?"
   ]
  },
  {
   "cell_type": "code",
   "execution_count": 17,
   "metadata": {},
   "outputs": [
    {
     "name": "stdout",
     "output_type": "stream",
     "text": [
      "695\n"
     ]
    }
   ],
   "source": [
    "unique = []\n",
    "for x in df.groupby('zip_code').size().sort_values():\n",
    "    if x not in unique:\n",
    "        unique.append(x) "
   ]
  },
  {
   "cell_type": "code",
   "execution_count": 77,
   "metadata": {},
   "outputs": [
    {
     "data": {
      "text/plain": [
       "title\n",
       "îîMY FIRST CAR îî                         1\n",
       "PAY_CREDIT_CARDS_OFF                              1\n",
       "PAyoff                                            1\n",
       "PB&J Wedding                                      1\n",
       "PCS Simplification                                1\n",
       "PEACE  OF  MIND                                   1\n",
       "lower rate  to save money                         1\n",
       "lower payments/debt                               1\n",
       "lower payments, home improvements, babies         1\n",
       "PEACE of mind                                     1\n",
       "PEICE OF MIND                                     1\n",
       "PAYS OFF ALL DEBT-CLOSE ALL CC START NEW          1\n",
       "PEPE LOAN                                         1\n",
       "PEROSNAL                                          1\n",
       "lower payments                                    1\n",
       "PERSONAL BILL CONSOLIDATE                         1\n",
       "PERSONAL BUSINESS                                 1\n",
       "PERSONAL CONSOLIDATE                              1\n",
       "PERSONAL CONSOLIDATION                            1\n",
       "PERSONAL CREDIT                                   1\n",
       "PERSONAL DEBT CONSOLIDATION                       1\n",
       "PERSONAL DEBT LOAN                                1\n",
       "PERSONAL EXP                                      1\n",
       "PERFECTONE                                        1\n",
       "PAYROLL LOAN                                      1\n",
       "PAYOFOFS                                          1\n",
       "PAYOFFcredit card                                 1\n",
       "PAYOFF CREDITCARDS                                1\n",
       "PAYOFF Credit Cards!                              1\n",
       "lower rate offer                                  1\n",
       "                                              ...  \n",
       "consolidate                                     763\n",
       "personal                                        774\n",
       "Credit Card Loan                                783\n",
       "Freedom                                         803\n",
       "Loan                                           1033\n",
       "Green loan                                     1034\n",
       "Personal                                       1185\n",
       "Consolidate                                    1268\n",
       "Credit Card Payoff                             1386\n",
       "Credit Card Refinance                          1468\n",
       "Home Improvement                               1773\n",
       "Consolidation Loan                             1778\n",
       "Personal Loan                                  2133\n",
       "consolidation                                  2175\n",
       "Credit Card Consolidation                      2360\n",
       "Debt Consolidation Loan                        3804\n",
       "debt consolidation                             4837\n",
       "Consolidation                                  5385\n",
       "Home buying                                    7961\n",
       "Moving and relocation                         11779\n",
       "Vacation                                      12146\n",
       "Debt Consolidation                            15763\n",
       "Car financing                                 17061\n",
       "Business                                      17487\n",
       "Medical expenses                              20685\n",
       "Major purchase                                36342\n",
       "Other                                        101630\n",
       "Home improvement                             114423\n",
       "Credit card refinancing                      365883\n",
       "Debt consolidation                           962910\n",
       "Length: 63155, dtype: int64"
      ]
     },
     "execution_count": 77,
     "metadata": {},
     "output_type": "execute_result"
    }
   ],
   "source": [
    "loan_data.groupby('title').size().sort_values()"
   ]
  },
  {
   "cell_type": "code",
   "execution_count": 26,
   "metadata": {},
   "outputs": [
    {
     "name": "stdout",
     "output_type": "stream",
     "text": [
      "Wells/Chase ReFi\n",
      "False\n"
     ]
    },
    {
     "data": {
      "text/plain": [
       "str"
      ]
     },
     "execution_count": 26,
     "metadata": {},
     "output_type": "execute_result"
    }
   ],
   "source": [
    "titles = list(loan_data.title)\n",
    "print((titles[100]))\n",
    "print((titles[100][1]).isupper()) # is second letter uppercase?\n",
    "second_letter = []\n",
    "type(titles[100][2])"
   ]
  },
  {
   "cell_type": "code",
   "execution_count": 50,
   "metadata": {},
   "outputs": [
    {
     "name": "stdout",
     "output_type": "stream",
     "text": [
      "Wells/Chase ReFi\n",
      "Wells/Chase\n"
     ]
    }
   ],
   "source": [
    "import enchant #spell checking software\n",
    "d = enchant.Dict(\"en_US\")\n",
    "print(titles[100])\n",
    "word1 = titles[100].split(' ', 1)[0]\n",
    "print (word1)"
   ]
  },
  {
   "cell_type": "code",
   "execution_count": 66,
   "metadata": {},
   "outputs": [],
   "source": [
    "titles = list(loan_data.title.fillna(\"AA\"))\n",
    "title_accuracy = []\n",
    "import enchant #spell checking software\n",
    "d = enchant.Dict(\"en_US\")"
   ]
  },
  {
   "cell_type": "code",
   "execution_count": 67,
   "metadata": {},
   "outputs": [],
   "source": [
    "for i in range (0,len(titles)):\n",
    "    if (titles[i][1].isupper()) == True: #check if only first letter is capitilized \n",
    "        title_accuracy.append(False) \n",
    "    elif (d.check(titles[i]) == False): #check if word is misspelled  \n",
    "        title_accuracy.append(False)\n",
    "    else:  \n",
    "        title_accuracy.append(True) "
   ]
  },
  {
   "cell_type": "code",
   "execution_count": 70,
   "metadata": {},
   "outputs": [],
   "source": [
    "loan_data = loan_data.assign(title_accurate = title_accuracy) #this is my new predictor"
   ]
  },
  {
   "cell_type": "code",
   "execution_count": 71,
   "metadata": {},
   "outputs": [
    {
     "name": "stdout",
     "output_type": "stream",
     "text": [
      "2\n"
     ]
    }
   ],
   "source": [
    "unique = []\n",
    "for x in loan_data.groupby('title_accurate').size().sort_values():\n",
    "    if x not in unique:\n",
    "        unique.append(x)\n",
    "print(len(unique)) #Make sure only True & False"
   ]
  },
  {
   "cell_type": "code",
   "execution_count": 72,
   "metadata": {},
   "outputs": [],
   "source": [
    "del loan_data['title'] "
   ]
  },
  {
   "cell_type": "code",
   "execution_count": 75,
   "metadata": {},
   "outputs": [],
   "source": [
    "titles = list(test_data.title.fillna(\"AA\"))\n",
    "title_accuracy = []"
   ]
  },
  {
   "cell_type": "code",
   "execution_count": 76,
   "metadata": {},
   "outputs": [],
   "source": [
    "for i in range (0,len(titles)):\n",
    "    if (titles[i][1].isupper()) == True: #check if only first letter is capitilized \n",
    "        title_accuracy.append(False) \n",
    "    elif (d.check(titles[i]) == False): #check if word is misspelled  \n",
    "        title_accuracy.append(False)\n",
    "    else:  \n",
    "        title_accuracy.append(True) "
   ]
  },
  {
   "cell_type": "code",
   "execution_count": 77,
   "metadata": {},
   "outputs": [],
   "source": [
    "test_data = test_data.assign(title_accurate = title_accuracy) #this is my new predictor"
   ]
  },
  {
   "cell_type": "code",
   "execution_count": 176,
   "metadata": {},
   "outputs": [
    {
     "name": "stdout",
     "output_type": "stream",
     "text": [
      "1\n"
     ]
    }
   ],
   "source": [
    "unique = []\n",
    "for x in test_data.groupby('accepted').size().sort_values():\n",
    "    if x not in unique:\n",
    "        unique.append(x)\n",
    "print(len(unique)) #Make sure only True & False"
   ]
  },
  {
   "cell_type": "code",
   "execution_count": 79,
   "metadata": {},
   "outputs": [],
   "source": [
    "del test_data['title'] "
   ]
  },
  {
   "cell_type": "markdown",
   "metadata": {
    "_cell_guid": "925e8374-1c79-4f0a-b9cf-e70c94a95b8c",
    "_uuid": "eb10242aede23497f406c224fce4033d19e9fcf8",
    "scrolled": true
   },
   "source": [
    "## Feature transformations"
   ]
  },
  {
   "cell_type": "markdown",
   "metadata": {
    "_cell_guid": "88885c35-f12e-4b86-a157-97e822b5b2c9",
    "_uuid": "21edecc4d8e90408fc308c1447828389fd7f52a2"
   },
   "source": [
    "We need to transform a few metrics which sound very important, but are formatted as strings. These transformations are performed with the data modelling in mind. Ultimatelly we want to produce a dataset almost ready to be fed to the model. Here is a summary of the operations performed:\n",
    "\n",
    "1) Strip months from term and make it an integer\n",
    "2) The Interest rate is a string. Remove % and make it a float\n",
    "3) Extract numbers from emp_length and fill missing values with the median. If emp_length == 10+ years then leave it as 10\n",
    "4) Transform datetimes to a Period (class in Pandas)"
   ]
  },
  {
   "cell_type": "code",
   "execution_count": 19,
   "metadata": {
    "scrolled": true
   },
   "outputs": [],
   "source": [
    "#1. Strip `months` from `term` e.g. \"36 month\" to \"36\"\n",
    "loan_data['term'] = loan_data['term'].str.split(' ').str[1]\n",
    "test_data['term'] = test_data['term'].str.split(' ').str[1]\n",
    "#breaking term values by space, turning [36 months] into [36, months]\n",
    "#Can anyone figure out why the index is 1 instead of 0? "
   ]
  },
  {
   "cell_type": "code",
   "execution_count": 5,
   "metadata": {
    "scrolled": true
   },
   "outputs": [
    {
     "name": "stderr",
     "output_type": "stream",
     "text": [
      "/anaconda3/lib/python3.6/site-packages/ipykernel_launcher.py:1: FutureWarning: currently extract(expand=None) means expand=False (return Index/Series/DataFrame) but in a future version of pandas this will be changed to expand=True (return DataFrame)\n",
      "  \"\"\"Entry point for launching an IPython kernel.\n",
      "/anaconda3/lib/python3.6/site-packages/ipykernel_launcher.py:2: FutureWarning: currently extract(expand=None) means expand=False (return Index/Series/DataFrame) but in a future version of pandas this will be changed to expand=True (return DataFrame)\n",
      "  \n"
     ]
    }
   ],
   "source": [
    "loan_data['emp_length'] = loan_data['emp_length'].str.extract('(\\d+)').astype(float)\n",
    "test_data['emp_length'] = test_data['emp_length'].str.extract('(\\d+)').astype(float)"
   ]
  },
  {
   "cell_type": "code",
   "execution_count": 20,
   "metadata": {
    "_cell_guid": "bdee8b9c-1f7c-408f-8317-cd2885a63c95",
    "_uuid": "04831b39ab0715563de9e382a749fbbd339373d1"
   },
   "outputs": [],
   "source": [
    "#interest rate is a string. Remove % and make it a float. \n",
    "loan_data['int_rate'] = loan_data['int_rate'].str.split('%').str[0]\n",
    "#break int_rate terms by %, turning [10.65%] into [10.65]\n",
    "loan_data['int_rate'] = loan_data.int_rate.astype(float)/100.\n",
    "#making it so that int_rate is now assigned type float\n",
    "#divide by 100 to convert to decimal and ensure proper value since % was removed\n",
    "test_data['int_rate'] = test_data['int_rate'].str.split('%').str[0]\n",
    "test_data['int_rate'] = test_data.int_rate.astype(float)/100."
   ]
  },
  {
   "cell_type": "code",
   "execution_count": 24,
   "metadata": {},
   "outputs": [],
   "source": [
    "# create new avg. payment per month column\n",
    "    #total_bal_il Total current balance of all installment accounts\n",
    "    #tot_coll_amt Total collection amounts ever owed\n",
    "    #mo_sin_old_il_acct Months since oldest bank installment account opened  \n",
    "loan_data['tot_coll_amt']= loan_data['tot_coll_amt'].fillna(0) \n",
    "loan_data['total_bal_il']= loan_data['total_bal_il'].fillna(0) \n",
    "loan_data['mo_sin_old_il_acct'] = loan_data['mo_sin_old_il_acct'].fillna(0)\n",
    "loan_data['avg_pymnt_monthly'] = ((loan_data['tot_coll_amt'].astype(float) - loan_data['total_bal_il'].astype(float)) / loan_data['mo_sin_old_il_acct'].astype(float))\n",
    "\n"
   ]
  },
  {
   "cell_type": "code",
   "execution_count": 21,
   "metadata": {},
   "outputs": [],
   "source": [
    "col_dates = loan_data.dtypes[loan_data.dtypes == 'datetime64[ns]'].index\n",
    "#selecting all values in dataframe whose datatype is equal to datetimes, assigning to col_dates\n",
    "for d in col_dates:\n",
    "    loan_data[d] = loan_data[d].dt.to_period('M')\n",
    "    \n",
    "col_dates = test_data.dtypes[loan_data.dtypes == 'datetime64[ns]'].index\n",
    "for d in col_dates:\n",
    "    test_data[d] = test_data[d].dt.to_period('M')\n",
    "#creating for loop where for all dates in col_dates, the datatype will be converted to period\n",
    "#Periods are a class in Python that represent periods of time, and are much easier to manipulate than the current format\n",
    "#'M' input for to_period stands for months, since that is the time period we are dealing with"
   ]
  },
  {
   "cell_type": "code",
   "execution_count": null,
   "metadata": {},
   "outputs": [],
   "source": [
    "loan_data.dtypes #check types"
   ]
  },
  {
   "cell_type": "code",
   "execution_count": null,
   "metadata": {
    "scrolled": true
   },
   "outputs": [],
   "source": [
    "loan_data.head() #success"
   ]
  },
  {
   "cell_type": "code",
   "execution_count": 73,
   "metadata": {},
   "outputs": [],
   "source": [
    "#I will save my changes to updated csv files\n",
    "loan_data.to_csv(\"Loan Data.csv\")"
   ]
  },
  {
   "cell_type": "code",
   "execution_count": 80,
   "metadata": {},
   "outputs": [],
   "source": [
    "test_data.to_csv(\"Test Data.csv\")"
   ]
  },
  {
   "cell_type": "markdown",
   "metadata": {},
   "source": [
    "Now I will merge employment data with the BLS data (additional future improvement)"
   ]
  },
  {
   "cell_type": "markdown",
   "metadata": {
    "_cell_guid": "6fb210bd-b43d-4e0a-acd2-c6c48ae3b64c",
    "_uuid": "1560a957b2928f084b4828816d1adb4633f2850d"
   },
   "source": [
    "# Data Modelling"
   ]
  },
  {
   "cell_type": "markdown",
   "metadata": {
    "_cell_guid": "3264f8c8-f549-4005-b457-9437e0ac7d77",
    "_uuid": "c28570af41ba52c1be71de008e3bac0d9e10276d"
   },
   "source": [
    "Let's build a model which predicts the status charged_off or not accepted. (Which question does that answer? Are you perhaps also interested in answering different questions?) Let's first check which fraction of the observations is charged off."
   ]
  },
  {
   "cell_type": "code",
   "execution_count": 134,
   "metadata": {},
   "outputs": [
    {
     "name": "stdout",
     "output_type": "stream",
     "text": [
      "0.0\n"
     ]
    }
   ],
   "source": [
    "print(status.isnull().sum(axis=0)/float(len(status)))"
   ]
  },
  {
   "cell_type": "code",
   "execution_count": 153,
   "metadata": {},
   "outputs": [
    {
     "data": {
      "text/plain": [
       "pandas.core.series.Series"
      ]
     },
     "execution_count": 153,
     "metadata": {},
     "output_type": "execute_result"
    }
   ],
   "source": [
    "accepted = list(loan_data['accepted'])"
   ]
  },
  {
   "cell_type": "code",
   "execution_count": 139,
   "metadata": {},
   "outputs": [
    {
     "data": {
      "text/plain": [
       "18033092"
      ]
     },
     "execution_count": 139,
     "metadata": {},
     "output_type": "execute_result"
    }
   ],
   "source": [
    "len(status)"
   ]
  },
  {
   "cell_type": "code",
   "execution_count": 25,
   "metadata": {
    "scrolled": true
   },
   "outputs": [],
   "source": [
    "accepted = loan_data['accepted']\n",
    "status = loan_data['loan_status'].fillna(\"\")\n",
    "for i in range (0,len(status)):\n",
    "    if (status[i] == (\"\")):\n",
    "        if (accepted[i] == False):\n",
    "            status[i] = 'rejected'\n",
    "        else:\n",
    "            status[i] = 'unknown'\n",
    "loan_data['loan_status'] = status"
   ]
  },
  {
   "cell_type": "code",
   "execution_count": 17,
   "metadata": {},
   "outputs": [],
   "source": [
    "loan_data['accepted'] = loan_data['accepted'].astype(bool)"
   ]
  },
  {
   "cell_type": "code",
   "execution_count": 26,
   "metadata": {},
   "outputs": [],
   "source": [
    "test_data['accepted'] = test_data['accepted'].fillna(False)"
   ]
  },
  {
   "cell_type": "code",
   "execution_count": 27,
   "metadata": {},
   "outputs": [],
   "source": [
    "test_data['accepted'] = test_data['accepted'].astype(bool)"
   ]
  },
  {
   "cell_type": "code",
   "execution_count": 156,
   "metadata": {
    "scrolled": true
   },
   "outputs": [
    {
     "data": {
      "text/plain": [
       "loan_status\n",
       "rejected                                               90.209937\n",
       "Fully Paid                                              4.779241\n",
       "Current                                                 3.571828\n",
       "Charged Off                                             1.220811\n",
       "Late (31-120 days)                                      0.106432\n",
       "In Grace Period                                         0.068563\n",
       "Late (16-30 days)                                       0.027610\n",
       "Does not meet the credit policy. Status:Fully Paid      0.011024\n",
       "Does not meet the credit policy. Status:Charged Off     0.004220\n",
       "Default                                                 0.000194\n",
       "unknown                                                 0.000139\n",
       "dtype: float64"
      ]
     },
     "execution_count": 156,
     "metadata": {},
     "output_type": "execute_result"
    }
   ],
   "source": [
    "loan_status_grouped = loan_data.groupby('loan_status').size().sort_values(ascending=False)/len(loan_data) * 100\n",
    "#checking each loan status by pulling the column of statuses and sorting from high to low commonality\n",
    "#divide by length of data frame in end to figure out percentage of total dataframe that is status\n",
    "#multiply by 100 since percentages (since there is no % sign)\n",
    "loan_status_grouped\n",
    "#show status breakdown"
   ]
  },
  {
   "cell_type": "code",
   "execution_count": 28,
   "metadata": {
    "scrolled": true
   },
   "outputs": [],
   "source": [
    "accepted = test_data['accepted']\n",
    "status = test_data['loan_status'].fillna(\" \")\n",
    "for i in range (0,len(accepted)):\n",
    "    if (status[i] == (\" \")):\n",
    "        if (accepted[i] == False):\n",
    "            status[i] = 'rejected'\n",
    "        else:\n",
    "            status[i] = 'unknown'\n",
    "test_data['loan_status'] = status"
   ]
  },
  {
   "cell_type": "code",
   "execution_count": 30,
   "metadata": {},
   "outputs": [
    {
     "data": {
      "text/plain": [
       "4555750    False\n",
       "4555751    False\n",
       "4555752    False\n",
       "4555753    False\n",
       "4555754    False\n",
       "Name: accepted, dtype: bool"
      ]
     },
     "execution_count": 30,
     "metadata": {},
     "output_type": "execute_result"
    }
   ],
   "source": [
    "accepted.tail()"
   ]
  },
  {
   "cell_type": "code",
   "execution_count": 31,
   "metadata": {},
   "outputs": [
    {
     "data": {
      "text/plain": [
       "4555750    rejected\n",
       "4555751    rejected\n",
       "4555752    rejected\n",
       "4555753    rejected\n",
       "4555754    rejected\n",
       "Name: loan_status, dtype: object"
      ]
     },
     "execution_count": 31,
     "metadata": {},
     "output_type": "execute_result"
    }
   ],
   "source": [
    "status.tail()"
   ]
  },
  {
   "cell_type": "markdown",
   "metadata": {
    "_cell_guid": "cd2825fd-caba-4ddb-a793-7ededf4ba8c4",
    "_uuid": "d40f7a475d4cb37200d893a54fd3bccf2ae589c8"
   },
   "source": [
    "Now we can think of constructing features that are transformation of existing features. (E.g. remember: if you use linear models, you may want to construct variables that allow linear models to fit non-linear relationships along a particular dimension. Think y = x^2.)\n",
    "\n",
    "* Let's keep the loan_amount, but let's create a metric which indicates that the total amount committed by investors for that loan at that point in time (funded_amnt_inv) is less than what the borrower requested. Perhaps that indicates that other investors aren't super comfortable with the repayment ability?"
   ]
  },
  {
   "cell_type": "code",
   "execution_count": 34,
   "metadata": {
    "_cell_guid": "324e99bb-8a5e-4a4d-aeac-310629d243cc",
    "_uuid": "c3710bbef5ad4469522de3a001da4c206bb676c6"
   },
   "outputs": [
    {
     "data": {
      "text/html": [
       "<div>\n",
       "<style>\n",
       "    .dataframe thead tr:only-child th {\n",
       "        text-align: right;\n",
       "    }\n",
       "\n",
       "    .dataframe thead th {\n",
       "        text-align: left;\n",
       "    }\n",
       "\n",
       "    .dataframe tbody tr th {\n",
       "        vertical-align: top;\n",
       "    }\n",
       "</style>\n",
       "<table border=\"1\" class=\"dataframe\">\n",
       "  <thead>\n",
       "    <tr style=\"text-align: right;\">\n",
       "      <th></th>\n",
       "      <th>Unnamed: 0</th>\n",
       "      <th>Unnamed: 0.1</th>\n",
       "      <th>Amount Requested</th>\n",
       "      <th>Application Date</th>\n",
       "      <th>Debt-To-Income Ratio</th>\n",
       "      <th>Employment Length</th>\n",
       "      <th>Loan Title</th>\n",
       "      <th>Risk_Score</th>\n",
       "      <th>State</th>\n",
       "      <th>Zip Code</th>\n",
       "      <th>...</th>\n",
       "      <th>total_rec_late_fee</th>\n",
       "      <th>total_rec_prncp</th>\n",
       "      <th>total_rev_hi_lim</th>\n",
       "      <th>verification_status</th>\n",
       "      <th>verification_status_joint</th>\n",
       "      <th>zip_code</th>\n",
       "      <th>title_accurate</th>\n",
       "      <th>Application Year</th>\n",
       "      <th>avg_pymnt_monthly</th>\n",
       "      <th>amt_difference</th>\n",
       "    </tr>\n",
       "  </thead>\n",
       "  <tbody>\n",
       "    <tr>\n",
       "      <th>0</th>\n",
       "      <td>0</td>\n",
       "      <td>0</td>\n",
       "      <td>NaN</td>\n",
       "      <td>NaN</td>\n",
       "      <td>NaN</td>\n",
       "      <td>NaN</td>\n",
       "      <td>NaN</td>\n",
       "      <td>NaN</td>\n",
       "      <td>NaN</td>\n",
       "      <td>NaN</td>\n",
       "      <td>...</td>\n",
       "      <td>0.0</td>\n",
       "      <td>5000.0</td>\n",
       "      <td>NaN</td>\n",
       "      <td>Verified</td>\n",
       "      <td>NaN</td>\n",
       "      <td>860xx</td>\n",
       "      <td>True</td>\n",
       "      <td>NaN</td>\n",
       "      <td>NaN</td>\n",
       "      <td>less</td>\n",
       "    </tr>\n",
       "    <tr>\n",
       "      <th>1</th>\n",
       "      <td>1</td>\n",
       "      <td>1</td>\n",
       "      <td>NaN</td>\n",
       "      <td>NaN</td>\n",
       "      <td>NaN</td>\n",
       "      <td>NaN</td>\n",
       "      <td>NaN</td>\n",
       "      <td>NaN</td>\n",
       "      <td>NaN</td>\n",
       "      <td>NaN</td>\n",
       "      <td>...</td>\n",
       "      <td>0.0</td>\n",
       "      <td>456.46</td>\n",
       "      <td>NaN</td>\n",
       "      <td>Source Verified</td>\n",
       "      <td>NaN</td>\n",
       "      <td>309xx</td>\n",
       "      <td>True</td>\n",
       "      <td>NaN</td>\n",
       "      <td>NaN</td>\n",
       "      <td>eq</td>\n",
       "    </tr>\n",
       "    <tr>\n",
       "      <th>2</th>\n",
       "      <td>2</td>\n",
       "      <td>2</td>\n",
       "      <td>NaN</td>\n",
       "      <td>NaN</td>\n",
       "      <td>NaN</td>\n",
       "      <td>NaN</td>\n",
       "      <td>NaN</td>\n",
       "      <td>NaN</td>\n",
       "      <td>NaN</td>\n",
       "      <td>NaN</td>\n",
       "      <td>...</td>\n",
       "      <td>0.0</td>\n",
       "      <td>2400.0</td>\n",
       "      <td>NaN</td>\n",
       "      <td>Not Verified</td>\n",
       "      <td>NaN</td>\n",
       "      <td>606xx</td>\n",
       "      <td>False</td>\n",
       "      <td>NaN</td>\n",
       "      <td>NaN</td>\n",
       "      <td>eq</td>\n",
       "    </tr>\n",
       "    <tr>\n",
       "      <th>3</th>\n",
       "      <td>3</td>\n",
       "      <td>3</td>\n",
       "      <td>NaN</td>\n",
       "      <td>NaN</td>\n",
       "      <td>NaN</td>\n",
       "      <td>NaN</td>\n",
       "      <td>NaN</td>\n",
       "      <td>NaN</td>\n",
       "      <td>NaN</td>\n",
       "      <td>NaN</td>\n",
       "      <td>...</td>\n",
       "      <td>16.97</td>\n",
       "      <td>10000.0</td>\n",
       "      <td>NaN</td>\n",
       "      <td>Source Verified</td>\n",
       "      <td>NaN</td>\n",
       "      <td>917xx</td>\n",
       "      <td>False</td>\n",
       "      <td>NaN</td>\n",
       "      <td>NaN</td>\n",
       "      <td>eq</td>\n",
       "    </tr>\n",
       "    <tr>\n",
       "      <th>4</th>\n",
       "      <td>4</td>\n",
       "      <td>4</td>\n",
       "      <td>NaN</td>\n",
       "      <td>NaN</td>\n",
       "      <td>NaN</td>\n",
       "      <td>NaN</td>\n",
       "      <td>NaN</td>\n",
       "      <td>NaN</td>\n",
       "      <td>NaN</td>\n",
       "      <td>NaN</td>\n",
       "      <td>...</td>\n",
       "      <td>0.0</td>\n",
       "      <td>3000.0</td>\n",
       "      <td>NaN</td>\n",
       "      <td>Source Verified</td>\n",
       "      <td>NaN</td>\n",
       "      <td>972xx</td>\n",
       "      <td>True</td>\n",
       "      <td>NaN</td>\n",
       "      <td>NaN</td>\n",
       "      <td>eq</td>\n",
       "    </tr>\n",
       "  </tbody>\n",
       "</table>\n",
       "<p>5 rows × 158 columns</p>\n",
       "</div>"
      ],
      "text/plain": [
       "  Unnamed: 0 Unnamed: 0.1 Amount Requested Application Date  \\\n",
       "0          0            0              NaN              NaN   \n",
       "1          1            1              NaN              NaN   \n",
       "2          2            2              NaN              NaN   \n",
       "3          3            3              NaN              NaN   \n",
       "4          4            4              NaN              NaN   \n",
       "\n",
       "  Debt-To-Income Ratio Employment Length Loan Title Risk_Score State Zip Code  \\\n",
       "0                  NaN               NaN        NaN        NaN   NaN      NaN   \n",
       "1                  NaN               NaN        NaN        NaN   NaN      NaN   \n",
       "2                  NaN               NaN        NaN        NaN   NaN      NaN   \n",
       "3                  NaN               NaN        NaN        NaN   NaN      NaN   \n",
       "4                  NaN               NaN        NaN        NaN   NaN      NaN   \n",
       "\n",
       "       ...       total_rec_late_fee total_rec_prncp  total_rev_hi_lim  \\\n",
       "0      ...                      0.0          5000.0               NaN   \n",
       "1      ...                      0.0          456.46               NaN   \n",
       "2      ...                      0.0          2400.0               NaN   \n",
       "3      ...                    16.97         10000.0               NaN   \n",
       "4      ...                      0.0          3000.0               NaN   \n",
       "\n",
       "  verification_status verification_status_joint zip_code title_accurate  \\\n",
       "0            Verified                       NaN    860xx           True   \n",
       "1     Source Verified                       NaN    309xx           True   \n",
       "2        Not Verified                       NaN    606xx          False   \n",
       "3     Source Verified                       NaN    917xx          False   \n",
       "4     Source Verified                       NaN    972xx           True   \n",
       "\n",
       "  Application Year avg_pymnt_monthly amt_difference  \n",
       "0              NaN               NaN           less  \n",
       "1              NaN               NaN             eq  \n",
       "2              NaN               NaN             eq  \n",
       "3              NaN               NaN             eq  \n",
       "4              NaN               NaN             eq  \n",
       "\n",
       "[5 rows x 158 columns]"
      ]
     },
     "execution_count": 34,
     "metadata": {},
     "output_type": "execute_result"
    }
   ],
   "source": [
    "loan_data['amt_difference'] = 'eq' #set equal as the default value for amt_difference\n",
    "loan_data.loc[(loan_data['funded_amnt'].astype(float) - loan_data['funded_amnt_inv'].astype(float)) > 0,'amt_difference'] = 'less'\n",
    "#replaces the value equal with less in case the funded amount is less than requested\n",
    "loan_data.head()"
   ]
  },
  {
   "cell_type": "code",
   "execution_count": 35,
   "metadata": {
    "_cell_guid": "324e99bb-8a5e-4a4d-aeac-310629d243cc",
    "_uuid": "c3710bbef5ad4469522de3a001da4c206bb676c6"
   },
   "outputs": [],
   "source": [
    "test_data['amt_difference'] = 'eq' #set equal as the default value for amt_difference\n",
    "test_data.loc[(loan_data['funded_amnt'].astype(float) - test_data['funded_amnt_inv'].astype(float)) > 0,'amt_difference'] = 'less'\n",
    "#replaces the value equal with less in case the funded amount is less than requested"
   ]
  },
  {
   "cell_type": "markdown",
   "metadata": {
    "_cell_guid": "45e5360c-91df-401b-82c1-2b19f8cfa763",
    "_uuid": "f7456cb16718108c1f118a740e42e8cfdcf3aff5"
   },
   "source": [
    "\n",
    "* the metrics `delinq_2yrs` has 80% zeros. Let's make it categorical: `no` when `delinq_2yrs == 0` and `yes` when  `delinq_2yrs > 0`\n",
    "\n",
    "* Same as above for `inq_last_6mths`: The number of inquiries in past 6 months (excluding auto and mortgage inquiries)\n",
    "\n",
    "* Same as above for `pub_rec`: let's make the number of derogatory public records a binary. (You may play with that and see if we lose information.)"
   ]
  },
  {
   "cell_type": "code",
   "execution_count": 37,
   "metadata": {
    "_cell_guid": "86076fa6-877f-404f-928b-548d3e327805",
    "_uuid": "b942658786a2a0c6e1d50a6c53eb0dcd7e287a5a"
   },
   "outputs": [],
   "source": [
    "# Turn some continuous variables into binaries\n",
    "\n",
    "loan_data['delinq_2yrs_cat'] = False\n",
    "loan_data.loc[loan_data['delinq_2yrs'].astype(float)> 0,'delinq_2yrs_cat'] = True\n",
    "#.loc access a group of rows and columns by label(s) or a boolean/conditional lookup, which is why it is being used here\n",
    "#label used is the dataframe for delinq, if greater than 0 assigning those values yes\n",
    "#.loc lets us scour this data and insert yes when the boolean condition demands it\n",
    "\n",
    "loan_data['inq_last_6mths_cat'] = False\n",
    "loan_data.loc[loan_data['inq_last_6mths'].astype(float)> 0,'inq_last_6mths_cat'] = True\n",
    "#same idea as above\n",
    "\n",
    "loan_data['pub_rec_cat'] = False\n",
    "loan_data.loc[loan_data['pub_rec'].astype(float)> 0,'pub_rec_cat'] = True\n",
    "#same idea as above\n",
    "\n",
    "# Create new metric: which fraction of total credit lines is the borrower currently able to still borrow from?\n",
    "loan_data['acc_ratio'] = loan_data.open_acc.astype(float) / loan_data.total_acc.astype(float)\n",
    "#new ratio takes open accounts and divides by total accounts to find fraction of total that are open"
   ]
  },
  {
   "cell_type": "code",
   "execution_count": 41,
   "metadata": {},
   "outputs": [],
   "source": [
    "# Turn some continuous variables into binaries\n",
    "\n",
    "test_data['delinq_2yrs_cat'] = False\n",
    "test_data.loc[test_data['delinq_2yrs'].astype(float)> 0,'delinq_2yrs_cat'] = True\n",
    "#.loc access a group of rows and columns by label(s) or a boolean/conditional lookup, which is why it is being used here\n",
    "#label used is the dataframe for delinq, if greater than 0 assigning those values yes\n",
    "#.loc lets us scour this data and insert yes when the boolean condition demands it\n",
    "\n",
    "test_data['inq_last_6mths_cat'] = False\n",
    "test_data.loc[test_data['inq_last_6mths'].astype(float)> 0,'inq_last_6mths_cat'] = True\n",
    "#same idea as above\n",
    "\n",
    "test_data['pub_rec_cat'] = False\n",
    "test_data.loc[test_data['pub_rec'].astype(float)> 0,'pub_rec_cat'] = True\n",
    "#same idea as above\n",
    "\n",
    "# Create new metric: which fraction of total credit lines is the borrower currently able to still borrow from?\n",
    "test_data['acc_ratio'] = test_data.open_acc.astype(float) / test_data.total_acc.astype(float)\n",
    "#new ratio takes open accounts and divides by total accounts to find fraction of total that are open"
   ]
  },
  {
   "cell_type": "markdown",
   "metadata": {
    "_cell_guid": "ce384281-9f5c-47b9-b08d-93fcb4a24567",
    "_uuid": "798c3e6e553f75f233868e51ec89865f61c88aab"
   },
   "source": [
    "These are the features we want to use as predictors of charge-off"
   ]
  },
  {
   "cell_type": "code",
   "execution_count": 47,
   "metadata": {
    "_cell_guid": "9b7b4741-d61d-4404-a172-13fdc9ad24fc",
    "_uuid": "4e8ec281717ceeabe9dc89587ad1cd638393a9aa"
   },
   "outputs": [],
   "source": [
    "features = ['loan_amnt', 'amt_difference', 'term', \n",
    "            'installment', 'grade','emp_length',\n",
    "            'home_ownership', 'annual_inc','verification_status',\n",
    "            'purpose', 'dti', 'delinq_2yrs_cat', 'inq_last_6mths_cat', \n",
    "            'open_acc', 'pub_rec', 'pub_rec_cat', 'acc_ratio', 'title_accurate', 'accepted','data_year', 'initial_list_status',  \n",
    "            'loan_status']\n",
    "#creating list of features"
   ]
  },
  {
   "cell_type": "markdown",
   "metadata": {
    "_cell_guid": "3d291be0-1b58-43bc-9b51-e18e0dba8b0c",
    "_uuid": "07682f5040e7359ea6e4028301cb0b14c687ca81"
   },
   "source": [
    "We want to distinguish between a customer who will *charge off* and a customer who will pay in full. For this iteration of this exercise, we remove borrowers who are current. But that limits our sample in interesting ways. We will reconsider this step in the future."
   ]
  },
  {
   "cell_type": "code",
   "execution_count": 43,
   "metadata": {},
   "outputs": [],
   "source": [
    "loan_data.to_csv('loan_data_clean.gz', compression='gzip') #Save progress on dataset"
   ]
  },
  {
   "cell_type": "code",
   "execution_count": 44,
   "metadata": {},
   "outputs": [],
   "source": [
    "test_data.to_csv('test_data_clean.gz', compression='gzip')"
   ]
  },
  {
   "cell_type": "code",
   "execution_count": 48,
   "metadata": {
    "_cell_guid": "f26568e8-72b0-4b29-9f85-76514a46d0a6",
    "_uuid": "02efe9696ceaa912debfceb86934d945800df8f1",
    "scrolled": true
   },
   "outputs": [
    {
     "data": {
      "text/html": [
       "<div>\n",
       "<style>\n",
       "    .dataframe thead tr:only-child th {\n",
       "        text-align: right;\n",
       "    }\n",
       "\n",
       "    .dataframe thead th {\n",
       "        text-align: left;\n",
       "    }\n",
       "\n",
       "    .dataframe tbody tr th {\n",
       "        vertical-align: top;\n",
       "    }\n",
       "</style>\n",
       "<table border=\"1\" class=\"dataframe\">\n",
       "  <thead>\n",
       "    <tr style=\"text-align: right;\">\n",
       "      <th></th>\n",
       "      <th>loan_amnt</th>\n",
       "      <th>amt_difference</th>\n",
       "      <th>term</th>\n",
       "      <th>installment</th>\n",
       "      <th>grade</th>\n",
       "      <th>emp_length</th>\n",
       "      <th>home_ownership</th>\n",
       "      <th>annual_inc</th>\n",
       "      <th>verification_status</th>\n",
       "      <th>purpose</th>\n",
       "      <th>...</th>\n",
       "      <th>inq_last_6mths_cat</th>\n",
       "      <th>open_acc</th>\n",
       "      <th>pub_rec</th>\n",
       "      <th>pub_rec_cat</th>\n",
       "      <th>acc_ratio</th>\n",
       "      <th>title_accurate</th>\n",
       "      <th>accepted</th>\n",
       "      <th>data_year</th>\n",
       "      <th>initial_list_status</th>\n",
       "      <th>loan_status</th>\n",
       "    </tr>\n",
       "  </thead>\n",
       "  <tbody>\n",
       "    <tr>\n",
       "      <th>0</th>\n",
       "      <td>5000.0</td>\n",
       "      <td>less</td>\n",
       "      <td>36</td>\n",
       "      <td>162.87</td>\n",
       "      <td>B</td>\n",
       "      <td>10.0</td>\n",
       "      <td>RENT</td>\n",
       "      <td>24000.0</td>\n",
       "      <td>Verified</td>\n",
       "      <td>credit_card</td>\n",
       "      <td>...</td>\n",
       "      <td>True</td>\n",
       "      <td>3.0</td>\n",
       "      <td>0.0</td>\n",
       "      <td>False</td>\n",
       "      <td>0.3333333333333333</td>\n",
       "      <td>True</td>\n",
       "      <td>True</td>\n",
       "      <td>NaN</td>\n",
       "      <td>f</td>\n",
       "      <td>Fully Paid</td>\n",
       "    </tr>\n",
       "    <tr>\n",
       "      <th>1</th>\n",
       "      <td>2500.0</td>\n",
       "      <td>eq</td>\n",
       "      <td>60</td>\n",
       "      <td>59.83</td>\n",
       "      <td>C</td>\n",
       "      <td>NaN</td>\n",
       "      <td>RENT</td>\n",
       "      <td>30000.0</td>\n",
       "      <td>Source Verified</td>\n",
       "      <td>car</td>\n",
       "      <td>...</td>\n",
       "      <td>True</td>\n",
       "      <td>3.0</td>\n",
       "      <td>0.0</td>\n",
       "      <td>False</td>\n",
       "      <td>0.75</td>\n",
       "      <td>True</td>\n",
       "      <td>True</td>\n",
       "      <td>NaN</td>\n",
       "      <td>f</td>\n",
       "      <td>Charged Off</td>\n",
       "    </tr>\n",
       "    <tr>\n",
       "      <th>2</th>\n",
       "      <td>2400.0</td>\n",
       "      <td>eq</td>\n",
       "      <td>36</td>\n",
       "      <td>84.33</td>\n",
       "      <td>C</td>\n",
       "      <td>10.0</td>\n",
       "      <td>RENT</td>\n",
       "      <td>12252.0</td>\n",
       "      <td>Not Verified</td>\n",
       "      <td>small_business</td>\n",
       "      <td>...</td>\n",
       "      <td>True</td>\n",
       "      <td>2.0</td>\n",
       "      <td>0.0</td>\n",
       "      <td>False</td>\n",
       "      <td>0.2</td>\n",
       "      <td>False</td>\n",
       "      <td>True</td>\n",
       "      <td>NaN</td>\n",
       "      <td>f</td>\n",
       "      <td>Fully Paid</td>\n",
       "    </tr>\n",
       "    <tr>\n",
       "      <th>3</th>\n",
       "      <td>10000.0</td>\n",
       "      <td>eq</td>\n",
       "      <td>36</td>\n",
       "      <td>339.31</td>\n",
       "      <td>C</td>\n",
       "      <td>10.0</td>\n",
       "      <td>RENT</td>\n",
       "      <td>49200.0</td>\n",
       "      <td>Source Verified</td>\n",
       "      <td>other</td>\n",
       "      <td>...</td>\n",
       "      <td>True</td>\n",
       "      <td>10.0</td>\n",
       "      <td>0.0</td>\n",
       "      <td>False</td>\n",
       "      <td>0.2702702702702703</td>\n",
       "      <td>False</td>\n",
       "      <td>True</td>\n",
       "      <td>NaN</td>\n",
       "      <td>f</td>\n",
       "      <td>Fully Paid</td>\n",
       "    </tr>\n",
       "    <tr>\n",
       "      <th>4</th>\n",
       "      <td>3000.0</td>\n",
       "      <td>eq</td>\n",
       "      <td>60</td>\n",
       "      <td>67.79</td>\n",
       "      <td>B</td>\n",
       "      <td>1.0</td>\n",
       "      <td>RENT</td>\n",
       "      <td>80000.0</td>\n",
       "      <td>Source Verified</td>\n",
       "      <td>other</td>\n",
       "      <td>...</td>\n",
       "      <td>False</td>\n",
       "      <td>15.0</td>\n",
       "      <td>0.0</td>\n",
       "      <td>False</td>\n",
       "      <td>0.39473684210526316</td>\n",
       "      <td>True</td>\n",
       "      <td>True</td>\n",
       "      <td>NaN</td>\n",
       "      <td>f</td>\n",
       "      <td>Fully Paid</td>\n",
       "    </tr>\n",
       "  </tbody>\n",
       "</table>\n",
       "<p>5 rows × 22 columns</p>\n",
       "</div>"
      ],
      "text/plain": [
       "  loan_amnt amt_difference term installment grade  emp_length home_ownership  \\\n",
       "0    5000.0           less   36      162.87     B        10.0           RENT   \n",
       "1    2500.0             eq   60       59.83     C         NaN           RENT   \n",
       "2    2400.0             eq   36       84.33     C        10.0           RENT   \n",
       "3   10000.0             eq   36      339.31     C        10.0           RENT   \n",
       "4    3000.0             eq   60       67.79     B         1.0           RENT   \n",
       "\n",
       "  annual_inc verification_status         purpose     ...       \\\n",
       "0    24000.0            Verified     credit_card     ...        \n",
       "1    30000.0     Source Verified             car     ...        \n",
       "2    12252.0        Not Verified  small_business     ...        \n",
       "3    49200.0     Source Verified           other     ...        \n",
       "4    80000.0     Source Verified           other     ...        \n",
       "\n",
       "  inq_last_6mths_cat open_acc pub_rec pub_rec_cat            acc_ratio  \\\n",
       "0               True      3.0     0.0       False   0.3333333333333333   \n",
       "1               True      3.0     0.0       False                 0.75   \n",
       "2               True      2.0     0.0       False                  0.2   \n",
       "3               True     10.0     0.0       False   0.2702702702702703   \n",
       "4              False     15.0     0.0       False  0.39473684210526316   \n",
       "\n",
       "  title_accurate accepted data_year initial_list_status  loan_status  \n",
       "0           True     True       NaN                   f   Fully Paid  \n",
       "1           True     True       NaN                   f  Charged Off  \n",
       "2          False     True       NaN                   f   Fully Paid  \n",
       "3          False     True       NaN                   f   Fully Paid  \n",
       "4           True     True       NaN                   f   Fully Paid  \n",
       "\n",
       "[5 rows x 22 columns]"
      ]
     },
     "execution_count": 48,
     "metadata": {},
     "output_type": "execute_result"
    }
   ],
   "source": [
    "loan_clean = loan_data.loc[loan_data.loan_status != 'Current', features] #features is at end to specify which columns we are specifically interested in looking through and using in X_clean dataframe\n",
    "#the cleaned dataframe is one that has it where the loan status is not equal to current\n",
    "#again, using loc as it lets us access rows and columns by label(s) or a boolean/conditional lookup\n",
    "loan_clean.head() #get overview of new dataframe that is prepped for modelling"
   ]
  },
  {
   "cell_type": "code",
   "execution_count": 49,
   "metadata": {
    "_cell_guid": "f26568e8-72b0-4b29-9f85-76514a46d0a6",
    "_uuid": "02efe9696ceaa912debfceb86934d945800df8f1",
    "scrolled": true
   },
   "outputs": [],
   "source": [
    "test_clean = test_data.loc[test_data.loan_status != 'Current', features] #features is at end to specify which columns we are specifically interested in looking through and using in X_clean dataframe\n",
    "#the cleaned dataframe is one that has it where the loan status is not equal to current\n",
    "#again, using loc as it lets us access rows and columns by label(s) or a boolean/conditional lookup"
   ]
  },
  {
   "cell_type": "code",
   "execution_count": 1,
   "metadata": {},
   "outputs": [
    {
     "ename": "NameError",
     "evalue": "name 'loan_clean' is not defined",
     "output_type": "error",
     "traceback": [
      "\u001b[0;31m---------------------------------------------------------------------------\u001b[0m",
      "\u001b[0;31mNameError\u001b[0m                                 Traceback (most recent call last)",
      "\u001b[0;32m<ipython-input-1-93a80cb00712>\u001b[0m in \u001b[0;36m<module>\u001b[0;34m()\u001b[0m\n\u001b[0;32m----> 1\u001b[0;31m \u001b[0mframes\u001b[0m \u001b[0;34m=\u001b[0m \u001b[0;34m[\u001b[0m\u001b[0mloan_clean\u001b[0m\u001b[0;34m,\u001b[0m\u001b[0mtest_clean\u001b[0m\u001b[0;34m]\u001b[0m\u001b[0;34m\u001b[0m\u001b[0m\n\u001b[0m\u001b[1;32m      2\u001b[0m \u001b[0mX_clean\u001b[0m \u001b[0;34m=\u001b[0m \u001b[0mpd\u001b[0m\u001b[0;34m.\u001b[0m\u001b[0mconcat\u001b[0m\u001b[0;34m(\u001b[0m\u001b[0mframes\u001b[0m\u001b[0;34m)\u001b[0m\u001b[0;34m\u001b[0m\u001b[0m\n",
      "\u001b[0;31mNameError\u001b[0m: name 'loan_clean' is not defined"
     ]
    }
   ],
   "source": [
    "frames = [loan_clean,test_clean]\n",
    "X_clean = pd.concat(frames)"
   ]
  },
  {
   "cell_type": "code",
   "execution_count": 52,
   "metadata": {},
   "outputs": [],
   "source": [
    "X_clean.to_csv('cleaned_data.gz', compression='gzip') #for rerunning model if kernel crashes"
   ]
  },
  {
   "cell_type": "code",
   "execution_count": 46,
   "metadata": {
    "_cell_guid": "a5dcdb06-f087-4af2-b669-102ce442834f",
    "_uuid": "a1a8dd2e4f8b7271434c1832738d1339485e8fa5"
   },
   "outputs": [],
   "source": [
    "import sqlite3 #this library manages sql databases\n",
    "import pandas as pd  #this library enables data manipulation and analysis methods to be used in Python\n",
    "import numpy as np #this library focuses on scientific computing and using arrays and matrices\n",
    "%matplotlib inline \n",
    "\n",
    "import matplotlib.pyplot as plt #this imports the matplotlib library, along with the interactive plotting pylab modul\n",
    "from datetime import datetime"
   ]
  },
  {
   "cell_type": "code",
   "execution_count": 47,
   "metadata": {},
   "outputs": [
    {
     "name": "stderr",
     "output_type": "stream",
     "text": [
      "/anaconda3/lib/python3.6/site-packages/IPython/core/interactiveshell.py:2785: DtypeWarning: Columns (5,7,9,10,21) have mixed types. Specify dtype option on import or set low_memory=False.\n",
      "  interactivity=interactivity, compiler=compiler, result=result)\n"
     ]
    }
   ],
   "source": [
    "X_clean = pd.read_csv('cleaned_data_complete.gz', compression='gzip', header=0, sep=',', quotechar='\"') #for running the model using cleaned dataset"
   ]
  },
  {
   "cell_type": "code",
   "execution_count": 48,
   "metadata": {},
   "outputs": [],
   "source": [
    "X_clean['accepted'] = X_clean['accepted'].astype(bool)\n",
    "X_clean['title_accurate'] = X_clean['title_accurate'].astype(bool)\n",
    "titles = X_clean.columns"
   ]
  },
  {
   "cell_type": "code",
   "execution_count": 49,
   "metadata": {},
   "outputs": [
    {
     "data": {
      "text/plain": [
       "0    0.333333\n",
       "1    0.750000\n",
       "2    0.200000\n",
       "3    0.270270\n",
       "4    0.394737\n",
       "Name: acc_ratio, dtype: float64"
      ]
     },
     "execution_count": 49,
     "metadata": {},
     "output_type": "execute_result"
    }
   ],
   "source": [
    "X_clean['acc_ratio'].head()"
   ]
  },
  {
   "cell_type": "code",
   "execution_count": 50,
   "metadata": {},
   "outputs": [],
   "source": [
    "X_clean = X_clean.fillna(0) \n",
    "# changing all na to zero since missing data is equivlent to the lowest/False estimate"
   ]
  },
  {
   "cell_type": "code",
   "execution_count": 7,
   "metadata": {},
   "outputs": [
    {
     "data": {
      "text/plain": [
       "Unnamed: 0               int64\n",
       "loan_amnt              float64\n",
       "amt_difference          object\n",
       "term                   float64\n",
       "installment            float64\n",
       "grade                   object\n",
       "emp_length             float64\n",
       "home_ownership          object\n",
       "annual_inc             float64\n",
       "verification_status     object\n",
       "purpose                 object\n",
       "dti                    float64\n",
       "delinq_2yrs_cat           bool\n",
       "inq_last_6mths_cat        bool\n",
       "open_acc               float64\n",
       "pub_rec                float64\n",
       "pub_rec_cat               bool\n",
       "acc_ratio              float64\n",
       "title_accurate            bool\n",
       "accepted                  bool\n",
       "data_year              float64\n",
       "initial_list_status     object\n",
       "loan_status             object\n",
       "dtype: object"
      ]
     },
     "execution_count": 7,
     "metadata": {},
     "output_type": "execute_result"
    }
   ],
   "source": [
    "X_clean.dtypes # make sure that all variables can be converted to float"
   ]
  },
  {
   "cell_type": "code",
   "execution_count": 51,
   "metadata": {},
   "outputs": [],
   "source": [
    "del X_clean['Unnamed: 0']"
   ]
  },
  {
   "cell_type": "code",
   "execution_count": 52,
   "metadata": {},
   "outputs": [],
   "source": [
    "titles = X_clean.columns\n",
    "for i in range (0,len(titles)):\n",
    "    if titles[i] == float:\n",
    "        X_clean[i] = titles[i].round(5)"
   ]
  },
  {
   "cell_type": "code",
   "execution_count": 124,
   "metadata": {},
   "outputs": [],
   "source": [
    "data_2015 = X_clean[X_clean.data_year == 2015]\n",
    "data_2016 = X_clean[X_clean.data_year == 2016]\n",
    "data_2017 = X_clean[X_clean.data_year == 2017]\n",
    "data_2018 = X_clean[X_clean.data_year == 2018]"
   ]
  },
  {
   "cell_type": "code",
   "execution_count": 125,
   "metadata": {},
   "outputs": [],
   "source": [
    "frames = [data_2015,data_2018]\n",
    "data_2015_2018 = pd.concat(frames)"
   ]
  },
  {
   "cell_type": "code",
   "execution_count": 11,
   "metadata": {},
   "outputs": [
    {
     "data": {
      "text/plain": [
       "loan_amnt              float64\n",
       "amt_difference          object\n",
       "term                   float64\n",
       "installment            float64\n",
       "grade                   object\n",
       "emp_length             float64\n",
       "home_ownership          object\n",
       "annual_inc             float64\n",
       "verification_status     object\n",
       "purpose                 object\n",
       "dti                    float64\n",
       "delinq_2yrs_cat           bool\n",
       "inq_last_6mths_cat        bool\n",
       "open_acc               float64\n",
       "pub_rec                float64\n",
       "pub_rec_cat               bool\n",
       "acc_ratio              float64\n",
       "title_accurate            bool\n",
       "accepted                  bool\n",
       "data_year              float64\n",
       "initial_list_status     object\n",
       "loan_status             object\n",
       "dtype: object"
      ]
     },
     "execution_count": 11,
     "metadata": {},
     "output_type": "execute_result"
    }
   ],
   "source": [
    "data_2015.dtypes"
   ]
  },
  {
   "cell_type": "markdown",
   "metadata": {
    "_cell_guid": "fec59633-166f-4329-afc9-5a292e2e0eb8",
    "_uuid": "d69d03e470fac24485bdb7c1deefb00c02e17d6b"
   },
   "source": [
    "## A few last touches\n",
    "We may want to transform categorical variables in continuous variables using the One Hot Encoder. `pandas` has a built-in function for this.\n",
    "\n",
    "Clarification: One hot encoding is a method that converts categorical variables into binary vectors that can be utilized by Machine Learning algorithms to do a better job with predictions.\n",
    "\n",
    "The categorical value represents the numerical value of the entry in the dataset.\n",
    "\n",
    "We use one hot encoder to perform “binarization” of the category and include it as a feature to train the model."
   ]
  },
  {
   "cell_type": "code",
   "execution_count": 136,
   "metadata": {},
   "outputs": [],
   "source": [
    "year_index = 0 #set dataframe list with testing dataframes\n",
    "clean_data = [data_2015,data_2016,data_2017,data_2018,data_2015_2018]\n",
    "data_titles = ['data_2015','data_2016','data_2017','data_2018','data_2015_2018']"
   ]
  },
  {
   "cell_type": "markdown",
   "metadata": {},
   "source": [
    "# Update to next modeling year"
   ]
  },
  {
   "cell_type": "code",
   "execution_count": 143,
   "metadata": {},
   "outputs": [],
   "source": [
    "year_index += 1 #go to next modeling year"
   ]
  },
  {
   "cell_type": "code",
   "execution_count": 144,
   "metadata": {},
   "outputs": [
    {
     "name": "stdout",
     "output_type": "stream",
     "text": [
      "modeling data_2018 :\n"
     ]
    }
   ],
   "source": [
    "print( 'modeling', data_titles[year_index], ':') # run each model using that years values"
   ]
  },
  {
   "cell_type": "code",
   "execution_count": 145,
   "metadata": {
    "_cell_guid": "b1290e10-3cf4-4d8f-84c9-8e3c8fd7576a",
    "_uuid": "22bb532654468e2733a030fb6456e4f72003b826"
   },
   "outputs": [
    {
     "name": "stderr",
     "output_type": "stream",
     "text": [
      "/anaconda3/lib/python3.6/site-packages/ipykernel_launcher.py:7: SettingWithCopyWarning: \n",
      "A value is trying to be set on a copy of a slice from a DataFrame.\n",
      "Try using .loc[row_indexer,col_indexer] = value instead\n",
      "\n",
      "See the caveats in the documentation: http://pandas.pydata.org/pandas-docs/stable/indexing.html#indexing-view-versus-copy\n",
      "  import sys\n",
      "/anaconda3/lib/python3.6/site-packages/pandas/core/indexing.py:517: SettingWithCopyWarning: \n",
      "A value is trying to be set on a copy of a slice from a DataFrame.\n",
      "Try using .loc[row_indexer,col_indexer] = value instead\n",
      "\n",
      "See the caveats in the documentation: http://pandas.pydata.org/pandas-docs/stable/indexing.html#indexing-view-versus-copy\n",
      "  self.obj[item] = s\n"
     ]
    }
   ],
   "source": [
    "mask1 = (clean_data[year_index].loan_status == 'Charged Off')\n",
    "mask2 = (clean_data[year_index].loan_status == 'rejected') #checking if loan was rejected or charged off\n",
    "#if a loan is so bad that it wasn't accepted by lending club than it's features might give us insight into loans that charge off\n",
    "# == is a python operator that checks if two values are equal to each other or not\n",
    "#if they are, it returns True, and False if not\n",
    "#this line creates a boolean condition, where mask = True if the loan status is 'Charged Off', and mask = false if not \n",
    "clean_data[year_index]['target'] = 0\n",
    "#this creates a new column called 'target', which stands for the target variable and end product we are trying to predict\n",
    "#sets target to 0 for all values\n",
    "clean_data[year_index].loc[mask1,'target'] = 1\n",
    "clean_data[year_index].loc[mask2,'target'] = 1\n",
    "#this uses .loc method to access cleaned dataframe with mask and 'target arguments', meaning that if mask is true, to set target for that specific data point in the column equal to one\n",
    "#this is important as this essentially gives us a clear way to point out which data points we are interested in\n",
    "#as mask is reflecting which loan statuses are charged off or not, and helping to assign charged off points a value of 1 with the latest line of code"
   ]
  },
  {
   "cell_type": "code",
   "execution_count": 146,
   "metadata": {
    "_cell_guid": "b639f27c-b659-4be0-9b13-b02741c5d181",
    "_uuid": "1daa8573b1576dc15a42c878830245447ee3f83c"
   },
   "outputs": [],
   "source": [
    "cat_features = ['term','amt_difference', 'grade', 'home_ownership', 'verification_status', 'purpose', 'delinq_2yrs_cat', 'inq_last_6mths_cat', 'pub_rec_cat', 'initial_list_status','accepted','title_accurate']\n",
    "#make a list of the categorical variables we want to transform using one hot encoder\n",
    "\n",
    "X = pd.get_dummies(clean_data[year_index][clean_data[year_index].columns[:-2]], columns=cat_features).astype(float)#setting x values #FIGURE OUT \n",
    "#Convert categorical variable into dummy/indicator variables using get_dummies\n",
    "#X_clean[X_clean.columns[:-2]] = specify the dataframe wwe are using, X_CLean, specify using all columns except the last two (initial_list_status and loan_status)\n",
    "#Do you know why we are not including these two columns?\n",
    "#Columns = cat_features specifies which columns in the DataFrame to be encoded. If columns is None then all the columns with object or category dtype will be converted.\n",
    "#encode as type float\n",
    "\n",
    "titles = X.columns\n",
    "for i in range (0,len(titles)):\n",
    "    if titles[i] == float:\n",
    "        X[titles[i]] = titles[i].round(5)\n",
    "        \n",
    "y = clean_data[year_index]['target'] #assign the target values from dataframe to y"
   ]
  },
  {
   "cell_type": "markdown",
   "metadata": {},
   "source": [
    "ignores rejects, insignificant according to 2015 data"
   ]
  },
  {
   "cell_type": "code",
   "execution_count": 71,
   "metadata": {},
   "outputs": [],
   "source": [
    "data_2015A = data_2015[data_2015.loan_status != 'rejected']\n",
    "data_2016A = data_2016[data_2016.loan_status != 'rejected']\n",
    "data_2017A = data_2017[data_2017.loan_status != 'rejected']\n",
    "data_2018A = data_2018[data_2018.loan_status != 'rejected']\n",
    "clean_dataA = [data_2015A,data_2016A,data_2017A,data_2018A]"
   ]
  },
  {
   "cell_type": "code",
   "execution_count": 76,
   "metadata": {},
   "outputs": [
    {
     "data": {
      "text/plain": [
       "array(['Fully Paid', 'Charged Off'], dtype=object)"
      ]
     },
     "execution_count": 76,
     "metadata": {},
     "output_type": "execute_result"
    }
   ],
   "source": [
    "data_2015A['loan_status'].head().unique()"
   ]
  },
  {
   "cell_type": "code",
   "execution_count": 80,
   "metadata": {
    "_cell_guid": "b1290e10-3cf4-4d8f-84c9-8e3c8fd7576a",
    "_uuid": "22bb532654468e2733a030fb6456e4f72003b826"
   },
   "outputs": [],
   "source": [
    "mask = (clean_dataA[year_index].loan_status == 'Charged Off')\n",
    "#if a loan is so bad that it wasn't accepted by lending club than it's features might give us insight into loans that charge off\n",
    "# == is a python operator that checks if two values are equal to each other or not\n",
    "#if they are, it returns True, and False if not\n",
    "#this line creates a boolean condition, where mask = True if the loan status is 'Charged Off', and mask = false if not \n",
    "clean_dataA[year_index]['target'] = 0\n",
    "#this creates a new column called 'target', which stands for the target variable and end product we are trying to predict\n",
    "#sets target to 0 for all values\n",
    "clean_dataA[year_index].loc[mask1,'target'] = 1\n",
    "#this uses .loc method to access cleaned dataframe with mask and 'target arguments', meaning that if mask is true, to set target for that specific data point in the column equal to one\n",
    "#this is important as this essentially gives us a clear way to point out which data points we are interested in\n",
    "#as mask is reflecting which loan statuses are charged off or not, and helping to assign charged off points a value of 1 with the latest line of code"
   ]
  },
  {
   "cell_type": "code",
   "execution_count": 81,
   "metadata": {
    "_cell_guid": "b639f27c-b659-4be0-9b13-b02741c5d181",
    "_uuid": "1daa8573b1576dc15a42c878830245447ee3f83c"
   },
   "outputs": [],
   "source": [
    "cat_features = ['term','amt_difference', 'grade', 'home_ownership', 'verification_status', 'purpose', 'delinq_2yrs_cat', 'inq_last_6mths_cat', 'pub_rec_cat', 'initial_list_status','accepted','title_accurate']\n",
    "#make a list of the categorical variables we want to transform using one hot encoder\n",
    "\n",
    "X = pd.get_dummies(clean_dataA[year_index][clean_dataA[year_index].columns[:-2]], columns=cat_features).astype(float)#setting x values #FIGURE OUT \n",
    "#Convert categorical variable into dummy/indicator variables using get_dummies\n",
    "#X_clean[X_clean.columns[:-2]] = specify the dataframe wwe are using, X_CLean, specify using all columns except the last two (initial_list_status and loan_status)\n",
    "#Do you know why we are not including these two columns?\n",
    "#Columns = cat_features specifies which columns in the DataFrame to be encoded. If columns is None then all the columns with object or category dtype will be converted.\n",
    "#encode as type float\n",
    "\n",
    "titles = X.columns\n",
    "for i in range (0,len(titles)):\n",
    "    if titles[i] == float:\n",
    "        X[titles[i]] = titles[i].round(5)\n",
    "        \n",
    "y = clean_dataA[year_index]['target'] #assign the target values from dataframe to y"
   ]
  },
  {
   "cell_type": "code",
   "execution_count": 63,
   "metadata": {},
   "outputs": [
    {
     "name": "stdout",
     "output_type": "stream",
     "text": [
      "445421     0\n",
      "445422     0\n",
      "445423     0\n",
      "445424     1\n",
      "445425     0\n",
      "445426     1\n",
      "445427     0\n",
      "445428     0\n",
      "445429     0\n",
      "445430     1\n",
      "445431     0\n",
      "445432     0\n",
      "445433     0\n",
      "445434     0\n",
      "445435     1\n",
      "445436     0\n",
      "445437     0\n",
      "445438     0\n",
      "445439     0\n",
      "445440     0\n",
      "445441     0\n",
      "445442     0\n",
      "445443     1\n",
      "445444     0\n",
      "445445     1\n",
      "445446     0\n",
      "445447     0\n",
      "445448     0\n",
      "445449     0\n",
      "445450     0\n",
      "          ..\n",
      "7430822    0\n",
      "7430823    0\n",
      "7430824    0\n",
      "7430825    0\n",
      "7430826    0\n",
      "7430827    0\n",
      "7430828    0\n",
      "7430829    0\n",
      "7430830    0\n",
      "7430831    0\n",
      "7430832    0\n",
      "7430833    0\n",
      "7430834    0\n",
      "7430835    0\n",
      "7430836    0\n",
      "7430837    0\n",
      "7430838    0\n",
      "7430839    0\n",
      "7430840    0\n",
      "7430841    0\n",
      "7430842    0\n",
      "7430843    0\n",
      "7430844    0\n",
      "7430845    0\n",
      "7430846    0\n",
      "7430847    0\n",
      "7430848    0\n",
      "7430849    0\n",
      "7430850    0\n",
      "7430851    0\n",
      "Name: target, Length: 3189399, dtype: int64\n"
     ]
    }
   ],
   "source": [
    "print(y) #check values for y, see it contains all values for target, which are either 0 or 1 and represent if specific row is charged off or not"
   ]
  },
  {
   "cell_type": "markdown",
   "metadata": {
    "_cell_guid": "1d1ca51d-eb60-4434-b9be-4af8ba2c94e3",
    "_uuid": "1a9cedc0ad7882c022c7a553bef9f007746c8dfa"
   },
   "source": [
    "## The models\n",
    "\n",
    "Let's start modelling by importing a few libraries. We must also make sure to standardize all the features and data we are using for the models, in order to reduce quality distillation of our models.\n",
    "\n",
    "We are importing several modules from sklearn and imblearn which are useful for modelling and analysis.\n",
    "\n",
    "Regarding scaling, note that many estimators are designed with the assumption that each feature takes values close to zero or more importantly that all features vary on comparable scales. In particular, metric-based estimators often assume approximately standardized data (centered features with unit variances). A notable exception are decision tree-based estimators that are robust to arbitrary scaling of the data."
   ]
  },
  {
   "cell_type": "code",
   "execution_count": 82,
   "metadata": {
    "_cell_guid": "321143d8-50b5-47fb-93a6-f61aa81844d8",
    "_uuid": "d1ed4664766cf56052bc8ca6121df579e2f529c8"
   },
   "outputs": [],
   "source": [
    "from sklearn.linear_model import LogisticRegression #Imports logistic regression feature for analysis\n",
    "from sklearn.model_selection import train_test_split #Imports train testing split, which split arrays or matrices into random train and test subsets\n",
    "#chooses a random subset (a specified fraction) of X and y as a training sample, uses the remainder as a test sample. random_state sets the initial value.\n",
    "from sklearn.model_selection import cross_val_score # Allows us to evaluate data by cross-validation\n",
    "#Learning the parameters of a prediction function and testing it on the same data is a methodological mistake: \n",
    "#a model that would just repeat the labels of the samples that it has just seen would have a perfect score but \n",
    "#would fail to predict anything useful on yet-unseen data. This situation is called overfitting. \n",
    "#To avoid it, it is common practice when performing a (supervised) machine learning experiment to \n",
    "#hold out part of the available data as a test set X_test, y_test. \n",
    "from sklearn import metrics #The sklearn.metrics module includes score functions, performance metrics \n",
    "#and pairwise metrics and distance computations.\n",
    "from sklearn import preprocessing #The sklearn.preprocessing package provides several common utility \n",
    "#functions and transformer classes to change raw feature vectors into a representation that is more \n",
    "#suitable for the downstream estimators.\n",
    "from sklearn.ensemble import RandomForestClassifier #import random forest classifier to use random forest\n",
    "from imblearn.over_sampling import SMOTE #Import SMOTE feature, explained below\n"
   ]
  },
  {
   "cell_type": "code",
   "execution_count": 147,
   "metadata": {},
   "outputs": [
    {
     "name": "stdout",
     "output_type": "stream",
     "text": [
      "[[ 4.18455426e+00  4.72096569e+00  2.35067281e+01 ...  1.57819237e+01\n",
      "  -4.23972421e+01  4.23972421e+01]\n",
      " [ 7.94901861e-01  9.78996075e-01  4.65969730e+00 ...  1.57819237e+01\n",
      "   2.35864398e-02 -2.35864398e-02]\n",
      " [ 2.11328163e+01  1.66993514e+01  7.01557615e+00 ...  1.57819237e+01\n",
      "   2.35864398e-02 -2.35864398e-02]\n",
      " ...\n",
      " [-5.25112391e-02 -5.29640411e-02 -5.20604110e-02 ... -6.33636315e-02\n",
      "   2.35864398e-02 -2.35864398e-02]\n",
      " [-5.25112391e-02 -5.29640411e-02 -5.20604110e-02 ... -6.33636315e-02\n",
      "   2.35864398e-02 -2.35864398e-02]\n",
      " [-5.25112391e-02 -5.29640411e-02 -5.20604110e-02 ... -6.33636315e-02\n",
      "   2.35864398e-02 -2.35864398e-02]]\n",
      "   \n",
      "(4334448, 58)\n"
     ]
    }
   ],
   "source": [
    "X_scaled = preprocessing.scale(X) #standardize data set along x axis & scale properly\n",
    "print(X_scaled)\n",
    "print('   ')\n",
    "print(X_scaled.shape) #dimensions"
   ]
  },
  {
   "cell_type": "markdown",
   "metadata": {},
   "source": [
    "Standardization of datasets is a common requirement for many machine learning estimators implemented in scikit-learn; they might behave badly if the individual features do not more or less look like standard normally distributed data: Gaussian with zero mean and unit variance.\n",
    "\n",
    "In practice we often ignore the shape of the distribution and just transform the data to center it by removing the mean value of each feature, then scale it by dividing non-constant features by their standard deviation.\n",
    "\n",
    "For instance, many elements used in the objective function of a learning algorithm (such as the RBF kernel of Support Vector Machines or the l1 and l2 regularizers of linear models) assume that all features are centered around zero and have variance in the same order. If a feature has a variance that is orders of magnitude larger than others, it might dominate the objective function and make the estimator unable to learn from other features correctly as expected.\n",
    "\n",
    "The function scale we use above provides a quick and easy way to perform this operation on array-like datasets."
   ]
  },
  {
   "cell_type": "markdown",
   "metadata": {
    "_cell_guid": "dbbbf1c4-d8a8-40bd-8fb5-224e79288953",
    "_uuid": "30c0380aec61ee9c10ff20eab0fc60e9b62a4ecb"
   },
   "source": [
    "We will now run two models: Logistic Regression and Random Forest.\n",
    "\n",
    "Through these models we will make predictions and model the roc curve of the estimators. "
   ]
  },
  {
   "cell_type": "code",
   "execution_count": 101,
   "metadata": {
    "_cell_guid": "6f9f58c5-0229-4f20-b036-362033ea1b7d",
    "_uuid": "c052779ea2ba97a6ff7a648271fe8c366ceb9a61"
   },
   "outputs": [],
   "source": [
    "def run_models(X_train, y_train, X_test, y_test, model_type = 'Non-balanced'): #run_models is used below to run them\n",
    "    #define the funciton run models, with the parameters:\n",
    "    #X_train: training data set\n",
    "    #Y_train: set of labels to all the data in x_train\n",
    "    #The training set is a subset of the data set used to train a model.\n",
    "    #X_test: test data set\n",
    "    #y_test:  set of labels to all the data in x_test\n",
    "    #model_type: specify the type of model we want to use\n",
    "    #we select non-balanced for now, just to see how the initial model will fare\n",
    "    \n",
    "    clfs = {'LogisticRegression' : LogisticRegression(),\n",
    "            'RandomForestClassifier': RandomForestClassifier(n_estimators=100)\n",
    "           } #n_estimators sets the number of trees in forest for model}\n",
    "    cols = ['model','matthews_corrcoef', 'roc_auc_score', 'precision_score', 'recall_score','f1_score']\n",
    "\n",
    "    #Establish which methods we want to use - Logistic Regression and Random Forest - with the clfs line that creates a dictionary\n",
    "    #of the two\n",
    "    #cols establishes a list of the specific columns of metrics we want\n",
    "    \n",
    "    models_report = pd.DataFrame(columns = cols) #this is used to generate an empty model report\n",
    "    conf_matrix = dict() #create a dictionary for the confidence matrix that assigns the confidence values to specific keys\n",
    "\n",
    "    for clf, clf_name in zip(clfs.values(), clfs.keys()): \n",
    "        #establish a for loop saying that for each method name and value,\n",
    "\n",
    "        clf.fit(X_train, y_train)\n",
    "        #Train the model by fitting it to data, using the training data set as inputs\n",
    "        \n",
    "        y_pred = clf.predict(X_test) #the predicted labels that will be returned from \n",
    "        #.predict, which predicts target values of X given a model\n",
    "        y_score = clf.predict_proba(X_test)[:,1] #the Target scores, \n",
    "        #can either be probability estimates of the positive class, confidence values, \n",
    "        #or non-thresholded measure of decisions (as returned by “decision_function” on some classifiers).\n",
    "        #obtained using .predict_proba, which is a\n",
    "        #method of a (soft) classifier outputting the probability of the instance being in each of the classes.\n",
    "        \n",
    "        print('computing {} - {} '.format(clf_name, model_type)) #print output saying that the file is computing\n",
    "        #specific model, which is why.format is used at end to pull name and model type to plug into statement\n",
    "\n",
    "        tmp = pd.Series({'model_type': model_type,\n",
    "                         'model': clf_name,\n",
    "                         'roc_auc_score' : metrics.roc_auc_score(y_test, y_score),\n",
    "                         'matthews_corrcoef': metrics.matthews_corrcoef(y_test, y_pred),\n",
    "                         'precision_score': metrics.precision_score(y_test, y_pred),\n",
    "                         'recall_score': metrics.recall_score(y_test, y_pred),\n",
    "                         'f1_score': metrics.f1_score(y_test, y_pred)})\n",
    "        #create a dictionary of series names and keys assigning values for what each item is\n",
    "        #the keys are the desired items we want in the end for our model analysis, with the values\n",
    "        #explaining how each key is assigned/calculated \n",
    "        \n",
    "        models_report = models_report.append(tmp, ignore_index = True)\n",
    "        #append the tmp values to our currently empty model report\n",
    "        #ignore_index = True means we ignore and do not use the index labels, do this as the report needs to show\n",
    "        #only the names, not the methods for how each item is analyzed\n",
    "        conf_matrix[clf_name] = pd.crosstab(y_test, y_pred, rownames=['True'], colnames= ['Predicted'], margins=False)\n",
    "        #establish the confidence matrix, crosstab Compute a simple cross-tabulation of two (or more) factors.\n",
    "        #Cross tabulation is a tool that allows you compare the relationship between two or more factors.\n",
    "        #Can you tell what factors are we cross tabulating?\n",
    "        fpr, tpr, thresholds = metrics.roc_curve(y_test, y_score, drop_intermediate = False, pos_label = 1)\n",
    "        #the returns of the ROC curve, all three are arrays \n",
    "        #hence use of metrics.roc_curve, uses y test data and target scores to determine three return values\n",
    "        plt.figure(1, figsize=(6,6))\n",
    "        plt.xlabel('false positive rate')\n",
    "        plt.ylabel('true positive rate')\n",
    "        plt.title('ROC curve - {}'.format(model_type))\n",
    "        plt.plot(fpr, tpr, label = clf_name )\n",
    "        plt.legend(loc=2, prop={'size':11})\n",
    "    plt.plot([0,1],[0,1], color = 'black')\n",
    "        #plotting dimensions and specifics for the result graph\n",
    "    \n",
    "    return models_report, conf_matrix\n",
    "    #after running function, also give us models_report and confidence matrix for methods"
   ]
  },
  {
   "cell_type": "markdown",
   "metadata": {
    "_cell_guid": "9dae5eb4-1712-4dc9-a0a5-53aefbb64c94",
    "_uuid": "ca8c1c8a9d5dd26ee0f095722c25269636c60521"
   },
   "source": [
    "### Model with unbalanced classes\n",
    "If we do not modify the class ratios our model has very poor predictive power. The area ander the curve (AUC) is about 0.6, suggesting that we perform better than random. However, the recall is zero: we cannot predict the target variable at all. This might be either because there is something wrong with the metrics or because the classes are too unbalanced. "
   ]
  },
  {
   "cell_type": "markdown",
   "metadata": {},
   "source": [
    "# 2015 w rejected"
   ]
  },
  {
   "cell_type": "code",
   "execution_count": 22,
   "metadata": {
    "_cell_guid": "2e05aab4-f1db-4ddb-99be-7c590d1c5370",
    "_uuid": "2e4199ada384ca69007b31f1d7eac01735483658"
   },
   "outputs": [
    {
     "name": "stdout",
     "output_type": "stream",
     "text": [
      "computing LogisticRegression - Non-balanced \n",
      "computing RandomForestClassifier - Non-balanced \n"
     ]
    },
    {
     "data": {
      "image/png": "[encoded data removed]",
      "text/plain": [
       "<Figure size 432x432 with 1 Axes>"
      ]
     },
     "metadata": {},
     "output_type": "display_data"
    }
   ],
   "source": [
    "#mpl.rc(\"savefig\", dpi=300)\n",
    "# with rejected\n",
    "X_train, X_test, y_train, y_test = train_test_split(X_scaled, y.values, test_size=0.4, random_state=0)\n",
    "#feed training and testing data into train_test_split\n",
    "#test size is 40%, making training set 60%\n",
    "#If int, random_state is the seed used by the random number generator;\n",
    "#A random seed (or seed state, or just seed) is a number (or vector) \n",
    "#used to initialize a pseudorandom number generator and set initial value \n",
    "#random_state is 0\n",
    "\n",
    "models_report, conf_matrix = run_models(X_train, y_train, X_test, y_test, model_type = 'Non-balanced')\n",
    "#now focus on models report and confidence matrix\n",
    "#run models using data set and non balanced, outputs will be assigned to output report and matrix"
   ]
  },
  {
   "cell_type": "code",
   "execution_count": 23,
   "metadata": {
    "_cell_guid": "69a02ef6-8030-480b-905e-207bf1200de3",
    "_uuid": "195d43c8c745c86e19b66a5dee0e663769807d21"
   },
   "outputs": [
    {
     "data": {
      "text/html": [
       "<div>\n",
       "<style>\n",
       "    .dataframe thead tr:only-child th {\n",
       "        text-align: right;\n",
       "    }\n",
       "\n",
       "    .dataframe thead th {\n",
       "        text-align: left;\n",
       "    }\n",
       "\n",
       "    .dataframe tbody tr th {\n",
       "        vertical-align: top;\n",
       "    }\n",
       "</style>\n",
       "<table border=\"1\" class=\"dataframe\">\n",
       "  <thead>\n",
       "    <tr style=\"text-align: right;\">\n",
       "      <th></th>\n",
       "      <th>model</th>\n",
       "      <th>matthews_corrcoef</th>\n",
       "      <th>roc_auc_score</th>\n",
       "      <th>precision_score</th>\n",
       "      <th>recall_score</th>\n",
       "      <th>f1_score</th>\n",
       "      <th>model_type</th>\n",
       "    </tr>\n",
       "  </thead>\n",
       "  <tbody>\n",
       "    <tr>\n",
       "      <th>0</th>\n",
       "      <td>LogisticRegression</td>\n",
       "      <td>0.235777</td>\n",
       "      <td>0.976480</td>\n",
       "      <td>0.549329</td>\n",
       "      <td>0.106919</td>\n",
       "      <td>0.178999</td>\n",
       "      <td>Non-balanced</td>\n",
       "    </tr>\n",
       "    <tr>\n",
       "      <th>1</th>\n",
       "      <td>RandomForestClassifier</td>\n",
       "      <td>0.236444</td>\n",
       "      <td>0.973966</td>\n",
       "      <td>0.495141</td>\n",
       "      <td>0.120257</td>\n",
       "      <td>0.193515</td>\n",
       "      <td>Non-balanced</td>\n",
       "    </tr>\n",
       "  </tbody>\n",
       "</table>\n",
       "</div>"
      ],
      "text/plain": [
       "                    model  matthews_corrcoef  roc_auc_score  precision_score  \\\n",
       "0      LogisticRegression           0.235777       0.976480         0.549329   \n",
       "1  RandomForestClassifier           0.236444       0.973966         0.495141   \n",
       "\n",
       "   recall_score  f1_score    model_type  \n",
       "0      0.106919  0.178999  Non-balanced  \n",
       "1      0.120257  0.193515  Non-balanced  "
      ]
     },
     "execution_count": 23,
     "metadata": {},
     "output_type": "execute_result"
    }
   ],
   "source": [
    "models_report #now to get a report of the models"
   ]
  },
  {
   "cell_type": "code",
   "execution_count": 24,
   "metadata": {
    "scrolled": true
   },
   "outputs": [
    {
     "data": {
      "text/html": [
       "<div>\n",
       "<style>\n",
       "    .dataframe thead tr:only-child th {\n",
       "        text-align: right;\n",
       "    }\n",
       "\n",
       "    .dataframe thead th {\n",
       "        text-align: left;\n",
       "    }\n",
       "\n",
       "    .dataframe tbody tr th {\n",
       "        vertical-align: top;\n",
       "    }\n",
       "</style>\n",
       "<table border=\"1\" class=\"dataframe\">\n",
       "  <thead>\n",
       "    <tr style=\"text-align: right;\">\n",
       "      <th>Predicted</th>\n",
       "      <th>0</th>\n",
       "      <th>1</th>\n",
       "    </tr>\n",
       "    <tr>\n",
       "      <th>True</th>\n",
       "      <th></th>\n",
       "      <th></th>\n",
       "    </tr>\n",
       "  </thead>\n",
       "  <tbody>\n",
       "    <tr>\n",
       "      <th>0</th>\n",
       "      <td>1244366</td>\n",
       "      <td>3429</td>\n",
       "    </tr>\n",
       "    <tr>\n",
       "      <th>1</th>\n",
       "      <td>24602</td>\n",
       "      <td>3363</td>\n",
       "    </tr>\n",
       "  </tbody>\n",
       "</table>\n",
       "</div>"
      ],
      "text/plain": [
       "Predicted        0     1\n",
       "True                    \n",
       "0          1244366  3429\n",
       "1            24602  3363"
      ]
     },
     "execution_count": 24,
     "metadata": {},
     "output_type": "execute_result"
    }
   ],
   "source": [
    "conf_matrix['RandomForestClassifier'] #the confidence matrix for random forest"
   ]
  },
  {
   "cell_type": "code",
   "execution_count": 25,
   "metadata": {
    "_cell_guid": "b55d0ff0-54f5-4979-bf59-bb6f904f73cc",
    "_uuid": "3c4b617386fd76f71d245e4f682894882ac1fab9"
   },
   "outputs": [
    {
     "data": {
      "text/html": [
       "<div>\n",
       "<style>\n",
       "    .dataframe thead tr:only-child th {\n",
       "        text-align: right;\n",
       "    }\n",
       "\n",
       "    .dataframe thead th {\n",
       "        text-align: left;\n",
       "    }\n",
       "\n",
       "    .dataframe tbody tr th {\n",
       "        vertical-align: top;\n",
       "    }\n",
       "</style>\n",
       "<table border=\"1\" class=\"dataframe\">\n",
       "  <thead>\n",
       "    <tr style=\"text-align: right;\">\n",
       "      <th>Predicted</th>\n",
       "      <th>0</th>\n",
       "      <th>1</th>\n",
       "    </tr>\n",
       "    <tr>\n",
       "      <th>True</th>\n",
       "      <th></th>\n",
       "      <th></th>\n",
       "    </tr>\n",
       "  </thead>\n",
       "  <tbody>\n",
       "    <tr>\n",
       "      <th>0</th>\n",
       "      <td>1245342</td>\n",
       "      <td>2453</td>\n",
       "    </tr>\n",
       "    <tr>\n",
       "      <th>1</th>\n",
       "      <td>24975</td>\n",
       "      <td>2990</td>\n",
       "    </tr>\n",
       "  </tbody>\n",
       "</table>\n",
       "</div>"
      ],
      "text/plain": [
       "Predicted        0     1\n",
       "True                    \n",
       "0          1245342  2453\n",
       "1            24975  2990"
      ]
     },
     "execution_count": 25,
     "metadata": {},
     "output_type": "execute_result"
    }
   ],
   "source": [
    "conf_matrix['LogisticRegression'] #the confidence matrix for logistic regression"
   ]
  },
  {
   "cell_type": "markdown",
   "metadata": {},
   "source": [
    "# 2015 w chargeoff only"
   ]
  },
  {
   "cell_type": "code",
   "execution_count": 85,
   "metadata": {
    "_cell_guid": "2e05aab4-f1db-4ddb-99be-7c590d1c5370",
    "_uuid": "2e4199ada384ca69007b31f1d7eac01735483658"
   },
   "outputs": [
    {
     "name": "stdout",
     "output_type": "stream",
     "text": [
      "computing LogisticRegression - Non-balanced \n",
      "computing RandomForestClassifier - Non-balanced \n"
     ]
    },
    {
     "data": {
      "image/png": "[encoded data removed]",
      "text/plain": [
       "<Figure size 432x432 with 1 Axes>"
      ]
     },
     "metadata": {},
     "output_type": "display_data"
    }
   ],
   "source": [
    "#mpl.rc(\"savefig\", dpi=300)\n",
    "\n",
    "X_train, X_test, y_train, y_test = train_test_split(X_scaled, y.values, test_size=0.4, random_state=0)\n",
    "#feed training and testing data into train_test_split\n",
    "#test size is 40%, making training set 60%\n",
    "#If int, random_state is the seed used by the random number generator;\n",
    "#A random seed (or seed state, or just seed) is a number (or vector) \n",
    "#used to initialize a pseudorandom number generator and set initial value \n",
    "#random_state is 0\n",
    "\n",
    "models_report, conf_matrix = run_models(X_train, y_train, X_test, y_test, model_type = 'Non-balanced')\n",
    "#now focus on models report and confidence matrix\n",
    "#run models using data set and non balanced, outputs will be assigned to output report and matrix"
   ]
  },
  {
   "cell_type": "code",
   "execution_count": 89,
   "metadata": {
    "_cell_guid": "69a02ef6-8030-480b-905e-207bf1200de3",
    "_uuid": "195d43c8c745c86e19b66a5dee0e663769807d21"
   },
   "outputs": [
    {
     "data": {
      "text/html": [
       "<div>\n",
       "<style>\n",
       "    .dataframe thead tr:only-child th {\n",
       "        text-align: right;\n",
       "    }\n",
       "\n",
       "    .dataframe thead th {\n",
       "        text-align: left;\n",
       "    }\n",
       "\n",
       "    .dataframe tbody tr th {\n",
       "        vertical-align: top;\n",
       "    }\n",
       "</style>\n",
       "<table border=\"1\" class=\"dataframe\">\n",
       "  <thead>\n",
       "    <tr style=\"text-align: right;\">\n",
       "      <th></th>\n",
       "      <th>model</th>\n",
       "      <th>matthews_corrcoef</th>\n",
       "      <th>roc_auc_score</th>\n",
       "      <th>precision_score</th>\n",
       "      <th>recall_score</th>\n",
       "      <th>f1_score</th>\n",
       "      <th>model_type</th>\n",
       "    </tr>\n",
       "  </thead>\n",
       "  <tbody>\n",
       "    <tr>\n",
       "      <th>0</th>\n",
       "      <td>LogisticRegression</td>\n",
       "      <td>0.235777</td>\n",
       "      <td>0.976480</td>\n",
       "      <td>0.549329</td>\n",
       "      <td>0.106919</td>\n",
       "      <td>0.178999</td>\n",
       "      <td>Non-balanced</td>\n",
       "    </tr>\n",
       "    <tr>\n",
       "      <th>1</th>\n",
       "      <td>RandomForestClassifier</td>\n",
       "      <td>0.238424</td>\n",
       "      <td>0.974012</td>\n",
       "      <td>0.498824</td>\n",
       "      <td>0.121294</td>\n",
       "      <td>0.195139</td>\n",
       "      <td>Non-balanced</td>\n",
       "    </tr>\n",
       "  </tbody>\n",
       "</table>\n",
       "</div>"
      ],
      "text/plain": [
       "                    model  matthews_corrcoef  roc_auc_score  precision_score  \\\n",
       "0      LogisticRegression           0.235777       0.976480         0.549329   \n",
       "1  RandomForestClassifier           0.238424       0.974012         0.498824   \n",
       "\n",
       "   recall_score  f1_score    model_type  \n",
       "0      0.106919  0.178999  Non-balanced  \n",
       "1      0.121294  0.195139  Non-balanced  "
      ]
     },
     "execution_count": 89,
     "metadata": {},
     "output_type": "execute_result"
    }
   ],
   "source": [
    "models_report #now to get a report of the models"
   ]
  },
  {
   "cell_type": "code",
   "execution_count": 90,
   "metadata": {
    "scrolled": true
   },
   "outputs": [
    {
     "data": {
      "text/html": [
       "<div>\n",
       "<style>\n",
       "    .dataframe thead tr:only-child th {\n",
       "        text-align: right;\n",
       "    }\n",
       "\n",
       "    .dataframe thead th {\n",
       "        text-align: left;\n",
       "    }\n",
       "\n",
       "    .dataframe tbody tr th {\n",
       "        vertical-align: top;\n",
       "    }\n",
       "</style>\n",
       "<table border=\"1\" class=\"dataframe\">\n",
       "  <thead>\n",
       "    <tr style=\"text-align: right;\">\n",
       "      <th>Predicted</th>\n",
       "      <th>0</th>\n",
       "      <th>1</th>\n",
       "    </tr>\n",
       "    <tr>\n",
       "      <th>True</th>\n",
       "      <th></th>\n",
       "      <th></th>\n",
       "    </tr>\n",
       "  </thead>\n",
       "  <tbody>\n",
       "    <tr>\n",
       "      <th>0</th>\n",
       "      <td>1244387</td>\n",
       "      <td>3408</td>\n",
       "    </tr>\n",
       "    <tr>\n",
       "      <th>1</th>\n",
       "      <td>24573</td>\n",
       "      <td>3392</td>\n",
       "    </tr>\n",
       "  </tbody>\n",
       "</table>\n",
       "</div>"
      ],
      "text/plain": [
       "Predicted        0     1\n",
       "True                    \n",
       "0          1244387  3408\n",
       "1            24573  3392"
      ]
     },
     "execution_count": 90,
     "metadata": {},
     "output_type": "execute_result"
    }
   ],
   "source": [
    "conf_matrix['RandomForestClassifier'] #the confidence matrix for random forest"
   ]
  },
  {
   "cell_type": "code",
   "execution_count": 91,
   "metadata": {
    "_cell_guid": "b55d0ff0-54f5-4979-bf59-bb6f904f73cc",
    "_uuid": "3c4b617386fd76f71d245e4f682894882ac1fab9"
   },
   "outputs": [
    {
     "data": {
      "text/html": [
       "<div>\n",
       "<style>\n",
       "    .dataframe thead tr:only-child th {\n",
       "        text-align: right;\n",
       "    }\n",
       "\n",
       "    .dataframe thead th {\n",
       "        text-align: left;\n",
       "    }\n",
       "\n",
       "    .dataframe tbody tr th {\n",
       "        vertical-align: top;\n",
       "    }\n",
       "</style>\n",
       "<table border=\"1\" class=\"dataframe\">\n",
       "  <thead>\n",
       "    <tr style=\"text-align: right;\">\n",
       "      <th>Predicted</th>\n",
       "      <th>0</th>\n",
       "      <th>1</th>\n",
       "    </tr>\n",
       "    <tr>\n",
       "      <th>True</th>\n",
       "      <th></th>\n",
       "      <th></th>\n",
       "    </tr>\n",
       "  </thead>\n",
       "  <tbody>\n",
       "    <tr>\n",
       "      <th>0</th>\n",
       "      <td>1245342</td>\n",
       "      <td>2453</td>\n",
       "    </tr>\n",
       "    <tr>\n",
       "      <th>1</th>\n",
       "      <td>24975</td>\n",
       "      <td>2990</td>\n",
       "    </tr>\n",
       "  </tbody>\n",
       "</table>\n",
       "</div>"
      ],
      "text/plain": [
       "Predicted        0     1\n",
       "True                    \n",
       "0          1245342  2453\n",
       "1            24975  2990"
      ]
     },
     "execution_count": 91,
     "metadata": {},
     "output_type": "execute_result"
    }
   ],
   "source": [
    "conf_matrix['LogisticRegression'] #the confidence matrix for logistic regression"
   ]
  },
  {
   "cell_type": "markdown",
   "metadata": {},
   "source": [
    "clearly this model is slightly more pridictive with the reject variable so I will continue to use it"
   ]
  },
  {
   "cell_type": "markdown",
   "metadata": {},
   "source": [
    "# 2016"
   ]
  },
  {
   "cell_type": "code",
   "execution_count": 102,
   "metadata": {
    "_cell_guid": "2e05aab4-f1db-4ddb-99be-7c590d1c5370",
    "_uuid": "2e4199ada384ca69007b31f1d7eac01735483658"
   },
   "outputs": [
    {
     "name": "stdout",
     "output_type": "stream",
     "text": [
      "computing LogisticRegression - Non-balanced \n",
      "computing RandomForestClassifier - Non-balanced \n"
     ]
    },
    {
     "data": {
      "image/png": "[encoded data removed]",
      "text/plain": [
       "<Figure size 432x432 with 1 Axes>"
      ]
     },
     "metadata": {},
     "output_type": "display_data"
    }
   ],
   "source": [
    "#mpl.rc(\"savefig\", dpi=300)\n",
    "\n",
    "X_train, X_test, y_train, y_test = train_test_split(X_scaled, y.values, test_size=0.4, random_state=0)\n",
    "#feed training and testing data into train_test_split\n",
    "#test size is 40%, making training set 60%\n",
    "#If int, random_state is the seed used by the random number generator;\n",
    "#A random seed (or seed state, or just seed) is a number (or vector) \n",
    "#used to initialize a pseudorandom number generator and set initial value \n",
    "#random_state is 0\n",
    "\n",
    "models_report, conf_matrix = run_models(X_train, y_train, X_test, y_test, model_type = 'Non-balanced')\n",
    "#now focus on models report and confidence matrix\n",
    "#run models using data set and non balanced, outputs will be assigned to output report and matrix"
   ]
  },
  {
   "cell_type": "code",
   "execution_count": 103,
   "metadata": {
    "_cell_guid": "69a02ef6-8030-480b-905e-207bf1200de3",
    "_uuid": "195d43c8c745c86e19b66a5dee0e663769807d21"
   },
   "outputs": [
    {
     "data": {
      "text/html": [
       "<div>\n",
       "<style>\n",
       "    .dataframe thead tr:only-child th {\n",
       "        text-align: right;\n",
       "    }\n",
       "\n",
       "    .dataframe thead th {\n",
       "        text-align: left;\n",
       "    }\n",
       "\n",
       "    .dataframe tbody tr th {\n",
       "        vertical-align: top;\n",
       "    }\n",
       "</style>\n",
       "<table border=\"1\" class=\"dataframe\">\n",
       "  <thead>\n",
       "    <tr style=\"text-align: right;\">\n",
       "      <th></th>\n",
       "      <th>model</th>\n",
       "      <th>matthews_corrcoef</th>\n",
       "      <th>roc_auc_score</th>\n",
       "      <th>precision_score</th>\n",
       "      <th>recall_score</th>\n",
       "      <th>f1_score</th>\n",
       "      <th>model_type</th>\n",
       "    </tr>\n",
       "  </thead>\n",
       "  <tbody>\n",
       "    <tr>\n",
       "      <th>0</th>\n",
       "      <td>LogisticRegression</td>\n",
       "      <td>0.211345</td>\n",
       "      <td>0.989290</td>\n",
       "      <td>0.565066</td>\n",
       "      <td>0.081189</td>\n",
       "      <td>0.141978</td>\n",
       "      <td>Non-balanced</td>\n",
       "    </tr>\n",
       "    <tr>\n",
       "      <th>1</th>\n",
       "      <td>RandomForestClassifier</td>\n",
       "      <td>0.219444</td>\n",
       "      <td>0.988224</td>\n",
       "      <td>0.493660</td>\n",
       "      <td>0.100703</td>\n",
       "      <td>0.167282</td>\n",
       "      <td>Non-balanced</td>\n",
       "    </tr>\n",
       "  </tbody>\n",
       "</table>\n",
       "</div>"
      ],
      "text/plain": [
       "                    model  matthews_corrcoef  roc_auc_score  precision_score  \\\n",
       "0      LogisticRegression           0.211345       0.989290         0.565066   \n",
       "1  RandomForestClassifier           0.219444       0.988224         0.493660   \n",
       "\n",
       "   recall_score  f1_score    model_type  \n",
       "0      0.081189  0.141978  Non-balanced  \n",
       "1      0.100703  0.167282  Non-balanced  "
      ]
     },
     "execution_count": 103,
     "metadata": {},
     "output_type": "execute_result"
    }
   ],
   "source": [
    "models_report #now to get a report of the models"
   ]
  },
  {
   "cell_type": "code",
   "execution_count": 104,
   "metadata": {
    "scrolled": true
   },
   "outputs": [
    {
     "data": {
      "text/html": [
       "<div>\n",
       "<style>\n",
       "    .dataframe thead tr:only-child th {\n",
       "        text-align: right;\n",
       "    }\n",
       "\n",
       "    .dataframe thead th {\n",
       "        text-align: left;\n",
       "    }\n",
       "\n",
       "    .dataframe tbody tr th {\n",
       "        vertical-align: top;\n",
       "    }\n",
       "</style>\n",
       "<table border=\"1\" class=\"dataframe\">\n",
       "  <thead>\n",
       "    <tr style=\"text-align: right;\">\n",
       "      <th>Predicted</th>\n",
       "      <th>0</th>\n",
       "      <th>1</th>\n",
       "    </tr>\n",
       "    <tr>\n",
       "      <th>True</th>\n",
       "      <th></th>\n",
       "      <th></th>\n",
       "    </tr>\n",
       "  </thead>\n",
       "  <tbody>\n",
       "    <tr>\n",
       "      <th>0</th>\n",
       "      <td>1974354</td>\n",
       "      <td>2276</td>\n",
       "    </tr>\n",
       "    <tr>\n",
       "      <th>1</th>\n",
       "      <td>19816</td>\n",
       "      <td>2219</td>\n",
       "    </tr>\n",
       "  </tbody>\n",
       "</table>\n",
       "</div>"
      ],
      "text/plain": [
       "Predicted        0     1\n",
       "True                    \n",
       "0          1974354  2276\n",
       "1            19816  2219"
      ]
     },
     "execution_count": 104,
     "metadata": {},
     "output_type": "execute_result"
    }
   ],
   "source": [
    "conf_matrix['RandomForestClassifier'] #the confidence matrix for random forest"
   ]
  },
  {
   "cell_type": "code",
   "execution_count": 105,
   "metadata": {
    "scrolled": true
   },
   "outputs": [
    {
     "data": {
      "text/html": [
       "<div>\n",
       "<style>\n",
       "    .dataframe thead tr:only-child th {\n",
       "        text-align: right;\n",
       "    }\n",
       "\n",
       "    .dataframe thead th {\n",
       "        text-align: left;\n",
       "    }\n",
       "\n",
       "    .dataframe tbody tr th {\n",
       "        vertical-align: top;\n",
       "    }\n",
       "</style>\n",
       "<table border=\"1\" class=\"dataframe\">\n",
       "  <thead>\n",
       "    <tr style=\"text-align: right;\">\n",
       "      <th>Predicted</th>\n",
       "      <th>0</th>\n",
       "      <th>1</th>\n",
       "    </tr>\n",
       "    <tr>\n",
       "      <th>True</th>\n",
       "      <th></th>\n",
       "      <th></th>\n",
       "    </tr>\n",
       "  </thead>\n",
       "  <tbody>\n",
       "    <tr>\n",
       "      <th>0</th>\n",
       "      <td>1975253</td>\n",
       "      <td>1377</td>\n",
       "    </tr>\n",
       "    <tr>\n",
       "      <th>1</th>\n",
       "      <td>20246</td>\n",
       "      <td>1789</td>\n",
       "    </tr>\n",
       "  </tbody>\n",
       "</table>\n",
       "</div>"
      ],
      "text/plain": [
       "Predicted        0     1\n",
       "True                    \n",
       "0          1975253  1377\n",
       "1            20246  1789"
      ]
     },
     "execution_count": 105,
     "metadata": {},
     "output_type": "execute_result"
    }
   ],
   "source": [
    "conf_matrix['LogisticRegression'] #the confidence matrix for random forest"
   ]
  },
  {
   "cell_type": "markdown",
   "metadata": {},
   "source": [
    "# 2017"
   ]
  },
  {
   "cell_type": "code",
   "execution_count": 111,
   "metadata": {
    "_cell_guid": "2e05aab4-f1db-4ddb-99be-7c590d1c5370",
    "_uuid": "2e4199ada384ca69007b31f1d7eac01735483658"
   },
   "outputs": [
    {
     "name": "stdout",
     "output_type": "stream",
     "text": [
      "computing LogisticRegression - Non-balanced \n",
      "computing RandomForestClassifier - Non-balanced \n"
     ]
    },
    {
     "data": {
      "image/png": "[encoded data removed]",
      "text/plain": [
       "<Figure size 432x432 with 1 Axes>"
      ]
     },
     "metadata": {},
     "output_type": "display_data"
    }
   ],
   "source": [
    "#mpl.rc(\"savefig\", dpi=300)\n",
    "\n",
    "X_train, X_test, y_train, y_test = train_test_split(X_scaled, y.values, test_size=0.4, random_state=0)\n",
    "#feed training and testing data into train_test_split\n",
    "#test size is 40%, making training set 60%\n",
    "#If int, random_state is the seed used by the random number generator;\n",
    "#A random seed (or seed state, or just seed) is a number (or vector) \n",
    "#used to initialize a pseudorandom number generator and set initial value \n",
    "#random_state is 0\n",
    "\n",
    "models_report, conf_matrix = run_models(X_train, y_train, X_test, y_test, model_type = 'Non-balanced')\n",
    "#now focus on models report and confidence matrix\n",
    "#run models using data set and non balanced, outputs will be assigned to output report and matrix"
   ]
  },
  {
   "cell_type": "code",
   "execution_count": 112,
   "metadata": {
    "_cell_guid": "69a02ef6-8030-480b-905e-207bf1200de3",
    "_uuid": "195d43c8c745c86e19b66a5dee0e663769807d21"
   },
   "outputs": [
    {
     "data": {
      "text/html": [
       "<div>\n",
       "<style>\n",
       "    .dataframe thead tr:only-child th {\n",
       "        text-align: right;\n",
       "    }\n",
       "\n",
       "    .dataframe thead th {\n",
       "        text-align: left;\n",
       "    }\n",
       "\n",
       "    .dataframe tbody tr th {\n",
       "        vertical-align: top;\n",
       "    }\n",
       "</style>\n",
       "<table border=\"1\" class=\"dataframe\">\n",
       "  <thead>\n",
       "    <tr style=\"text-align: right;\">\n",
       "      <th></th>\n",
       "      <th>model</th>\n",
       "      <th>matthews_corrcoef</th>\n",
       "      <th>roc_auc_score</th>\n",
       "      <th>precision_score</th>\n",
       "      <th>recall_score</th>\n",
       "      <th>f1_score</th>\n",
       "      <th>model_type</th>\n",
       "    </tr>\n",
       "  </thead>\n",
       "  <tbody>\n",
       "    <tr>\n",
       "      <th>0</th>\n",
       "      <td>LogisticRegression</td>\n",
       "      <td>0.024902</td>\n",
       "      <td>0.992297</td>\n",
       "      <td>0.339623</td>\n",
       "      <td>0.001868</td>\n",
       "      <td>0.003715</td>\n",
       "      <td>Non-balanced</td>\n",
       "    </tr>\n",
       "    <tr>\n",
       "      <th>1</th>\n",
       "      <td>RandomForestClassifier</td>\n",
       "      <td>0.469031</td>\n",
       "      <td>0.993770</td>\n",
       "      <td>0.943538</td>\n",
       "      <td>0.234098</td>\n",
       "      <td>0.375125</td>\n",
       "      <td>Non-balanced</td>\n",
       "    </tr>\n",
       "  </tbody>\n",
       "</table>\n",
       "</div>"
      ],
      "text/plain": [
       "                    model  matthews_corrcoef  roc_auc_score  precision_score  \\\n",
       "0      LogisticRegression           0.024902       0.992297         0.339623   \n",
       "1  RandomForestClassifier           0.469031       0.993770         0.943538   \n",
       "\n",
       "   recall_score  f1_score    model_type  \n",
       "0      0.001868  0.003715  Non-balanced  \n",
       "1      0.234098  0.375125  Non-balanced  "
      ]
     },
     "execution_count": 112,
     "metadata": {},
     "output_type": "execute_result"
    }
   ],
   "source": [
    "models_report #now to get a report of the models"
   ]
  },
  {
   "cell_type": "code",
   "execution_count": 113,
   "metadata": {
    "scrolled": true
   },
   "outputs": [
    {
     "data": {
      "text/html": [
       "<div>\n",
       "<style>\n",
       "    .dataframe thead tr:only-child th {\n",
       "        text-align: right;\n",
       "    }\n",
       "\n",
       "    .dataframe thead th {\n",
       "        text-align: left;\n",
       "    }\n",
       "\n",
       "    .dataframe tbody tr th {\n",
       "        vertical-align: top;\n",
       "    }\n",
       "</style>\n",
       "<table border=\"1\" class=\"dataframe\">\n",
       "  <thead>\n",
       "    <tr style=\"text-align: right;\">\n",
       "      <th>Predicted</th>\n",
       "      <th>0</th>\n",
       "      <th>1</th>\n",
       "    </tr>\n",
       "    <tr>\n",
       "      <th>True</th>\n",
       "      <th></th>\n",
       "      <th></th>\n",
       "    </tr>\n",
       "  </thead>\n",
       "  <tbody>\n",
       "    <tr>\n",
       "      <th>0</th>\n",
       "      <td>2075918</td>\n",
       "      <td>135</td>\n",
       "    </tr>\n",
       "    <tr>\n",
       "      <th>1</th>\n",
       "      <td>7381</td>\n",
       "      <td>2256</td>\n",
       "    </tr>\n",
       "  </tbody>\n",
       "</table>\n",
       "</div>"
      ],
      "text/plain": [
       "Predicted        0     1\n",
       "True                    \n",
       "0          2075918   135\n",
       "1             7381  2256"
      ]
     },
     "execution_count": 113,
     "metadata": {},
     "output_type": "execute_result"
    }
   ],
   "source": [
    "conf_matrix['RandomForestClassifier'] #the confidence matrix for random forest"
   ]
  },
  {
   "cell_type": "code",
   "execution_count": 114,
   "metadata": {
    "_cell_guid": "b55d0ff0-54f5-4979-bf59-bb6f904f73cc",
    "_uuid": "3c4b617386fd76f71d245e4f682894882ac1fab9"
   },
   "outputs": [
    {
     "data": {
      "text/html": [
       "<div>\n",
       "<style>\n",
       "    .dataframe thead tr:only-child th {\n",
       "        text-align: right;\n",
       "    }\n",
       "\n",
       "    .dataframe thead th {\n",
       "        text-align: left;\n",
       "    }\n",
       "\n",
       "    .dataframe tbody tr th {\n",
       "        vertical-align: top;\n",
       "    }\n",
       "</style>\n",
       "<table border=\"1\" class=\"dataframe\">\n",
       "  <thead>\n",
       "    <tr style=\"text-align: right;\">\n",
       "      <th>Predicted</th>\n",
       "      <th>0</th>\n",
       "      <th>1</th>\n",
       "    </tr>\n",
       "    <tr>\n",
       "      <th>True</th>\n",
       "      <th></th>\n",
       "      <th></th>\n",
       "    </tr>\n",
       "  </thead>\n",
       "  <tbody>\n",
       "    <tr>\n",
       "      <th>0</th>\n",
       "      <td>2076018</td>\n",
       "      <td>35</td>\n",
       "    </tr>\n",
       "    <tr>\n",
       "      <th>1</th>\n",
       "      <td>9619</td>\n",
       "      <td>18</td>\n",
       "    </tr>\n",
       "  </tbody>\n",
       "</table>\n",
       "</div>"
      ],
      "text/plain": [
       "Predicted        0   1\n",
       "True                  \n",
       "0          2076018  35\n",
       "1             9619  18"
      ]
     },
     "execution_count": 114,
     "metadata": {},
     "output_type": "execute_result"
    }
   ],
   "source": [
    "conf_matrix['LogisticRegression'] #the confidence matrix for logistic regression"
   ]
  },
  {
   "cell_type": "markdown",
   "metadata": {},
   "source": [
    "# 2018"
   ]
  },
  {
   "cell_type": "code",
   "execution_count": null,
   "metadata": {
    "_cell_guid": "2e05aab4-f1db-4ddb-99be-7c590d1c5370",
    "_uuid": "2e4199ada384ca69007b31f1d7eac01735483658"
   },
   "outputs": [],
   "source": [
    "#mpl.rc(\"savefig\", dpi=300)\n",
    "\n",
    "X_train, X_test, y_train, y_test = train_test_split(X_scaled, y.values, test_size=0.4, random_state=0)\n",
    "#feed training and testing data into train_test_split\n",
    "#test size is 40%, making training set 60%\n",
    "#If int, random_state is the seed used by the random number generator;\n",
    "#A random seed (or seed state, or just seed) is a number (or vector) \n",
    "#used to initialize a pseudorandom number generator and set initial value \n",
    "#random_state is 0\n",
    "\n",
    "models_report, conf_matrix = run_models(X_train, y_train, X_test, y_test, model_type = 'Non-balanced')\n",
    "#now focus on models report and confidence matrix\n",
    "#run models using data set and non balanced, outputs will be assigned to output report and matrix"
   ]
  },
  {
   "cell_type": "code",
   "execution_count": null,
   "metadata": {
    "_cell_guid": "69a02ef6-8030-480b-905e-207bf1200de3",
    "_uuid": "195d43c8c745c86e19b66a5dee0e663769807d21"
   },
   "outputs": [],
   "source": [
    "models_report #now to get a report of the models"
   ]
  },
  {
   "cell_type": "code",
   "execution_count": null,
   "metadata": {
    "scrolled": true
   },
   "outputs": [],
   "source": [
    "conf_matrix['RandomForestClassifier'] #the confidence matrix for random forest"
   ]
  },
  {
   "cell_type": "code",
   "execution_count": null,
   "metadata": {
    "_cell_guid": "b55d0ff0-54f5-4979-bf59-bb6f904f73cc",
    "_uuid": "3c4b617386fd76f71d245e4f682894882ac1fab9"
   },
   "outputs": [],
   "source": [
    "conf_matrix['LogisticRegression'] #the confidence matrix for logistic regression"
   ]
  },
  {
   "cell_type": "markdown",
   "metadata": {},
   "source": [
    "# Using 2015 data to predict 2018"
   ]
  },
  {
   "cell_type": "code",
   "execution_count": null,
   "metadata": {
    "_cell_guid": "2e05aab4-f1db-4ddb-99be-7c590d1c5370",
    "_uuid": "2e4199ada384ca69007b31f1d7eac01735483658"
   },
   "outputs": [
    {
     "name": "stdout",
     "output_type": "stream",
     "text": [
      "computing LogisticRegression - Non-balanced \n"
     ]
    }
   ],
   "source": [
    "#mpl.rc(\"savefig\", dpi=300)\n",
    "\n",
    "X_train, X_test, y_train, y_test = train_test_split(X_scaled, y.values, test_size=0.4, random_state=0)\n",
    "#feed training and testing data into train_test_split\n",
    "#test size is 40%, making training set 60%\n",
    "#If int, random_state is the seed used by the random number generator;\n",
    "#A random seed (or seed state, or just seed) is a number (or vector) \n",
    "#used to initialize a pseudorandom number generator and set initial value \n",
    "#random_state is 0\n",
    "\n",
    "models_report, conf_matrix = run_models(X_train, y_train, X_test, y_test, model_type = 'Non-balanced')\n",
    "#now focus on models report and confidence matrix\n",
    "#run models using data set and non balanced, outputs will be assigned to output report and matrix"
   ]
  },
  {
   "cell_type": "code",
   "execution_count": 39,
   "metadata": {
    "_cell_guid": "69a02ef6-8030-480b-905e-207bf1200de3",
    "_uuid": "195d43c8c745c86e19b66a5dee0e663769807d21"
   },
   "outputs": [
    {
     "data": {
      "text/html": [
       "<div>\n",
       "<style>\n",
       "    .dataframe thead tr:only-child th {\n",
       "        text-align: right;\n",
       "    }\n",
       "\n",
       "    .dataframe thead th {\n",
       "        text-align: left;\n",
       "    }\n",
       "\n",
       "    .dataframe tbody tr th {\n",
       "        vertical-align: top;\n",
       "    }\n",
       "</style>\n",
       "<table border=\"1\" class=\"dataframe\">\n",
       "  <thead>\n",
       "    <tr style=\"text-align: right;\">\n",
       "      <th></th>\n",
       "      <th>model</th>\n",
       "      <th>matthews_corrcoef</th>\n",
       "      <th>roc_auc_score</th>\n",
       "      <th>precision_score</th>\n",
       "      <th>recall_score</th>\n",
       "      <th>f1_score</th>\n",
       "      <th>model_type</th>\n",
       "    </tr>\n",
       "  </thead>\n",
       "  <tbody>\n",
       "    <tr>\n",
       "      <th>0</th>\n",
       "      <td>LogisticRegression</td>\n",
       "      <td>0.235777</td>\n",
       "      <td>0.976480</td>\n",
       "      <td>0.549329</td>\n",
       "      <td>0.106919</td>\n",
       "      <td>0.178999</td>\n",
       "      <td>Non-balanced</td>\n",
       "    </tr>\n",
       "    <tr>\n",
       "      <th>1</th>\n",
       "      <td>RandomForestClassifier</td>\n",
       "      <td>0.236362</td>\n",
       "      <td>0.973934</td>\n",
       "      <td>0.495644</td>\n",
       "      <td>0.120043</td>\n",
       "      <td>0.193275</td>\n",
       "      <td>Non-balanced</td>\n",
       "    </tr>\n",
       "  </tbody>\n",
       "</table>\n",
       "</div>"
      ],
      "text/plain": [
       "                    model  matthews_corrcoef  roc_auc_score  precision_score  \\\n",
       "0      LogisticRegression           0.235777       0.976480         0.549329   \n",
       "1  RandomForestClassifier           0.236362       0.973934         0.495644   \n",
       "\n",
       "   recall_score  f1_score    model_type  \n",
       "0      0.106919  0.178999  Non-balanced  \n",
       "1      0.120043  0.193275  Non-balanced  "
      ]
     },
     "execution_count": 39,
     "metadata": {},
     "output_type": "execute_result"
    }
   ],
   "source": [
    "models_report #now to get a report of the models"
   ]
  },
  {
   "cell_type": "code",
   "execution_count": 40,
   "metadata": {
    "scrolled": true
   },
   "outputs": [
    {
     "data": {
      "text/html": [
       "<div>\n",
       "<style>\n",
       "    .dataframe thead tr:only-child th {\n",
       "        text-align: right;\n",
       "    }\n",
       "\n",
       "    .dataframe thead th {\n",
       "        text-align: left;\n",
       "    }\n",
       "\n",
       "    .dataframe tbody tr th {\n",
       "        vertical-align: top;\n",
       "    }\n",
       "</style>\n",
       "<table border=\"1\" class=\"dataframe\">\n",
       "  <thead>\n",
       "    <tr style=\"text-align: right;\">\n",
       "      <th>Predicted</th>\n",
       "      <th>0</th>\n",
       "      <th>1</th>\n",
       "    </tr>\n",
       "    <tr>\n",
       "      <th>True</th>\n",
       "      <th></th>\n",
       "      <th></th>\n",
       "    </tr>\n",
       "  </thead>\n",
       "  <tbody>\n",
       "    <tr>\n",
       "      <th>0</th>\n",
       "      <td>1244379</td>\n",
       "      <td>3416</td>\n",
       "    </tr>\n",
       "    <tr>\n",
       "      <th>1</th>\n",
       "      <td>24608</td>\n",
       "      <td>3357</td>\n",
       "    </tr>\n",
       "  </tbody>\n",
       "</table>\n",
       "</div>"
      ],
      "text/plain": [
       "Predicted        0     1\n",
       "True                    \n",
       "0          1244379  3416\n",
       "1            24608  3357"
      ]
     },
     "execution_count": 40,
     "metadata": {},
     "output_type": "execute_result"
    }
   ],
   "source": [
    "conf_matrix['RandomForestClassifier'] #the confidence matrix for random forest"
   ]
  },
  {
   "cell_type": "code",
   "execution_count": 41,
   "metadata": {
    "_cell_guid": "b55d0ff0-54f5-4979-bf59-bb6f904f73cc",
    "_uuid": "3c4b617386fd76f71d245e4f682894882ac1fab9"
   },
   "outputs": [
    {
     "data": {
      "text/html": [
       "<div>\n",
       "<style>\n",
       "    .dataframe thead tr:only-child th {\n",
       "        text-align: right;\n",
       "    }\n",
       "\n",
       "    .dataframe thead th {\n",
       "        text-align: left;\n",
       "    }\n",
       "\n",
       "    .dataframe tbody tr th {\n",
       "        vertical-align: top;\n",
       "    }\n",
       "</style>\n",
       "<table border=\"1\" class=\"dataframe\">\n",
       "  <thead>\n",
       "    <tr style=\"text-align: right;\">\n",
       "      <th>Predicted</th>\n",
       "      <th>0</th>\n",
       "      <th>1</th>\n",
       "    </tr>\n",
       "    <tr>\n",
       "      <th>True</th>\n",
       "      <th></th>\n",
       "      <th></th>\n",
       "    </tr>\n",
       "  </thead>\n",
       "  <tbody>\n",
       "    <tr>\n",
       "      <th>0</th>\n",
       "      <td>1245342</td>\n",
       "      <td>2453</td>\n",
       "    </tr>\n",
       "    <tr>\n",
       "      <th>1</th>\n",
       "      <td>24975</td>\n",
       "      <td>2990</td>\n",
       "    </tr>\n",
       "  </tbody>\n",
       "</table>\n",
       "</div>"
      ],
      "text/plain": [
       "Predicted        0     1\n",
       "True                    \n",
       "0          1245342  2453\n",
       "1            24975  2990"
      ]
     },
     "execution_count": 41,
     "metadata": {},
     "output_type": "execute_result"
    }
   ],
   "source": [
    "conf_matrix['LogisticRegression'] #the confidence matrix for logistic regression"
   ]
  },
  {
   "cell_type": "markdown",
   "metadata": {},
   "source": [
    "# Improving Our Model\n",
    "##Modelling with Balanced Classes"
   ]
  },
  {
   "cell_type": "markdown",
   "metadata": {},
   "source": [
    "Using SMOTE ( Synthetic Minority Over-sampling Technique), we can aritifically balance our classes and get a better prediction.\n",
    "\n",
    "We use a K-nearest neighbour approach and make feature vectors resembling the target variable's. The minority class is oversampled. With this, the model performance will improve."
   ]
  },
  {
   "cell_type": "code",
   "execution_count": 26,
   "metadata": {
    "_cell_guid": "6f9f58c5-0229-4f20-b036-362033ea1b7d",
    "_uuid": "c052779ea2ba97a6ff7a648271fe8c366ceb9a61"
   },
   "outputs": [],
   "source": [
    "def run_models(X_train, y_train, X_test, y_test, model_type = 'Balanced'): #run_models is used below to run them\n",
    "    #define the funciton run models, with the parameters:\n",
    "    #X_train: training data set\n",
    "    #Y_train: set of labels to all the data in x_train\n",
    "    #The training set is a subset of the data set used to train a model.\n",
    "    #X_test: test data set\n",
    "    #y_test:  set of labels to all the data in x_test\n",
    "    #model_type: specify the type of model we want to use\n",
    "    #we select non-balanced for now, just to see how the initial model will fare\n",
    "    \n",
    "    clfs = { 'LogisticRegression' : LogisticRegression(),\n",
    "            'RandomForestClassifier': RandomForestClassifier(n_estimators=100) } #n_estimators sets the number of trees in forest for model}\n",
    "    cols = ['model','matthews_corrcoef', 'roc_auc_score', 'precision_score', 'recall_score','f1_score']\n",
    "\n",
    "    #Establish which methods we want to use - Logistic Regression and Random Forest - with the clfs line that creates a dictionary\n",
    "    #of the two\n",
    "    #cols establishes a list of the specific columns of metrics we want\n",
    "    \n",
    "    models_report = pd.DataFrame(columns = cols) #this is used to generate an empty model report\n",
    "    conf_matrix = dict() #create a dictionary for the confidence matrix that assigns the confidence values to specific keys\n",
    "\n",
    "    for clf, clf_name in zip(clfs.values(), clfs.keys()): \n",
    "        #establish a for loop saying that for each method name and value,\n",
    "\n",
    "        clf.fit(X_train, y_train)\n",
    "        #Train the model by fitting it to data, using the training data set as inputs\n",
    "        \n",
    "        y_pred = clf.predict(X_test) #the predicted labels that will be returned from \n",
    "        #.predict, which predicts target values of X given a model\n",
    "        y_score = clf.predict_proba(X_test)[:,1] #the Target scores, \n",
    "        #can either be probability estimates of the positive class, confidence values, \n",
    "        #or non-thresholded measure of decisions (as returned by “decision_function” on some classifiers).\n",
    "        #obtained using .predict_proba, which is a\n",
    "        #method of a (soft) classifier outputting the probability of the instance being in each of the classes.\n",
    "        \n",
    "        print('computing {} - {} '.format(clf_name, model_type)) #print output saying that the file is computing\n",
    "        #specific model, which is why.format is used at end to pull name and model type to plug into statement\n",
    "\n",
    "        tmp = pd.Series({'model_type': model_type,\n",
    "                         'model': clf_name,\n",
    "                         'roc_auc_score' : metrics.roc_auc_score(y_test, y_score),\n",
    "                         'matthews_corrcoef': metrics.matthews_corrcoef(y_test, y_pred),\n",
    "                         'precision_score': metrics.precision_score(y_test, y_pred),\n",
    "                         'recall_score': metrics.recall_score(y_test, y_pred),\n",
    "                         'f1_score': metrics.f1_score(y_test, y_pred)})\n",
    "        #create a dictionary of series names and keys assigning values for what each item is\n",
    "        #the keys are the desired items we want in the end for our model analysis, with the values\n",
    "        #explaining how each key is assigned/calculated \n",
    "        \n",
    "        models_report = models_report.append(tmp, ignore_index = True)\n",
    "        #append the tmp values to our currently empty model report\n",
    "        #ignore_index = True means we ignore and do not use the index labels, do this as the report needs to show\n",
    "        #only the names, not the methods for how each item is analyzed\n",
    "        conf_matrix[clf_name] = pd.crosstab(y_test, y_pred, rownames=['True'], colnames= ['Predicted'], margins=False)\n",
    "        #establish the confidence matrix, crosstab Compute a simple cross-tabulation of two (or more) factors.\n",
    "        #Cross tabulation is a tool that allows you compare the relationship between two or more factors.\n",
    "        #Can you tell what factors are we cross tabulating?\n",
    "        fpr, tpr, thresholds = metrics.roc_curve(y_test, y_score, drop_intermediate = False, pos_label = 1)\n",
    "        #the returns of the ROC curve, all three are arrays \n",
    "        #hence use of metrics.roc_curve, uses y test data and target scores to determine three return values\n",
    "        plt.figure(1, figsize=(6,6))\n",
    "        plt.xlabel('false positive rate')\n",
    "        plt.ylabel('true positive rate')\n",
    "        plt.title('ROC curve - {}'.format(model_type))\n",
    "        plt.plot(fpr, tpr, label = clf_name )\n",
    "        plt.legend(loc=2, prop={'size':11})\n",
    "    plt.plot([0,1],[0,1], color = 'black')\n",
    "        #plotting dimensions and specifics for the result graph\n",
    "    \n",
    "    return models_report, conf_matrix\n",
    "    #after running function, also give us models_report and confidence matrix for methods"
   ]
  },
  {
   "cell_type": "markdown",
   "metadata": {},
   "source": [
    "# 2015"
   ]
  },
  {
   "cell_type": "code",
   "execution_count": 96,
   "metadata": {},
   "outputs": [],
   "source": [
    "index_split = int(len(X)/2)#split index in by length of X/2\n",
    "X_train, y_train = SMOTE().fit_sample(X_scaled[0:index_split, :], y[0:index_split])\n",
    "#use SMOTE to fit sample\n",
    "#Define X parameter to fit to and Y\n",
    "#new training data set\n",
    "X_test, y_test = X_scaled[index_split:], y[index_split:]\n",
    "#define test data\n",
    "#scores = cross_val_score(clf, X_scaled, y , cv=5, scoring='roc_auc')"
   ]
  },
  {
   "cell_type": "code",
   "execution_count": 97,
   "metadata": {},
   "outputs": [
    {
     "name": "stdout",
     "output_type": "stream",
     "text": [
      "computing LogisticRegression - Balanced \n"
     ]
    },
    {
     "ename": "ValueError",
     "evalue": "Only one class present in y_true. ROC AUC score is not defined in that case.",
     "output_type": "error",
     "traceback": [
      "\u001b[0;31m---------------------------------------------------------------------------\u001b[0m",
      "\u001b[0;31mValueError\u001b[0m                                Traceback (most recent call last)",
      "\u001b[0;32m<ipython-input-97-a715b545c3b0>\u001b[0m in \u001b[0;36m<module>\u001b[0;34m()\u001b[0m\n\u001b[0;32m----> 1\u001b[0;31m \u001b[0mmodels_report_bal\u001b[0m\u001b[0;34m,\u001b[0m \u001b[0mconf_matrix_bal\u001b[0m \u001b[0;34m=\u001b[0m \u001b[0mrun_models\u001b[0m\u001b[0;34m(\u001b[0m\u001b[0mX_train\u001b[0m\u001b[0;34m,\u001b[0m \u001b[0my_train\u001b[0m\u001b[0;34m,\u001b[0m \u001b[0mX_test\u001b[0m\u001b[0;34m,\u001b[0m \u001b[0my_test\u001b[0m\u001b[0;34m,\u001b[0m \u001b[0mmodel_type\u001b[0m \u001b[0;34m=\u001b[0m \u001b[0;34m'Balanced'\u001b[0m\u001b[0;34m)\u001b[0m\u001b[0;34m\u001b[0m\u001b[0m\n\u001b[0m\u001b[1;32m      2\u001b[0m \u001b[0;31m#same as before, but change model type to balanced now\u001b[0m\u001b[0;34m\u001b[0m\u001b[0;34m\u001b[0m\u001b[0m\n\u001b[1;32m      3\u001b[0m \u001b[0;31m#The “balanced” mode uses the values of y to automatically adjust weights\u001b[0m\u001b[0;34m\u001b[0m\u001b[0;34m\u001b[0m\u001b[0m\n\u001b[1;32m      4\u001b[0m \u001b[0;31m#inversely proportional to class frequencies in the input data as n_samples / (n_classes * np.bincount(y))\u001b[0m\u001b[0;34m\u001b[0m\u001b[0;34m\u001b[0m\u001b[0m\n",
      "\u001b[0;32m<ipython-input-84-dab4d3871faa>\u001b[0m in \u001b[0;36mrun_models\u001b[0;34m(X_train, y_train, X_test, y_test, model_type)\u001b[0m\n\u001b[1;32m     40\u001b[0m         tmp = pd.Series({'model_type': model_type,\n\u001b[1;32m     41\u001b[0m                          \u001b[0;34m'model'\u001b[0m\u001b[0;34m:\u001b[0m \u001b[0mclf_name\u001b[0m\u001b[0;34m,\u001b[0m\u001b[0;34m\u001b[0m\u001b[0m\n\u001b[0;32m---> 42\u001b[0;31m                          \u001b[0;34m'roc_auc_score'\u001b[0m \u001b[0;34m:\u001b[0m \u001b[0mmetrics\u001b[0m\u001b[0;34m.\u001b[0m\u001b[0mroc_auc_score\u001b[0m\u001b[0;34m(\u001b[0m\u001b[0my_test\u001b[0m\u001b[0;34m,\u001b[0m \u001b[0my_score\u001b[0m\u001b[0;34m)\u001b[0m\u001b[0;34m,\u001b[0m\u001b[0;34m\u001b[0m\u001b[0m\n\u001b[0m\u001b[1;32m     43\u001b[0m                          \u001b[0;34m'matthews_corrcoef'\u001b[0m\u001b[0;34m:\u001b[0m \u001b[0mmetrics\u001b[0m\u001b[0;34m.\u001b[0m\u001b[0mmatthews_corrcoef\u001b[0m\u001b[0;34m(\u001b[0m\u001b[0my_test\u001b[0m\u001b[0;34m,\u001b[0m \u001b[0my_pred\u001b[0m\u001b[0;34m)\u001b[0m\u001b[0;34m,\u001b[0m\u001b[0;34m\u001b[0m\u001b[0m\n\u001b[1;32m     44\u001b[0m                          \u001b[0;34m'precision_score'\u001b[0m\u001b[0;34m:\u001b[0m \u001b[0mmetrics\u001b[0m\u001b[0;34m.\u001b[0m\u001b[0mprecision_score\u001b[0m\u001b[0;34m(\u001b[0m\u001b[0my_test\u001b[0m\u001b[0;34m,\u001b[0m \u001b[0my_pred\u001b[0m\u001b[0;34m)\u001b[0m\u001b[0;34m,\u001b[0m\u001b[0;34m\u001b[0m\u001b[0m\n",
      "\u001b[0;32m/anaconda3/lib/python3.6/site-packages/sklearn/metrics/ranking.py\u001b[0m in \u001b[0;36mroc_auc_score\u001b[0;34m(y_true, y_score, average, sample_weight)\u001b[0m\n\u001b[1;32m    275\u001b[0m     return _average_binary_score(\n\u001b[1;32m    276\u001b[0m         \u001b[0m_binary_roc_auc_score\u001b[0m\u001b[0;34m,\u001b[0m \u001b[0my_true\u001b[0m\u001b[0;34m,\u001b[0m \u001b[0my_score\u001b[0m\u001b[0;34m,\u001b[0m \u001b[0maverage\u001b[0m\u001b[0;34m,\u001b[0m\u001b[0;34m\u001b[0m\u001b[0m\n\u001b[0;32m--> 277\u001b[0;31m         sample_weight=sample_weight)\n\u001b[0m\u001b[1;32m    278\u001b[0m \u001b[0;34m\u001b[0m\u001b[0m\n\u001b[1;32m    279\u001b[0m \u001b[0;34m\u001b[0m\u001b[0m\n",
      "\u001b[0;32m/anaconda3/lib/python3.6/site-packages/sklearn/metrics/base.py\u001b[0m in \u001b[0;36m_average_binary_score\u001b[0;34m(binary_metric, y_true, y_score, average, sample_weight)\u001b[0m\n\u001b[1;32m     73\u001b[0m \u001b[0;34m\u001b[0m\u001b[0m\n\u001b[1;32m     74\u001b[0m     \u001b[0;32mif\u001b[0m \u001b[0my_type\u001b[0m \u001b[0;34m==\u001b[0m \u001b[0;34m\"binary\"\u001b[0m\u001b[0;34m:\u001b[0m\u001b[0;34m\u001b[0m\u001b[0m\n\u001b[0;32m---> 75\u001b[0;31m         \u001b[0;32mreturn\u001b[0m \u001b[0mbinary_metric\u001b[0m\u001b[0;34m(\u001b[0m\u001b[0my_true\u001b[0m\u001b[0;34m,\u001b[0m \u001b[0my_score\u001b[0m\u001b[0;34m,\u001b[0m \u001b[0msample_weight\u001b[0m\u001b[0;34m=\u001b[0m\u001b[0msample_weight\u001b[0m\u001b[0;34m)\u001b[0m\u001b[0;34m\u001b[0m\u001b[0m\n\u001b[0m\u001b[1;32m     76\u001b[0m \u001b[0;34m\u001b[0m\u001b[0m\n\u001b[1;32m     77\u001b[0m     \u001b[0mcheck_consistent_length\u001b[0m\u001b[0;34m(\u001b[0m\u001b[0my_true\u001b[0m\u001b[0;34m,\u001b[0m \u001b[0my_score\u001b[0m\u001b[0;34m,\u001b[0m \u001b[0msample_weight\u001b[0m\u001b[0;34m)\u001b[0m\u001b[0;34m\u001b[0m\u001b[0m\n",
      "\u001b[0;32m/anaconda3/lib/python3.6/site-packages/sklearn/metrics/ranking.py\u001b[0m in \u001b[0;36m_binary_roc_auc_score\u001b[0;34m(y_true, y_score, sample_weight)\u001b[0m\n\u001b[1;32m    266\u001b[0m     \u001b[0;32mdef\u001b[0m \u001b[0m_binary_roc_auc_score\u001b[0m\u001b[0;34m(\u001b[0m\u001b[0my_true\u001b[0m\u001b[0;34m,\u001b[0m \u001b[0my_score\u001b[0m\u001b[0;34m,\u001b[0m \u001b[0msample_weight\u001b[0m\u001b[0;34m=\u001b[0m\u001b[0;32mNone\u001b[0m\u001b[0;34m)\u001b[0m\u001b[0;34m:\u001b[0m\u001b[0;34m\u001b[0m\u001b[0m\n\u001b[1;32m    267\u001b[0m         \u001b[0;32mif\u001b[0m \u001b[0mlen\u001b[0m\u001b[0;34m(\u001b[0m\u001b[0mnp\u001b[0m\u001b[0;34m.\u001b[0m\u001b[0munique\u001b[0m\u001b[0;34m(\u001b[0m\u001b[0my_true\u001b[0m\u001b[0;34m)\u001b[0m\u001b[0;34m)\u001b[0m \u001b[0;34m!=\u001b[0m \u001b[0;36m2\u001b[0m\u001b[0;34m:\u001b[0m\u001b[0;34m\u001b[0m\u001b[0m\n\u001b[0;32m--> 268\u001b[0;31m             raise ValueError(\"Only one class present in y_true. ROC AUC score \"\n\u001b[0m\u001b[1;32m    269\u001b[0m                              \"is not defined in that case.\")\n\u001b[1;32m    270\u001b[0m \u001b[0;34m\u001b[0m\u001b[0m\n",
      "\u001b[0;31mValueError\u001b[0m: Only one class present in y_true. ROC AUC score is not defined in that case."
     ]
    }
   ],
   "source": [
    "models_report_bal, conf_matrix_bal = run_models(X_train, y_train, X_test, y_test, model_type = 'Balanced')\n",
    "#same as before, but change model type to balanced now\n",
    "#The “balanced” mode uses the values of y to automatically adjust weights \n",
    "#inversely proportional to class frequencies in the input data as n_samples / (n_classes * np.bincount(y))"
   ]
  },
  {
   "cell_type": "code",
   "execution_count": null,
   "metadata": {},
   "outputs": [],
   "source": [
    "models_report_bal #balanced report"
   ]
  },
  {
   "cell_type": "code",
   "execution_count": null,
   "metadata": {},
   "outputs": [],
   "source": [
    "conf_matrix_bal['RandomForestClassifier'] #balanced logistic regression"
   ]
  },
  {
   "cell_type": "code",
   "execution_count": 41,
   "metadata": {
    "_cell_guid": "b55d0ff0-54f5-4979-bf59-bb6f904f73cc",
    "_uuid": "3c4b617386fd76f71d245e4f682894882ac1fab9"
   },
   "outputs": [
    {
     "data": {
      "text/html": [
       "<div>\n",
       "<style>\n",
       "    .dataframe thead tr:only-child th {\n",
       "        text-align: right;\n",
       "    }\n",
       "\n",
       "    .dataframe thead th {\n",
       "        text-align: left;\n",
       "    }\n",
       "\n",
       "    .dataframe tbody tr th {\n",
       "        vertical-align: top;\n",
       "    }\n",
       "</style>\n",
       "<table border=\"1\" class=\"dataframe\">\n",
       "  <thead>\n",
       "    <tr style=\"text-align: right;\">\n",
       "      <th>Predicted</th>\n",
       "      <th>0</th>\n",
       "      <th>1</th>\n",
       "    </tr>\n",
       "    <tr>\n",
       "      <th>True</th>\n",
       "      <th></th>\n",
       "      <th></th>\n",
       "    </tr>\n",
       "  </thead>\n",
       "  <tbody>\n",
       "    <tr>\n",
       "      <th>0</th>\n",
       "      <td>1245342</td>\n",
       "      <td>2453</td>\n",
       "    </tr>\n",
       "    <tr>\n",
       "      <th>1</th>\n",
       "      <td>24975</td>\n",
       "      <td>2990</td>\n",
       "    </tr>\n",
       "  </tbody>\n",
       "</table>\n",
       "</div>"
      ],
      "text/plain": [
       "Predicted        0     1\n",
       "True                    \n",
       "0          1245342  2453\n",
       "1            24975  2990"
      ]
     },
     "execution_count": 41,
     "metadata": {},
     "output_type": "execute_result"
    }
   ],
   "source": [
    "conf_matrix_bal['LogisticRegression'] #the confidence matrix for logistic regression"
   ]
  },
  {
   "cell_type": "markdown",
   "metadata": {},
   "source": [
    "# 2016"
   ]
  },
  {
   "cell_type": "code",
   "execution_count": 47,
   "metadata": {},
   "outputs": [
    {
     "name": "stdout",
     "output_type": "stream",
     "text": [
      "computing LogisticRegression - Balanced \n"
     ]
    },
    {
     "ename": "ValueError",
     "evalue": "Only one class present in y_true. ROC AUC score is not defined in that case.",
     "output_type": "error",
     "traceback": [
      "\u001b[0;31m---------------------------------------------------------------------------\u001b[0m",
      "\u001b[0;31mValueError\u001b[0m                                Traceback (most recent call last)",
      "\u001b[0;32m<ipython-input-47-6fe796e7f44f>\u001b[0m in \u001b[0;36m<module>\u001b[0;34m()\u001b[0m\n\u001b[1;32m      9\u001b[0m \u001b[0;31m#scores = cross_val_score(clf, X_scaled, y , cv=5, scoring='roc_auc')\u001b[0m\u001b[0;34m\u001b[0m\u001b[0;34m\u001b[0m\u001b[0m\n\u001b[1;32m     10\u001b[0m \u001b[0;34m\u001b[0m\u001b[0m\n\u001b[0;32m---> 11\u001b[0;31m \u001b[0mmodels_report_bal\u001b[0m\u001b[0;34m,\u001b[0m \u001b[0mconf_matrix_bal\u001b[0m \u001b[0;34m=\u001b[0m \u001b[0mrun_models\u001b[0m\u001b[0;34m(\u001b[0m\u001b[0mX_train\u001b[0m\u001b[0;34m,\u001b[0m \u001b[0my_train\u001b[0m\u001b[0;34m,\u001b[0m \u001b[0mX_test\u001b[0m\u001b[0;34m,\u001b[0m \u001b[0my_test\u001b[0m\u001b[0;34m,\u001b[0m \u001b[0mmodel_type\u001b[0m \u001b[0;34m=\u001b[0m \u001b[0;34m'Balanced'\u001b[0m\u001b[0;34m)\u001b[0m\u001b[0;34m\u001b[0m\u001b[0m\n\u001b[0m\u001b[1;32m     12\u001b[0m \u001b[0;31m#same as before, but change model type to balanced now\u001b[0m\u001b[0;34m\u001b[0m\u001b[0;34m\u001b[0m\u001b[0m\n\u001b[1;32m     13\u001b[0m \u001b[0;31m#The “balanced” mode uses the values of y to automatically adjust weights\u001b[0m\u001b[0;34m\u001b[0m\u001b[0;34m\u001b[0m\u001b[0m\n",
      "\u001b[0;32m<ipython-input-37-dab4d3871faa>\u001b[0m in \u001b[0;36mrun_models\u001b[0;34m(X_train, y_train, X_test, y_test, model_type)\u001b[0m\n\u001b[1;32m     40\u001b[0m         tmp = pd.Series({'model_type': model_type,\n\u001b[1;32m     41\u001b[0m                          \u001b[0;34m'model'\u001b[0m\u001b[0;34m:\u001b[0m \u001b[0mclf_name\u001b[0m\u001b[0;34m,\u001b[0m\u001b[0;34m\u001b[0m\u001b[0m\n\u001b[0;32m---> 42\u001b[0;31m                          \u001b[0;34m'roc_auc_score'\u001b[0m \u001b[0;34m:\u001b[0m \u001b[0mmetrics\u001b[0m\u001b[0;34m.\u001b[0m\u001b[0mroc_auc_score\u001b[0m\u001b[0;34m(\u001b[0m\u001b[0my_test\u001b[0m\u001b[0;34m,\u001b[0m \u001b[0my_score\u001b[0m\u001b[0;34m)\u001b[0m\u001b[0;34m,\u001b[0m\u001b[0;34m\u001b[0m\u001b[0m\n\u001b[0m\u001b[1;32m     43\u001b[0m                          \u001b[0;34m'matthews_corrcoef'\u001b[0m\u001b[0;34m:\u001b[0m \u001b[0mmetrics\u001b[0m\u001b[0;34m.\u001b[0m\u001b[0mmatthews_corrcoef\u001b[0m\u001b[0;34m(\u001b[0m\u001b[0my_test\u001b[0m\u001b[0;34m,\u001b[0m \u001b[0my_pred\u001b[0m\u001b[0;34m)\u001b[0m\u001b[0;34m,\u001b[0m\u001b[0;34m\u001b[0m\u001b[0m\n\u001b[1;32m     44\u001b[0m                          \u001b[0;34m'precision_score'\u001b[0m\u001b[0;34m:\u001b[0m \u001b[0mmetrics\u001b[0m\u001b[0;34m.\u001b[0m\u001b[0mprecision_score\u001b[0m\u001b[0;34m(\u001b[0m\u001b[0my_test\u001b[0m\u001b[0;34m,\u001b[0m \u001b[0my_pred\u001b[0m\u001b[0;34m)\u001b[0m\u001b[0;34m,\u001b[0m\u001b[0;34m\u001b[0m\u001b[0m\n",
      "\u001b[0;32m/anaconda3/lib/python3.6/site-packages/sklearn/metrics/ranking.py\u001b[0m in \u001b[0;36mroc_auc_score\u001b[0;34m(y_true, y_score, average, sample_weight)\u001b[0m\n\u001b[1;32m    275\u001b[0m     return _average_binary_score(\n\u001b[1;32m    276\u001b[0m         \u001b[0m_binary_roc_auc_score\u001b[0m\u001b[0;34m,\u001b[0m \u001b[0my_true\u001b[0m\u001b[0;34m,\u001b[0m \u001b[0my_score\u001b[0m\u001b[0;34m,\u001b[0m \u001b[0maverage\u001b[0m\u001b[0;34m,\u001b[0m\u001b[0;34m\u001b[0m\u001b[0m\n\u001b[0;32m--> 277\u001b[0;31m         sample_weight=sample_weight)\n\u001b[0m\u001b[1;32m    278\u001b[0m \u001b[0;34m\u001b[0m\u001b[0m\n\u001b[1;32m    279\u001b[0m \u001b[0;34m\u001b[0m\u001b[0m\n",
      "\u001b[0;32m/anaconda3/lib/python3.6/site-packages/sklearn/metrics/base.py\u001b[0m in \u001b[0;36m_average_binary_score\u001b[0;34m(binary_metric, y_true, y_score, average, sample_weight)\u001b[0m\n\u001b[1;32m     73\u001b[0m \u001b[0;34m\u001b[0m\u001b[0m\n\u001b[1;32m     74\u001b[0m     \u001b[0;32mif\u001b[0m \u001b[0my_type\u001b[0m \u001b[0;34m==\u001b[0m \u001b[0;34m\"binary\"\u001b[0m\u001b[0;34m:\u001b[0m\u001b[0;34m\u001b[0m\u001b[0m\n\u001b[0;32m---> 75\u001b[0;31m         \u001b[0;32mreturn\u001b[0m \u001b[0mbinary_metric\u001b[0m\u001b[0;34m(\u001b[0m\u001b[0my_true\u001b[0m\u001b[0;34m,\u001b[0m \u001b[0my_score\u001b[0m\u001b[0;34m,\u001b[0m \u001b[0msample_weight\u001b[0m\u001b[0;34m=\u001b[0m\u001b[0msample_weight\u001b[0m\u001b[0;34m)\u001b[0m\u001b[0;34m\u001b[0m\u001b[0m\n\u001b[0m\u001b[1;32m     76\u001b[0m \u001b[0;34m\u001b[0m\u001b[0m\n\u001b[1;32m     77\u001b[0m     \u001b[0mcheck_consistent_length\u001b[0m\u001b[0;34m(\u001b[0m\u001b[0my_true\u001b[0m\u001b[0;34m,\u001b[0m \u001b[0my_score\u001b[0m\u001b[0;34m,\u001b[0m \u001b[0msample_weight\u001b[0m\u001b[0;34m)\u001b[0m\u001b[0;34m\u001b[0m\u001b[0m\n",
      "\u001b[0;32m/anaconda3/lib/python3.6/site-packages/sklearn/metrics/ranking.py\u001b[0m in \u001b[0;36m_binary_roc_auc_score\u001b[0;34m(y_true, y_score, sample_weight)\u001b[0m\n\u001b[1;32m    266\u001b[0m     \u001b[0;32mdef\u001b[0m \u001b[0m_binary_roc_auc_score\u001b[0m\u001b[0;34m(\u001b[0m\u001b[0my_true\u001b[0m\u001b[0;34m,\u001b[0m \u001b[0my_score\u001b[0m\u001b[0;34m,\u001b[0m \u001b[0msample_weight\u001b[0m\u001b[0;34m=\u001b[0m\u001b[0;32mNone\u001b[0m\u001b[0;34m)\u001b[0m\u001b[0;34m:\u001b[0m\u001b[0;34m\u001b[0m\u001b[0m\n\u001b[1;32m    267\u001b[0m         \u001b[0;32mif\u001b[0m \u001b[0mlen\u001b[0m\u001b[0;34m(\u001b[0m\u001b[0mnp\u001b[0m\u001b[0;34m.\u001b[0m\u001b[0munique\u001b[0m\u001b[0;34m(\u001b[0m\u001b[0my_true\u001b[0m\u001b[0;34m)\u001b[0m\u001b[0;34m)\u001b[0m \u001b[0;34m!=\u001b[0m \u001b[0;36m2\u001b[0m\u001b[0;34m:\u001b[0m\u001b[0;34m\u001b[0m\u001b[0m\n\u001b[0;32m--> 268\u001b[0;31m             raise ValueError(\"Only one class present in y_true. ROC AUC score \"\n\u001b[0m\u001b[1;32m    269\u001b[0m                              \"is not defined in that case.\")\n\u001b[1;32m    270\u001b[0m \u001b[0;34m\u001b[0m\u001b[0m\n",
      "\u001b[0;31mValueError\u001b[0m: Only one class present in y_true. ROC AUC score is not defined in that case."
     ]
    }
   ],
   "source": [
    "index_split = int(len(X)/2)#split index in by length of X/2\n",
    "X_train, y_train = SMOTE().fit_sample(X_scaled[0:index_split, :], y[0:index_split])\n",
    "#use SMOTE to fit sample\n",
    "#Define X parameter to fit to and Y\n",
    "#new training data set\n",
    "X_test, y_test = X_scaled[index_split:], y[index_split:]\n",
    "#define test data\n",
    "\n",
    "#scores = cross_val_score(clf, X_scaled, y , cv=5, scoring='roc_auc')"
   ]
  },
  {
   "cell_type": "code",
   "execution_count": null,
   "metadata": {},
   "outputs": [],
   "source": [
    "models_report_bal, conf_matrix_bal = run_models(X_train, y_train, X_test, y_test, model_type = 'Balanced')\n",
    "#same as before, but change model type to balanced now\n",
    "#The “balanced” mode uses the values of y to automatically adjust weights \n",
    "#inversely proportional to class frequencies in the input data as n_samples / (n_classes * np.bincount(y))"
   ]
  },
  {
   "cell_type": "code",
   "execution_count": null,
   "metadata": {},
   "outputs": [],
   "source": [
    "models_report_bal #balanced report"
   ]
  },
  {
   "cell_type": "code",
   "execution_count": null,
   "metadata": {},
   "outputs": [],
   "source": [
    "conf_matrix_bal['RandomForestClassifier'] #balanced logistic regression"
   ]
  },
  {
   "cell_type": "code",
   "execution_count": 41,
   "metadata": {
    "_cell_guid": "b55d0ff0-54f5-4979-bf59-bb6f904f73cc",
    "_uuid": "3c4b617386fd76f71d245e4f682894882ac1fab9"
   },
   "outputs": [
    {
     "data": {
      "text/html": [
       "<div>\n",
       "<style>\n",
       "    .dataframe thead tr:only-child th {\n",
       "        text-align: right;\n",
       "    }\n",
       "\n",
       "    .dataframe thead th {\n",
       "        text-align: left;\n",
       "    }\n",
       "\n",
       "    .dataframe tbody tr th {\n",
       "        vertical-align: top;\n",
       "    }\n",
       "</style>\n",
       "<table border=\"1\" class=\"dataframe\">\n",
       "  <thead>\n",
       "    <tr style=\"text-align: right;\">\n",
       "      <th>Predicted</th>\n",
       "      <th>0</th>\n",
       "      <th>1</th>\n",
       "    </tr>\n",
       "    <tr>\n",
       "      <th>True</th>\n",
       "      <th></th>\n",
       "      <th></th>\n",
       "    </tr>\n",
       "  </thead>\n",
       "  <tbody>\n",
       "    <tr>\n",
       "      <th>0</th>\n",
       "      <td>1245342</td>\n",
       "      <td>2453</td>\n",
       "    </tr>\n",
       "    <tr>\n",
       "      <th>1</th>\n",
       "      <td>24975</td>\n",
       "      <td>2990</td>\n",
       "    </tr>\n",
       "  </tbody>\n",
       "</table>\n",
       "</div>"
      ],
      "text/plain": [
       "Predicted        0     1\n",
       "True                    \n",
       "0          1245342  2453\n",
       "1            24975  2990"
      ]
     },
     "execution_count": 41,
     "metadata": {},
     "output_type": "execute_result"
    }
   ],
   "source": [
    "conf_matrix_bal['LogisticRegression'] #the confidence matrix for logistic regression"
   ]
  },
  {
   "cell_type": "markdown",
   "metadata": {},
   "source": [
    "# 2017"
   ]
  },
  {
   "cell_type": "code",
   "execution_count": null,
   "metadata": {},
   "outputs": [],
   "source": [
    "models_report_bal #balanced report"
   ]
  },
  {
   "cell_type": "code",
   "execution_count": 47,
   "metadata": {},
   "outputs": [
    {
     "name": "stdout",
     "output_type": "stream",
     "text": [
      "computing LogisticRegression - Balanced \n"
     ]
    },
    {
     "ename": "ValueError",
     "evalue": "Only one class present in y_true. ROC AUC score is not defined in that case.",
     "output_type": "error",
     "traceback": [
      "\u001b[0;31m---------------------------------------------------------------------------\u001b[0m",
      "\u001b[0;31mValueError\u001b[0m                                Traceback (most recent call last)",
      "\u001b[0;32m<ipython-input-47-6fe796e7f44f>\u001b[0m in \u001b[0;36m<module>\u001b[0;34m()\u001b[0m\n\u001b[1;32m      9\u001b[0m \u001b[0;31m#scores = cross_val_score(clf, X_scaled, y , cv=5, scoring='roc_auc')\u001b[0m\u001b[0;34m\u001b[0m\u001b[0;34m\u001b[0m\u001b[0m\n\u001b[1;32m     10\u001b[0m \u001b[0;34m\u001b[0m\u001b[0m\n\u001b[0;32m---> 11\u001b[0;31m \u001b[0mmodels_report_bal\u001b[0m\u001b[0;34m,\u001b[0m \u001b[0mconf_matrix_bal\u001b[0m \u001b[0;34m=\u001b[0m \u001b[0mrun_models\u001b[0m\u001b[0;34m(\u001b[0m\u001b[0mX_train\u001b[0m\u001b[0;34m,\u001b[0m \u001b[0my_train\u001b[0m\u001b[0;34m,\u001b[0m \u001b[0mX_test\u001b[0m\u001b[0;34m,\u001b[0m \u001b[0my_test\u001b[0m\u001b[0;34m,\u001b[0m \u001b[0mmodel_type\u001b[0m \u001b[0;34m=\u001b[0m \u001b[0;34m'Balanced'\u001b[0m\u001b[0;34m)\u001b[0m\u001b[0;34m\u001b[0m\u001b[0m\n\u001b[0m\u001b[1;32m     12\u001b[0m \u001b[0;31m#same as before, but change model type to balanced now\u001b[0m\u001b[0;34m\u001b[0m\u001b[0;34m\u001b[0m\u001b[0m\n\u001b[1;32m     13\u001b[0m \u001b[0;31m#The “balanced” mode uses the values of y to automatically adjust weights\u001b[0m\u001b[0;34m\u001b[0m\u001b[0;34m\u001b[0m\u001b[0m\n",
      "\u001b[0;32m<ipython-input-37-dab4d3871faa>\u001b[0m in \u001b[0;36mrun_models\u001b[0;34m(X_train, y_train, X_test, y_test, model_type)\u001b[0m\n\u001b[1;32m     40\u001b[0m         tmp = pd.Series({'model_type': model_type,\n\u001b[1;32m     41\u001b[0m                          \u001b[0;34m'model'\u001b[0m\u001b[0;34m:\u001b[0m \u001b[0mclf_name\u001b[0m\u001b[0;34m,\u001b[0m\u001b[0;34m\u001b[0m\u001b[0m\n\u001b[0;32m---> 42\u001b[0;31m                          \u001b[0;34m'roc_auc_score'\u001b[0m \u001b[0;34m:\u001b[0m \u001b[0mmetrics\u001b[0m\u001b[0;34m.\u001b[0m\u001b[0mroc_auc_score\u001b[0m\u001b[0;34m(\u001b[0m\u001b[0my_test\u001b[0m\u001b[0;34m,\u001b[0m \u001b[0my_score\u001b[0m\u001b[0;34m)\u001b[0m\u001b[0;34m,\u001b[0m\u001b[0;34m\u001b[0m\u001b[0m\n\u001b[0m\u001b[1;32m     43\u001b[0m                          \u001b[0;34m'matthews_corrcoef'\u001b[0m\u001b[0;34m:\u001b[0m \u001b[0mmetrics\u001b[0m\u001b[0;34m.\u001b[0m\u001b[0mmatthews_corrcoef\u001b[0m\u001b[0;34m(\u001b[0m\u001b[0my_test\u001b[0m\u001b[0;34m,\u001b[0m \u001b[0my_pred\u001b[0m\u001b[0;34m)\u001b[0m\u001b[0;34m,\u001b[0m\u001b[0;34m\u001b[0m\u001b[0m\n\u001b[1;32m     44\u001b[0m                          \u001b[0;34m'precision_score'\u001b[0m\u001b[0;34m:\u001b[0m \u001b[0mmetrics\u001b[0m\u001b[0;34m.\u001b[0m\u001b[0mprecision_score\u001b[0m\u001b[0;34m(\u001b[0m\u001b[0my_test\u001b[0m\u001b[0;34m,\u001b[0m \u001b[0my_pred\u001b[0m\u001b[0;34m)\u001b[0m\u001b[0;34m,\u001b[0m\u001b[0;34m\u001b[0m\u001b[0m\n",
      "\u001b[0;32m/anaconda3/lib/python3.6/site-packages/sklearn/metrics/ranking.py\u001b[0m in \u001b[0;36mroc_auc_score\u001b[0;34m(y_true, y_score, average, sample_weight)\u001b[0m\n\u001b[1;32m    275\u001b[0m     return _average_binary_score(\n\u001b[1;32m    276\u001b[0m         \u001b[0m_binary_roc_auc_score\u001b[0m\u001b[0;34m,\u001b[0m \u001b[0my_true\u001b[0m\u001b[0;34m,\u001b[0m \u001b[0my_score\u001b[0m\u001b[0;34m,\u001b[0m \u001b[0maverage\u001b[0m\u001b[0;34m,\u001b[0m\u001b[0;34m\u001b[0m\u001b[0m\n\u001b[0;32m--> 277\u001b[0;31m         sample_weight=sample_weight)\n\u001b[0m\u001b[1;32m    278\u001b[0m \u001b[0;34m\u001b[0m\u001b[0m\n\u001b[1;32m    279\u001b[0m \u001b[0;34m\u001b[0m\u001b[0m\n",
      "\u001b[0;32m/anaconda3/lib/python3.6/site-packages/sklearn/metrics/base.py\u001b[0m in \u001b[0;36m_average_binary_score\u001b[0;34m(binary_metric, y_true, y_score, average, sample_weight)\u001b[0m\n\u001b[1;32m     73\u001b[0m \u001b[0;34m\u001b[0m\u001b[0m\n\u001b[1;32m     74\u001b[0m     \u001b[0;32mif\u001b[0m \u001b[0my_type\u001b[0m \u001b[0;34m==\u001b[0m \u001b[0;34m\"binary\"\u001b[0m\u001b[0;34m:\u001b[0m\u001b[0;34m\u001b[0m\u001b[0m\n\u001b[0;32m---> 75\u001b[0;31m         \u001b[0;32mreturn\u001b[0m \u001b[0mbinary_metric\u001b[0m\u001b[0;34m(\u001b[0m\u001b[0my_true\u001b[0m\u001b[0;34m,\u001b[0m \u001b[0my_score\u001b[0m\u001b[0;34m,\u001b[0m \u001b[0msample_weight\u001b[0m\u001b[0;34m=\u001b[0m\u001b[0msample_weight\u001b[0m\u001b[0;34m)\u001b[0m\u001b[0;34m\u001b[0m\u001b[0m\n\u001b[0m\u001b[1;32m     76\u001b[0m \u001b[0;34m\u001b[0m\u001b[0m\n\u001b[1;32m     77\u001b[0m     \u001b[0mcheck_consistent_length\u001b[0m\u001b[0;34m(\u001b[0m\u001b[0my_true\u001b[0m\u001b[0;34m,\u001b[0m \u001b[0my_score\u001b[0m\u001b[0;34m,\u001b[0m \u001b[0msample_weight\u001b[0m\u001b[0;34m)\u001b[0m\u001b[0;34m\u001b[0m\u001b[0m\n",
      "\u001b[0;32m/anaconda3/lib/python3.6/site-packages/sklearn/metrics/ranking.py\u001b[0m in \u001b[0;36m_binary_roc_auc_score\u001b[0;34m(y_true, y_score, sample_weight)\u001b[0m\n\u001b[1;32m    266\u001b[0m     \u001b[0;32mdef\u001b[0m \u001b[0m_binary_roc_auc_score\u001b[0m\u001b[0;34m(\u001b[0m\u001b[0my_true\u001b[0m\u001b[0;34m,\u001b[0m \u001b[0my_score\u001b[0m\u001b[0;34m,\u001b[0m \u001b[0msample_weight\u001b[0m\u001b[0;34m=\u001b[0m\u001b[0;32mNone\u001b[0m\u001b[0;34m)\u001b[0m\u001b[0;34m:\u001b[0m\u001b[0;34m\u001b[0m\u001b[0m\n\u001b[1;32m    267\u001b[0m         \u001b[0;32mif\u001b[0m \u001b[0mlen\u001b[0m\u001b[0;34m(\u001b[0m\u001b[0mnp\u001b[0m\u001b[0;34m.\u001b[0m\u001b[0munique\u001b[0m\u001b[0;34m(\u001b[0m\u001b[0my_true\u001b[0m\u001b[0;34m)\u001b[0m\u001b[0;34m)\u001b[0m \u001b[0;34m!=\u001b[0m \u001b[0;36m2\u001b[0m\u001b[0;34m:\u001b[0m\u001b[0;34m\u001b[0m\u001b[0m\n\u001b[0;32m--> 268\u001b[0;31m             raise ValueError(\"Only one class present in y_true. ROC AUC score \"\n\u001b[0m\u001b[1;32m    269\u001b[0m                              \"is not defined in that case.\")\n\u001b[1;32m    270\u001b[0m \u001b[0;34m\u001b[0m\u001b[0m\n",
      "\u001b[0;31mValueError\u001b[0m: Only one class present in y_true. ROC AUC score is not defined in that case."
     ]
    }
   ],
   "source": [
    "index_split = int(len(X)/2)#split index in by length of X/2\n",
    "X_train, y_train = SMOTE().fit_sample(X_scaled[0:index_split, :], y[0:index_split])\n",
    "#use SMOTE to fit sample\n",
    "#Define X parameter to fit to and Y\n",
    "#new training data set\n",
    "X_test, y_test = X_scaled[index_split:], y[index_split:]\n",
    "#define test data\n",
    "\n",
    "#scores = cross_val_score(clf, X_scaled, y , cv=5, scoring='roc_auc')"
   ]
  },
  {
   "cell_type": "code",
   "execution_count": null,
   "metadata": {},
   "outputs": [],
   "source": [
    "models_report_bal, conf_matrix_bal = run_models(X_train, y_train, X_test, y_test, model_type = 'Balanced')\n",
    "#same as before, but change model type to balanced now\n",
    "#The “balanced” mode uses the values of y to automatically adjust weights \n",
    "#inversely proportional to class frequencies in the input data as n_samples / (n_classes * np.bincount(y))"
   ]
  },
  {
   "cell_type": "code",
   "execution_count": null,
   "metadata": {},
   "outputs": [],
   "source": [
    "models_report_bal #balanced report"
   ]
  },
  {
   "cell_type": "code",
   "execution_count": null,
   "metadata": {},
   "outputs": [],
   "source": [
    "conf_matrix_bal['RandomForestClassifier'] #balanced logistic regression"
   ]
  },
  {
   "cell_type": "code",
   "execution_count": 41,
   "metadata": {
    "_cell_guid": "b55d0ff0-54f5-4979-bf59-bb6f904f73cc",
    "_uuid": "3c4b617386fd76f71d245e4f682894882ac1fab9"
   },
   "outputs": [
    {
     "data": {
      "text/html": [
       "<div>\n",
       "<style>\n",
       "    .dataframe thead tr:only-child th {\n",
       "        text-align: right;\n",
       "    }\n",
       "\n",
       "    .dataframe thead th {\n",
       "        text-align: left;\n",
       "    }\n",
       "\n",
       "    .dataframe tbody tr th {\n",
       "        vertical-align: top;\n",
       "    }\n",
       "</style>\n",
       "<table border=\"1\" class=\"dataframe\">\n",
       "  <thead>\n",
       "    <tr style=\"text-align: right;\">\n",
       "      <th>Predicted</th>\n",
       "      <th>0</th>\n",
       "      <th>1</th>\n",
       "    </tr>\n",
       "    <tr>\n",
       "      <th>True</th>\n",
       "      <th></th>\n",
       "      <th></th>\n",
       "    </tr>\n",
       "  </thead>\n",
       "  <tbody>\n",
       "    <tr>\n",
       "      <th>0</th>\n",
       "      <td>1245342</td>\n",
       "      <td>2453</td>\n",
       "    </tr>\n",
       "    <tr>\n",
       "      <th>1</th>\n",
       "      <td>24975</td>\n",
       "      <td>2990</td>\n",
       "    </tr>\n",
       "  </tbody>\n",
       "</table>\n",
       "</div>"
      ],
      "text/plain": [
       "Predicted        0     1\n",
       "True                    \n",
       "0          1245342  2453\n",
       "1            24975  2990"
      ]
     },
     "execution_count": 41,
     "metadata": {},
     "output_type": "execute_result"
    }
   ],
   "source": [
    "conf_matrix_bal['LogisticRegression'] #the confidence matrix for logistic regression"
   ]
  },
  {
   "cell_type": "markdown",
   "metadata": {},
   "source": [
    "# 2018"
   ]
  },
  {
   "cell_type": "code",
   "execution_count": 47,
   "metadata": {},
   "outputs": [
    {
     "name": "stdout",
     "output_type": "stream",
     "text": [
      "computing LogisticRegression - Balanced \n"
     ]
    },
    {
     "ename": "ValueError",
     "evalue": "Only one class present in y_true. ROC AUC score is not defined in that case.",
     "output_type": "error",
     "traceback": [
      "\u001b[0;31m---------------------------------------------------------------------------\u001b[0m",
      "\u001b[0;31mValueError\u001b[0m                                Traceback (most recent call last)",
      "\u001b[0;32m<ipython-input-47-6fe796e7f44f>\u001b[0m in \u001b[0;36m<module>\u001b[0;34m()\u001b[0m\n\u001b[1;32m      9\u001b[0m \u001b[0;31m#scores = cross_val_score(clf, X_scaled, y , cv=5, scoring='roc_auc')\u001b[0m\u001b[0;34m\u001b[0m\u001b[0;34m\u001b[0m\u001b[0m\n\u001b[1;32m     10\u001b[0m \u001b[0;34m\u001b[0m\u001b[0m\n\u001b[0;32m---> 11\u001b[0;31m \u001b[0mmodels_report_bal\u001b[0m\u001b[0;34m,\u001b[0m \u001b[0mconf_matrix_bal\u001b[0m \u001b[0;34m=\u001b[0m \u001b[0mrun_models\u001b[0m\u001b[0;34m(\u001b[0m\u001b[0mX_train\u001b[0m\u001b[0;34m,\u001b[0m \u001b[0my_train\u001b[0m\u001b[0;34m,\u001b[0m \u001b[0mX_test\u001b[0m\u001b[0;34m,\u001b[0m \u001b[0my_test\u001b[0m\u001b[0;34m,\u001b[0m \u001b[0mmodel_type\u001b[0m \u001b[0;34m=\u001b[0m \u001b[0;34m'Balanced'\u001b[0m\u001b[0;34m)\u001b[0m\u001b[0;34m\u001b[0m\u001b[0m\n\u001b[0m\u001b[1;32m     12\u001b[0m \u001b[0;31m#same as before, but change model type to balanced now\u001b[0m\u001b[0;34m\u001b[0m\u001b[0;34m\u001b[0m\u001b[0m\n\u001b[1;32m     13\u001b[0m \u001b[0;31m#The “balanced” mode uses the values of y to automatically adjust weights\u001b[0m\u001b[0;34m\u001b[0m\u001b[0;34m\u001b[0m\u001b[0m\n",
      "\u001b[0;32m<ipython-input-37-dab4d3871faa>\u001b[0m in \u001b[0;36mrun_models\u001b[0;34m(X_train, y_train, X_test, y_test, model_type)\u001b[0m\n\u001b[1;32m     40\u001b[0m         tmp = pd.Series({'model_type': model_type,\n\u001b[1;32m     41\u001b[0m                          \u001b[0;34m'model'\u001b[0m\u001b[0;34m:\u001b[0m \u001b[0mclf_name\u001b[0m\u001b[0;34m,\u001b[0m\u001b[0;34m\u001b[0m\u001b[0m\n\u001b[0;32m---> 42\u001b[0;31m                          \u001b[0;34m'roc_auc_score'\u001b[0m \u001b[0;34m:\u001b[0m \u001b[0mmetrics\u001b[0m\u001b[0;34m.\u001b[0m\u001b[0mroc_auc_score\u001b[0m\u001b[0;34m(\u001b[0m\u001b[0my_test\u001b[0m\u001b[0;34m,\u001b[0m \u001b[0my_score\u001b[0m\u001b[0;34m)\u001b[0m\u001b[0;34m,\u001b[0m\u001b[0;34m\u001b[0m\u001b[0m\n\u001b[0m\u001b[1;32m     43\u001b[0m                          \u001b[0;34m'matthews_corrcoef'\u001b[0m\u001b[0;34m:\u001b[0m \u001b[0mmetrics\u001b[0m\u001b[0;34m.\u001b[0m\u001b[0mmatthews_corrcoef\u001b[0m\u001b[0;34m(\u001b[0m\u001b[0my_test\u001b[0m\u001b[0;34m,\u001b[0m \u001b[0my_pred\u001b[0m\u001b[0;34m)\u001b[0m\u001b[0;34m,\u001b[0m\u001b[0;34m\u001b[0m\u001b[0m\n\u001b[1;32m     44\u001b[0m                          \u001b[0;34m'precision_score'\u001b[0m\u001b[0;34m:\u001b[0m \u001b[0mmetrics\u001b[0m\u001b[0;34m.\u001b[0m\u001b[0mprecision_score\u001b[0m\u001b[0;34m(\u001b[0m\u001b[0my_test\u001b[0m\u001b[0;34m,\u001b[0m \u001b[0my_pred\u001b[0m\u001b[0;34m)\u001b[0m\u001b[0;34m,\u001b[0m\u001b[0;34m\u001b[0m\u001b[0m\n",
      "\u001b[0;32m/anaconda3/lib/python3.6/site-packages/sklearn/metrics/ranking.py\u001b[0m in \u001b[0;36mroc_auc_score\u001b[0;34m(y_true, y_score, average, sample_weight)\u001b[0m\n\u001b[1;32m    275\u001b[0m     return _average_binary_score(\n\u001b[1;32m    276\u001b[0m         \u001b[0m_binary_roc_auc_score\u001b[0m\u001b[0;34m,\u001b[0m \u001b[0my_true\u001b[0m\u001b[0;34m,\u001b[0m \u001b[0my_score\u001b[0m\u001b[0;34m,\u001b[0m \u001b[0maverage\u001b[0m\u001b[0;34m,\u001b[0m\u001b[0;34m\u001b[0m\u001b[0m\n\u001b[0;32m--> 277\u001b[0;31m         sample_weight=sample_weight)\n\u001b[0m\u001b[1;32m    278\u001b[0m \u001b[0;34m\u001b[0m\u001b[0m\n\u001b[1;32m    279\u001b[0m \u001b[0;34m\u001b[0m\u001b[0m\n",
      "\u001b[0;32m/anaconda3/lib/python3.6/site-packages/sklearn/metrics/base.py\u001b[0m in \u001b[0;36m_average_binary_score\u001b[0;34m(binary_metric, y_true, y_score, average, sample_weight)\u001b[0m\n\u001b[1;32m     73\u001b[0m \u001b[0;34m\u001b[0m\u001b[0m\n\u001b[1;32m     74\u001b[0m     \u001b[0;32mif\u001b[0m \u001b[0my_type\u001b[0m \u001b[0;34m==\u001b[0m \u001b[0;34m\"binary\"\u001b[0m\u001b[0;34m:\u001b[0m\u001b[0;34m\u001b[0m\u001b[0m\n\u001b[0;32m---> 75\u001b[0;31m         \u001b[0;32mreturn\u001b[0m \u001b[0mbinary_metric\u001b[0m\u001b[0;34m(\u001b[0m\u001b[0my_true\u001b[0m\u001b[0;34m,\u001b[0m \u001b[0my_score\u001b[0m\u001b[0;34m,\u001b[0m \u001b[0msample_weight\u001b[0m\u001b[0;34m=\u001b[0m\u001b[0msample_weight\u001b[0m\u001b[0;34m)\u001b[0m\u001b[0;34m\u001b[0m\u001b[0m\n\u001b[0m\u001b[1;32m     76\u001b[0m \u001b[0;34m\u001b[0m\u001b[0m\n\u001b[1;32m     77\u001b[0m     \u001b[0mcheck_consistent_length\u001b[0m\u001b[0;34m(\u001b[0m\u001b[0my_true\u001b[0m\u001b[0;34m,\u001b[0m \u001b[0my_score\u001b[0m\u001b[0;34m,\u001b[0m \u001b[0msample_weight\u001b[0m\u001b[0;34m)\u001b[0m\u001b[0;34m\u001b[0m\u001b[0m\n",
      "\u001b[0;32m/anaconda3/lib/python3.6/site-packages/sklearn/metrics/ranking.py\u001b[0m in \u001b[0;36m_binary_roc_auc_score\u001b[0;34m(y_true, y_score, sample_weight)\u001b[0m\n\u001b[1;32m    266\u001b[0m     \u001b[0;32mdef\u001b[0m \u001b[0m_binary_roc_auc_score\u001b[0m\u001b[0;34m(\u001b[0m\u001b[0my_true\u001b[0m\u001b[0;34m,\u001b[0m \u001b[0my_score\u001b[0m\u001b[0;34m,\u001b[0m \u001b[0msample_weight\u001b[0m\u001b[0;34m=\u001b[0m\u001b[0;32mNone\u001b[0m\u001b[0;34m)\u001b[0m\u001b[0;34m:\u001b[0m\u001b[0;34m\u001b[0m\u001b[0m\n\u001b[1;32m    267\u001b[0m         \u001b[0;32mif\u001b[0m \u001b[0mlen\u001b[0m\u001b[0;34m(\u001b[0m\u001b[0mnp\u001b[0m\u001b[0;34m.\u001b[0m\u001b[0munique\u001b[0m\u001b[0;34m(\u001b[0m\u001b[0my_true\u001b[0m\u001b[0;34m)\u001b[0m\u001b[0;34m)\u001b[0m \u001b[0;34m!=\u001b[0m \u001b[0;36m2\u001b[0m\u001b[0;34m:\u001b[0m\u001b[0;34m\u001b[0m\u001b[0m\n\u001b[0;32m--> 268\u001b[0;31m             raise ValueError(\"Only one class present in y_true. ROC AUC score \"\n\u001b[0m\u001b[1;32m    269\u001b[0m                              \"is not defined in that case.\")\n\u001b[1;32m    270\u001b[0m \u001b[0;34m\u001b[0m\u001b[0m\n",
      "\u001b[0;31mValueError\u001b[0m: Only one class present in y_true. ROC AUC score is not defined in that case."
     ]
    }
   ],
   "source": [
    "index_split = int(len(X)/2)#split index in by length of X/2\n",
    "X_train, y_train = SMOTE().fit_sample(X_scaled[0:index_split, :], y[0:index_split])\n",
    "#use SMOTE to fit sample\n",
    "#Define X parameter to fit to and Y\n",
    "#new training data set\n",
    "X_test, y_test = X_scaled[index_split:], y[index_split:]\n",
    "#define test data\n",
    "\n",
    "#scores = cross_val_score(clf, X_scaled, y , cv=5, scoring='roc_auc')"
   ]
  },
  {
   "cell_type": "code",
   "execution_count": null,
   "metadata": {},
   "outputs": [],
   "source": [
    "models_report_bal, conf_matrix_bal = run_models(X_train, y_train, X_test, y_test, model_type = 'Balanced')\n",
    "#same as before, but change model type to balanced now\n",
    "#The “balanced” mode uses the values of y to automatically adjust weights \n",
    "#inversely proportional to class frequencies in the input data as n_samples / (n_classes * np.bincount(y))"
   ]
  },
  {
   "cell_type": "code",
   "execution_count": null,
   "metadata": {},
   "outputs": [],
   "source": [
    "models_report_bal #balanced report"
   ]
  },
  {
   "cell_type": "code",
   "execution_count": null,
   "metadata": {},
   "outputs": [],
   "source": [
    "conf_matrix_bal['RandomForestClassifier'] #balanced logistic regression"
   ]
  },
  {
   "cell_type": "code",
   "execution_count": 41,
   "metadata": {
    "_cell_guid": "b55d0ff0-54f5-4979-bf59-bb6f904f73cc",
    "_uuid": "3c4b617386fd76f71d245e4f682894882ac1fab9"
   },
   "outputs": [
    {
     "data": {
      "text/html": [
       "<div>\n",
       "<style>\n",
       "    .dataframe thead tr:only-child th {\n",
       "        text-align: right;\n",
       "    }\n",
       "\n",
       "    .dataframe thead th {\n",
       "        text-align: left;\n",
       "    }\n",
       "\n",
       "    .dataframe tbody tr th {\n",
       "        vertical-align: top;\n",
       "    }\n",
       "</style>\n",
       "<table border=\"1\" class=\"dataframe\">\n",
       "  <thead>\n",
       "    <tr style=\"text-align: right;\">\n",
       "      <th>Predicted</th>\n",
       "      <th>0</th>\n",
       "      <th>1</th>\n",
       "    </tr>\n",
       "    <tr>\n",
       "      <th>True</th>\n",
       "      <th></th>\n",
       "      <th></th>\n",
       "    </tr>\n",
       "  </thead>\n",
       "  <tbody>\n",
       "    <tr>\n",
       "      <th>0</th>\n",
       "      <td>1245342</td>\n",
       "      <td>2453</td>\n",
       "    </tr>\n",
       "    <tr>\n",
       "      <th>1</th>\n",
       "      <td>24975</td>\n",
       "      <td>2990</td>\n",
       "    </tr>\n",
       "  </tbody>\n",
       "</table>\n",
       "</div>"
      ],
      "text/plain": [
       "Predicted        0     1\n",
       "True                    \n",
       "0          1245342  2453\n",
       "1            24975  2990"
      ]
     },
     "execution_count": 41,
     "metadata": {},
     "output_type": "execute_result"
    }
   ],
   "source": [
    "conf_matrix_bal['LogisticRegression'] #the confidence matrix for logistic regression"
   ]
  }
 ],
 "metadata": {
  "kernelspec": {
   "display_name": "Python 3",
   "language": "python",
   "name": "python3"
  },
  "language_info": {
   "codemirror_mode": {
    "name": "ipython",
    "version": 3
   },
   "file_extension": ".py",
   "mimetype": "text/x-python",
   "name": "python",
   "nbconvert_exporter": "python",
   "pygments_lexer": "ipython3",
   "version": "3.6.5"
  }
 },
 "nbformat": 4,
 "nbformat_minor": 1
}
